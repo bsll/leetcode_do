{
 "cells": [
  {
   "cell_type": "markdown",
   "metadata": {},
   "source": "给定一个 n 个元素有序的（升序）整型数组 nums 和一个目标值 target  ，写一个函数搜索 nums 中的 target，如果目标值存在返回下标，否则返回 -1。\n\n\n示例 1:\n\n输入: nums = [-1,0,3,5,9,12], target = 9\n输出: 4\n解释: 9 出现在 nums 中并且下标为 4\n示例 2:\n\n输入: nums = [-1,0,3,5,9,12], target = 2\n输出: -1\n解释: 2 不存在 nums 中因此返回 -1\n \n\n提示：\n\n你可以假设 nums 中的所有元素是不重复的。\nn 将在 [1, 10000]之间。\nnums 的每个元素都将在 [-9999, 9999]之间。\n\n来源：力扣（LeetCode）\n链接：https://leetcode.cn/problems/binary-search\n著作权归领扣网络所有。商业转载请联系官方授权，非商业转载请注明出处。"
  },
  {
   "cell_type": "code",
   "execution_count": null,
   "id": "4b45b325",
   "metadata": {},
   "outputs": [],
   "source": "'''\n解题思路：二分查找不解释\n'''\nclass Solution(object):\n    def search(self, nums, target):\n        \"\"\"\n        :type nums: List[int]\n        :type target: int\n        :rtype: int\n        \"\"\"\n        end = len(nums) - 1\n        start = 0\n        while start <= end:\n            mid = (end - start) // 2 + start\n            if nums[mid] == target:\n                return mid\n            elif nums[mid] < target:\n                start = mid + 1\n            else:\n                end = mid - 1\n        return -1\nif __name__ == \"__main__\":\n    soultion = Solution()\n    nums1 = [-1,0,3,5,9,12]\n    res = soultion.search(nums1,9)\n    print(res)\n    nums1 = [-1,0,3,5,9,12]\n    res = soultion.search(nums1,2)\n    print(res)"
  }
 ],
 "metadata": {
  "jupytext": {
   "cell_metadata_filter": "-all",
   "encoding": "# -*- coding: utf-8 -*-",
   "executable": "/usr/bin/env python"
  },
  "kernelspec": {
   "display_name": "Python 3 (ipykernel)",
   "language": "python",
   "name": "python3"
  }
 },
 "nbformat": 4,
 "nbformat_minor": 5
}