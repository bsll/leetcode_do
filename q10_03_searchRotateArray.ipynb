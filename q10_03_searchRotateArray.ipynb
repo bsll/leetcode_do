{
 "cells": [
  {
   "cell_type": "markdown",
   "metadata": {},
   "source": "搜索旋转数组。给定一个排序后的数组，包含n个整数，但这个数组已被旋转过很多次了，次数不详。请编写代码找出数组中的某个元素，假设数组元素原先是按升序排列的。若有多个相同元素，返回索引值最小的一个。\n\n示例1:\n\n 输入: arr = [15, 16, 19, 20, 25, 1, 3, 4, 5, 7, 10, 14], target = 5\n 输出: 8（元素5在该数组中的索引）\n示例2:\n\n 输入：arr = [15, 16, 19, 20, 25, 1, 3, 4, 5, 7, 10, 14], target = 11\n 输出：-1 （没有找到）\n提示:\n\narr 长度范围在[1, 1000000]之间"
  },
  {
   "cell_type": "code",
   "execution_count": null,
   "id": "85fc68cc",
   "metadata": {},
   "outputs": [],
   "source": "'''\n解题思路：二分查找，不过需要几个点：1、每次判断最左边是否是目标值\n                               2、如果中间值等于目标值，不能直接返回，而是中间值作为右边界使用\n                               3、如果中间值等于左边，或者等于右边，无法判断是否有序，则左边右移，右边左移\n'''\n#class Solution(object):\n#    def search(self, arr, target):\n#        \"\"\"\n#        :type arr: List[int]\n#        :type target: int\n#        :rtype: int\n#        \"\"\"\n#        #try:\n#        #    return arr.index(target)\n#        #except:\n#        #    return -1\n#        end = len(arr) - 1\n#        start = 0\n#        mid = -1\n#        while start <= end:\n#            mid = (end - start) // 2 + start\n#            if arr[mid] == target:\n#                break\n#            # 如果右边有序\n#            if arr[mid] < arr[end]:\n#                if arr[mid] <= target <= arr[end]:\n#                    start = mid + 1\n#                else:\n#                    end = mid - 1\n#            elif arr[mid] > arr[end]:\n#                # 如果左边有序\n#                if arr[start] <= target <= arr[mid]:\n#                    end = mid - 1\n#                else:\n#                    start = mid + 1\n#            else:\n#                if arr[mid] == arr[end]:\n#                    end = end -1\n#                if arr[mid] == arr[start]:\n#                    start = start + 1\n#        if arr[mid] == target:\n#            if mid == 0:\n#                return mid\n#            else:\n#                if arr[mid-1] == target:\n#                    while mid>=0 and arr[mid] == target:\n#                        mid -= 1\n#                    return mid + 1\n#                else:\n#                    if arr[0] == target:\n#                        return 0\n#                    else:\n#                        return mid\n#        else:\n#            return -1\nclass Solution(object):\n    def search(self, arr, target):\n        \"\"\"\n        :type arr: List[int]\n        :type target: int\n        :rtype: int\n        \"\"\"\n        #try:\n        #    return arr.index(target)\n        #except:\n        #    return -1\n        end = len(arr) - 1\n        start = 0\n        while start <= end:\n            #note1: 如果左边符合，直接返回，因为要找最小的索引\n            if arr[start] == target:\n                return start\n            mid = (end - start) // 2 + start\n            #note2: 如果中间值等于目标，不能直接返回结果，因为要找最小的索引，所以右边界等于中间值\n            if arr[mid] == target:\n                end = mid\n            # 如果右边有序\n            elif arr[mid] < arr[end]:\n                if arr[mid] <= target <= arr[end]:\n                    start = mid + 1\n                else:\n                    end = mid - 1\n            # 如果左边有序\n            elif arr[mid] > arr[end]:\n                if arr[start] <= target <= arr[mid]:\n                    end = mid - 1\n                else:\n                    start = mid + 1\n            elif arr[mid] == arr[end]:\n                #note3: 如果中间值等于最后的值，且中间值等于开始的值，但是中间值不等于target\n                # 右边左移，左边右移，这个时候时间复杂度会很差，相当于o(n)\n                end -= 1\n                if arr[mid] == arr[start]:\n                    start = start + 1\n        return -1"
  },
  {
   "cell_type": "code",
   "execution_count": null,
   "id": "011d5ab5",
   "metadata": {},
   "outputs": [],
   "source": [
    "if __name__ == \"__main__\":\n",
    "    soultion = Solution()\n",
    "    nums1 = [15, 16, 19, 20, 25, 1, 3, 4, 5, 7, 10, 14]\n",
    "    res = soultion.search(nums1,5)\n",
    "    print(res)\n",
    "    nums1 = [15, 16, 19, 20, 25, 1, 3, 4, 5, 7, 10, 14]\n",
    "    res = soultion.search(nums1,11)\n",
    "    print(res)\n",
    "    nums1 = [15]\n",
    "    res = soultion.search(nums1,15)\n",
    "    print(res)\n",
    "    nums1 = [1,1,1,1,1,2,1,1,1]\n",
    "    res = soultion.search(nums1,2)\n",
    "    print(res)\n",
    "    nums1 = [5,5,5,1,2,3,4,5]\n",
    "    res = soultion.search(nums1,5)\n",
    "    print(res)\n",
    "    nums1 = [12, 20, -21, -21, -19, -14, -11, -8, -8, -8, -6, -6, -4, -4, 0, 1, 5, 5, 6, 11, 11, 12]\n",
    "    res = soultion.search(nums1,-8)\n",
    "    print(res)"
   ]
  }
 ],
 "metadata": {
  "jupytext": {
   "cell_metadata_filter": "-all",
   "encoding": "# -*- coding: utf-8 -*-",
   "executable": "/usr/bin/env python"
  },
  "kernelspec": {
   "display_name": "Python 3 (ipykernel)",
   "language": "python",
   "name": "python3"
  }
 },
 "nbformat": 4,
 "nbformat_minor": 5
}