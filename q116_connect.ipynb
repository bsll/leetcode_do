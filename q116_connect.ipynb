{
 "cells": [
  {
   "cell_type": "markdown",
   "metadata": {},
   "source": "给定一个 完美二叉树 ，其所有叶子节点都在同一层，每个父节点都有两个子节点。二叉树定义如下：\n\nstruct Node {\n  int val;\n  Node *left;\n  Node *right;\n  Node *next;\n}\n填充它的每个 next 指针，让这个指针指向其下一个右侧节点。如果找不到下一个右侧节点，则将 next 指针设置为 NULL。\n\n初始状态下，所有 next 指针都被设置为 NULL。\n\n \n\n示例 1：\n\n\n\n输入：root = [1,2,3,4,5,6,7]\n输出：[1,#,2,3,#,4,5,6,7,#]\n解释：给定二叉树如图 A 所示，你的函数应该填充它的每个 next 指针，以指向其下一个右侧节点，如图 B 所示。序列化的输出按层序遍历排列，同一层节点由 next 指针连接，'#' 标志着每一层的结束。\n示例 2:\n\n输入：root = []\n输出：[]\n \n\n提示：\n\n树中节点的数量在 [0, 212 - 1] 范围内\n-1000 <= node.val <= 1000"
  },
  {
   "cell_type": "code",
   "execution_count": null,
   "id": "1cb0f673",
   "metadata": {},
   "outputs": [],
   "source": "'''\n思路: 层级遍历，然后挨个指一下\n'''\nfrom hot100.utils import generate_tree\nclass Solution(object):\n    def connect(self, root):\n        \"\"\"\n        :type root: Node\n        :rtype: Node\n        \"\"\"\n        if root == None:\n            return root\n        tmp = [root]\n        while tmp != []:\n            tmp1 = []\n            for key in tmp:\n                if key.left != None:\n                    tmp1.append(key.left)\n                if key.right != None:\n                    tmp1.append(key.right)\n            for i in range(len(tmp1)-1):\n                tmp1[i].next = tmp1[i+1]\n            tmp = tmp1\n        return root"
  },
  {
   "cell_type": "code",
   "execution_count": null,
   "id": "a523e493",
   "metadata": {
    "lines_to_next_cell": 2
   },
   "outputs": [],
   "source": []
  }
 ],
 "metadata": {
  "jupytext": {
   "cell_metadata_filter": "-all",
   "encoding": "# -*- coding: utf-8 -*-",
   "executable": "/usr/bin/env python"
  },
  "kernelspec": {
   "display_name": "Python 3 (ipykernel)",
   "language": "python",
   "name": "python3"
  }
 },
 "nbformat": 4,
 "nbformat_minor": 5
}