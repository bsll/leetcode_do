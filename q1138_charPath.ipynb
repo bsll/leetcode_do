{
 "cells": [
  {
   "cell_type": "markdown",
   "metadata": {},
   "source": "我们从一块字母板上的位置 (0, 0) 出发，该坐标对应的字符为 board[0][0]。\n\n在本题里，字母板为board = [\"abcde\", \"fghij\", \"klmno\", \"pqrst\", \"uvwxy\", \"z\"]，如下所示。\n\n\n\n我们可以按下面的指令规则行动：\n\n如果方格存在，'U' 意味着将我们的位置上移一行；\n如果方格存在，'D' 意味着将我们的位置下移一行；\n如果方格存在，'L' 意味着将我们的位置左移一列；\n如果方格存在，'R' 意味着将我们的位置右移一列；\n'!' 会把在我们当前位置 (r, c) 的字符 board[r][c] 添加到答案中。\n（注意，字母板上只存在有字母的位置。）\n\n返回指令序列，用最小的行动次数让答案和目标 target 相同。你可以返回任何达成目标的路径。\n\n来源：力扣（LeetCode）\n链接：https://leetcode.cn/problems/alphabet-board-path\n著作权归领扣网络所有。商业转载请联系官方授权，非商业转载请注明出处。"
  },
  {
   "cell_type": "code",
   "execution_count": null,
   "id": "5287dcc4",
   "metadata": {},
   "outputs": [],
   "source": ""
  },
  {
   "cell_type": "code",
   "execution_count": null,
   "id": "131e8d35",
   "metadata": {
    "lines_to_next_cell": 1
   },
   "outputs": [],
   "source": [
    "'''\n",
    "题目思路:把每个字符对应的位置映射存下来，然后根据坐标，判断上下左右，字母Z可能需要特殊处理\n",
    "常规思路：其他字母到Z,先左右后上下\n",
    "Z到其他字母,先上下后左右\n",
    "当成越界问题考虑\n",
    "\n",
    "优化思路：\n",
    "无论哪种情况，一招上左下右的顺序移动就可以\n",
    "'''\n",
    "class Solution(object):\n",
    "    def alphabetBoardPath(self, target):\n",
    "        \"\"\"\n",
    "        :type target: str\n",
    "        :rtype: str\n",
    "        \"\"\"\n",
    "        #board = [\"abcde\", \"fghij\", \"klmno\", \"pqrst\", \"uvwxy\", \"z\"]\n",
    "        #res = {}\n",
    "        #for key in range(len(board)):\n",
    "        #    for item in range(len(board[key])):\n",
    "        #        res[board[key][item]] = (key,item)\n",
    "        res = {}\n",
    "        for i in range(26):\n",
    "            res[chr(i+97)] = (i//5,i%5)\n",
    "        cur_j = 0\n",
    "        cur_i = 0\n",
    "        path = \"\"\n",
    "        for char in target:\n",
    "            target_i,target_j = res[char]\n",
    "            while target_i < cur_i:\n",
    "                path += 'U'\n",
    "                cur_i -= 1\n",
    "            while target_j < cur_j:\n",
    "                path += 'L'\n",
    "                cur_j -= 1\n",
    "            while target_i > cur_i:\n",
    "                path += 'D'\n",
    "                cur_i += 1\n",
    "            while target_j > cur_j:\n",
    "                path += \"R\"\n",
    "                cur_j += 1\n",
    "            path += '!'\n",
    "        return path\n",
    "        #res = {}\n",
    "        #for i in range(26):\n",
    "        #    res[chr(i+97)] = (i//5,i%5)\n",
    "        #cur_i = 0\n",
    "        #cur_j = 0\n",
    "        #path = \"\"\n",
    "        #for char in target:\n",
    "        #    target_i,target_j = res[char]\n",
    "        #    dx = target_i - cur_i\n",
    "        #    dy = target_j - cur_j\n",
    "        #    if dx < 0:\n",
    "        #        path += 'U' * (-dx)\n",
    "        #    if dy < 0:\n",
    "        #        path += 'L' * (-dy)\n",
    "        #    if dx > 0:\n",
    "        #        path += 'D' * dx\n",
    "        #    if dy > 0:\n",
    "        #        path += 'R' * dy\n",
    "        #    path += '!'\n",
    "        #    cur_i = target_i\n",
    "        #    cur_j = target_j\n",
    "        #return path"
   ]
  },
  {
   "cell_type": "code",
   "execution_count": null,
   "id": "f4017146",
   "metadata": {},
   "outputs": [],
   "source": [
    "if __name__ == \"__main__\":\n",
    "    soultion = Solution()\n",
    "    target = 'zb'\n",
    "    res = soultion.alphabetBoardPath(target)\n",
    "    print(res)\n",
    "    target = 'zdz'\n",
    "    res = soultion.alphabetBoardPath(target)\n",
    "    print(res)"
   ]
  }
 ],
 "metadata": {
  "jupytext": {
   "cell_metadata_filter": "-all",
   "encoding": "# -*- coding: utf-8 -*-",
   "executable": "/usr/bin/env python"
  },
  "kernelspec": {
   "display_name": "Python 3 (ipykernel)",
   "language": "python",
   "name": "python3"
  }
 },
 "nbformat": 4,
 "nbformat_minor": 5
}