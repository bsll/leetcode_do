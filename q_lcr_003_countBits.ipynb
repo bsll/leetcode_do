{
 "cells": [
  {
   "cell_type": "markdown",
   "id": "07feeb31",
   "metadata": {},
   "source": [
    "给定一个非负整数 n ，请计算 0 到 n 之间的每个数字的二进制表示中 1 的个数，并输出一个数组。\n",
    "\n",
    " \n",
    "\n",
    "示例 1:\n",
    "\n",
    "输入: n = 2\n",
    "输出: [0,1,1]\n",
    "解释: \n",
    "0 --> 0\n",
    "1 --> 1\n",
    "2 --> 10\n",
    "示例 2:\n",
    "\n",
    "输入: n = 5\n",
    "输出: [0,1,1,2,1,2]\n",
    "解释:\n",
    "0 --> 0\n",
    "1 --> 1\n",
    "2 --> 10\n",
    "3 --> 11\n",
    "4 --> 100\n",
    "5 --> 101\n",
    " \n",
    "\n",
    "说明 :\n",
    "\n",
    "0 <= n <= 105\n",
    " \n",
    "\n",
    "进阶:\n",
    "\n",
    "给出时间复杂度为 O(n*sizeof(integer)) 的解答非常容易。但你可以在线性时间 O(n) 内用一趟扫描做到吗？\n",
    "要求算法的空间复杂度为 O(n) 。\n",
    "你能进一步完善解法吗？要求在C++或任何其他语言中不使用任何内置函数（如 C++ 中的 __builtin_popcount ）来执行此操作。"
   ]
  },
  {
   "cell_type": "code",
   "execution_count": null,
   "id": "ddbd78af",
   "metadata": {
    "lines_to_next_cell": 2
   },
   "outputs": [],
   "source": [
    "'''\n",
    "思路：利用 n = n & n-1 每次会消除一个 1，直到 n = 0\n",
    "'''\n",
    "class Solution(object):\n",
    "    def countBits(self, n):\n",
    "        \"\"\"\n",
    "        :type n: int\n",
    "        :rtype: List[int]\n",
    "        \"\"\"\n",
    "        def countn(n):\n",
    "            count = 0\n",
    "            while n != 0:\n",
    "                n = n & (n-1)\n",
    "                count += 1\n",
    "            return count\n",
    "        res = []\n",
    "        for i in range(0,n+1):\n",
    "            res.append(countn(i))\n",
    "        return res\n",
    "if __name__ == \"__main__\":\n",
    "    sou = Solution()\n",
    "    n = 5\n",
    "    print(sou.countBits(n))"
   ]
  }
 ],
 "metadata": {
  "jupytext": {
   "cell_metadata_filter": "-all",
   "encoding": "# -*- coding: utf-8 -*-",
   "executable": "/usr/bin/env python"
  },
  "kernelspec": {
   "display_name": "Python 3 (ipykernel)",
   "language": "python",
   "name": "python3"
  }
 },
 "nbformat": 4,
 "nbformat_minor": 5
}
