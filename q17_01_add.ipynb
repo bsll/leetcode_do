{
 "cells": [
  {
   "cell_type": "markdown",
   "metadata": {},
   "source": "面试题 17.01. 不用加号的加法\n设计一个函数把两个数字相加。不得使用 + 或者其他算术运算符。\n示例：\n\n输入：a = 1, b = 1\n输出：2\n \n提示：\na, b 均可能是负数或 0\n结果不会溢出 32 位整数"
  },
  {
   "cell_type": "code",
   "execution_count": null,
   "id": "05040c78",
   "metadata": {},
   "outputs": [],
   "source": "'''\n思路：使用异或\n'''\nclass Solution(object):\n    def add(self, a, b):\n        \"\"\"\n        :type a: int\n        :type b: int\n        :rtype: int\n        \"\"\"\n        # 32位全1掩码\n        x = 0xffffffff\n        # 限制 a,b 为 32 位无符号数\n        a , b = a & x, b & x\n        while b != 0:\n            # 异或（^）计算无进位和\n            # 与+左移（&和<<）计算进位，并继续循环处理。\n            a, b = (a ^ b), (a & b) << 1 & x\n        # 最大32位正数（0x7fffffff = 2^31-1）\n        if a <= 0x7fffffff:\n            return a\n        else:\n            # 补码转负数\n            return ~(a^x)\nif __name__ == \"__main__\":\n    s = Solution()\n    print(s.add(1,1))"
  }
 ],
 "metadata": {
  "jupytext": {
   "cell_metadata_filter": "-all",
   "encoding": "# -*- coding: utf-8 -*-",
   "executable": "/usr/bin/env python"
  },
  "kernelspec": {
   "display_name": "Python 3 (ipykernel)",
   "language": "python",
   "name": "python3"
  }
 },
 "nbformat": 4,
 "nbformat_minor": 5
}