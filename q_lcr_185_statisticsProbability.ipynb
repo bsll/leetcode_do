{
 "cells": [
  {
   "cell_type": "markdown",
   "metadata": {},
   "source": "代码\n测试用例\n测试结果\n测试结果\nLCR 185. 统计结果概率\n已解答\n中等\n相关标签\n相关企业\n你选择掷出 num 个色子，请返回所有点数总和的概率。\n\n你需要用一个浮点数数组返回答案，其中第 i 个元素代表这 num 个骰子所能掷出的点数集合中第 i 小的那个的概率。\n\n \n\n示例 1：\n\n输入：num = 3\n输出：[0.00463,0.01389,0.02778,0.04630,0.06944,0.09722,0.11574,0.12500,0.12500,0.11574,0.09722,0.06944,0.04630,0.02778,0.01389,0.00463]\n示例 2：\n\n输入：num = 5\n输出:[0.00013,0.00064,0.00193,0.00450,0.00900,0.01620,0.02636,0.03922,0.05401,0.06944,0.08372,0.09452,0.10031,0.10031,0.09452,0.08372,0.06944,0.05401,0.03922,0.02636,0.01620,0.00900,0.00450,0.00193,0.00064,0.00013]\n \n\n提示：\n\n1 <= num <= 11"
  },
  {
   "cell_type": "code",
   "execution_count": null,
   "id": "fe10c5f7",
   "metadata": {},
   "outputs": [],
   "source": "'''\n思路: 动态规划 dp2[j+k] = dp2[j+k] + dp1[j] / 6.0 ,k in [0,5]\n'''\nclass Solution(object):\n    def statisticsProbability(self, num):\n        \"\"\"\n        :type num: int\n        :rtype: List[float]\n        \"\"\"\n        dp1 = [1/6] * 6\n        # 从 2 个骰子开始，逐步计算到 n 个骰子。\n        for i in range(2,num+1):\n            # 长度为 5i + 1，对应 i 个骰子的可能和数量。\n            dp2 = [0] * (5 * i + 1)\n            # 遍历前 i-1 个骰子的所有可能和（dp1 的索引 j）。\n            for j in range(len(dp1)):\n                for k in range(6):\n                    # 对于每个可能的旧和 j，\n                    # 新增骰子的点数 k+1（k 为 0-5），\n                    # 将概率累加到 dp2[j+k]。\n                    dp2[j+k] = dp2[j+k] + dp1[j] / 6.0\n            dp1 = dp2\n        return dp1\nsou = Solution()\nprint(sou.statisticsProbability(2))"
  }
 ],
 "metadata": {
  "jupytext": {
   "cell_metadata_filter": "-all",
   "encoding": "# -*- coding: utf-8 -*-",
   "executable": "/usr/bin/env python"
  },
  "kernelspec": {
   "display_name": "Python 3 (ipykernel)",
   "language": "python",
   "name": "python3"
  }
 },
 "nbformat": 4,
 "nbformat_minor": 5
}