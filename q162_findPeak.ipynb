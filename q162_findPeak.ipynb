{
 "cells": [
  {
   "cell_type": "markdown",
   "metadata": {},
   "source": "峰值元素是指其值严格大于左右相邻值的元素。\n\n给你一个整数数组 nums，找到峰值元素并返回其索引。数组可能包含多个峰值，在这种情况下，返回 任何一个峰值 所在位置即可。\n\n你可以假设 nums[-1] = nums[n] = -∞ 。\n\n你必须实现时间复杂度为 O(log n) 的算法来解决此问题。\n\n \n\n示例 1：\n\n输入：nums = [1,2,3,1]\n输出：2\n解释：3 是峰值元素，你的函数应该返回其索引 2。\n示例 2：\n\n输入：nums = [1,2,1,3,5,6,4]\n输出：1 或 5\n解释：你的函数可以返回索引 1，其峰值元素为 2；\n     或者返回索引 5， 其峰值元素为 6。\n \n\n提示：\n\n1 <= nums.length <= 1000\n-231 <= nums[i] <= 231 - 1\n对于所有有效的 i 都有 nums[i] != nums[i + 1]\n\n来源：力扣（LeetCode）\n链接：https://leetcode.cn/problems/find-peak-element\n著作权归领扣网络所有。商业转载请联系官方授权，非商业转载请注明出处。"
  },
  {
   "cell_type": "code",
   "execution_count": null,
   "id": "47e96402",
   "metadata": {},
   "outputs": [],
   "source": "'''\n解题思路：典型二分查找，找中间那个值，根据值和左右的比较结果，看是往左边走还是右边走，长度为0和1的特殊处理下\n'''\nclass Solution(object):\n    def findPeakElement(self, nums):\n        \"\"\"\n        :type nums: List[int]\n        :rtype: int\n        \"\"\"\n        len1 = len(nums)\n        if len1 == 1:\n            return 0\n        if len1 == 2:\n            if nums[0] > nums[1]:\n                return 0\n            else:\n                return 1\n        start,end = 0, len(nums)\n        while start < end:\n            mid = start + (end-start)//2\n            if mid == len1-1 or mid == 0:\n                return mid\n            if nums[mid] > nums[mid-1] and nums[mid] > nums[mid+1]:\n                return mid\n            elif nums[mid] > nums[mid-1] and nums[mid] < nums[mid+1]:\n                start = mid\n            elif nums[mid] < nums[mid-1] and nums[mid] > nums[mid+1]:\n                end = mid\n            elif nums[mid] < nums[mid-1] and nums[mid] < nums[mid+1]:\n                end = mid"
  },
  {
   "cell_type": "code",
   "execution_count": null,
   "id": "d032e8e2",
   "metadata": {},
   "outputs": [],
   "source": [
    "if __name__ == \"__main__\":\n",
    "    soultion = Solution()\n",
    "    nums = [1,2,3,1]\n",
    "    print(soultion.findPeakElement(nums))\n",
    "    nums = [1,2,1,3,5,6,4]\n",
    "    print(soultion.findPeakElement(nums))\n",
    "    nums = [1,2,3]\n",
    "    print(soultion.findPeakElement(nums))"
   ]
  }
 ],
 "metadata": {
  "jupytext": {
   "cell_metadata_filter": "-all",
   "encoding": "# -*- coding: utf-8 -*-",
   "executable": "/usr/bin/env python"
  },
  "kernelspec": {
   "display_name": "Python 3 (ipykernel)",
   "language": "python",
   "name": "python3"
  }
 },
 "nbformat": 4,
 "nbformat_minor": 5
}