{
 "cells": [
  {
   "cell_type": "markdown",
   "metadata": {},
   "source": "编写一个函数来查找字符串数组中的最长公共前缀。\n如果不存在公共前缀，返回空字符串 \"\"。\nhttps://leetcode.cn/problems/longest-common-prefix/\n依次遍历，提前退出"
  },
  {
   "cell_type": "code",
   "execution_count": null,
   "id": "fe4c3459",
   "metadata": {
    "lines_to_next_cell": 1
   },
   "outputs": [],
   "source": "class Solution(object):\n    def longestCommonPrefix(self, strs):\n        \"\"\"\n        :type strs: List[str]\n        :rtype: str\n        \"\"\"\n        common_str = \"\"\n        if len(strs) == 0:\n            return common_str\n        if len(strs) == 1:\n            return strs[0]\n        len1, len2 = len(strs[0]), len(strs[1])\n        j = 0\n        while j < len1 and j < len2:\n            if strs[0][j] == strs[1][j]:\n                common_str += strs[0][j]\n                j += 1\n            else:\n                break\n        if len(strs) == 2:\n            return common_str\n        else:\n            cur_common = common_str\n        if cur_common == \"\":\n            return cur_common\n        for i in range(2,len(strs)):\n            len1,len2 = len(cur_common),len(strs[i])\n            tmp_common = \"\"\n            j = 0\n            while j < len1 and j < len2:\n                if cur_common[j] == strs[i][j]:\n                    tmp_common += strs[i][j]\n                    j += 1\n                else:\n                    break\n            cur_common = tmp_common\n            if cur_common == \"\":\n                break\n        return cur_common"
  },
  {
   "cell_type": "code",
   "execution_count": null,
   "id": "dd7fefca",
   "metadata": {},
   "outputs": [],
   "source": [
    "if __name__ == \"__main__\":\n",
    "    soultion = Solution()\n",
    "    strs = [\"flower\", \"flow\", \"flight\"]\n",
    "    print(soultion.longestCommonPrefix(strs))\n",
    "    strs = [\"dog\", \"racecar\", \"car\"]\n",
    "    print(soultion.longestCommonPrefix(strs))\n",
    "    strs = [\"a\",\"a\",\"b\"]\n",
    "    print(soultion.longestCommonPrefix(strs))"
   ]
  },
  {
   "cell_type": "code",
   "execution_count": null,
   "id": "5202cae9",
   "metadata": {
    "lines_to_next_cell": 2
   },
   "outputs": [],
   "source": []
  }
 ],
 "metadata": {
  "jupytext": {
   "cell_metadata_filter": "-all",
   "encoding": "# -*- coding: utf-8 -*-",
   "executable": "/usr/bin/env python"
  },
  "kernelspec": {
   "display_name": "Python 3 (ipykernel)",
   "language": "python",
   "name": "python3"
  }
 },
 "nbformat": 4,
 "nbformat_minor": 5
}