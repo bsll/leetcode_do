{
 "cells": [
  {
   "cell_type": "markdown",
   "metadata": {},
   "source": "为了深入了解这些生物群体的生态特征，你们进行了大量的实地观察和数据采集。数组 arrayA 记录了各个生物群体数量数据，其中 arrayA[i] 表示第 i 个生物群体的数量。请返回一个数组 arrayB，该数组为基于数组 arrayA 中的数据计算得出的结果，其中 arrayB[i] 表示将第 i 个生物群体的数量从总体中排除后的其他数量的乘积。\n\n \n\n示例 1：\n\n输入：arrayA = [2, 4, 6, 8, 10]\n输出：[1920, 960, 640, 480, 384]\n \n\n提示：\n\n所有元素乘积之和不会溢出 32 位整数\narrayA.length <= 100000"
  },
  {
   "cell_type": "code",
   "execution_count": null,
   "id": "8088681b",
   "metadata": {},
   "outputs": [],
   "source": "'''\n思路：1、暴力法 会超时\n     2、计算前缀积和后缀积，然后两个相乘\n    i 0 1 2 3 4\na 1 2 3 4 5 \n\nb0 = 1\nb1 = b0 * a0 = a0\nb2 = b1 * a1 = a0 * a1\nb3 = b2 * a2 = a0 * a1 * a2\nb4 = b3 * a3 = a0 * a1 * a2 * a3\n\ntmp = a4;                      b3 = b3 * a4                = a0 * a1 * a2 * a4 \ntmp = a4 * a3;                 b2 = b2 * a4 * a3           = a0 * a1 * a3 * a4 \ntmp = a4 * a3 * a2;            b1 = b1 * a4 * a3 * a2      = a0 * a2 * a3 * a4  \ntmp = a4 * a3 * a2 * a1;       b0 = b0 * a4 * a3 * a2 * a1 = a1 * a2 * a3 * a4  \n'''\nclass Solution(object):\n    def statisticalResult(self, a):\n        \"\"\"\n        :type arrayA: List[int]\n        :rtype: List[int]\n        这种比较好理解\n        \"\"\"\n        m = len(a)\n        b = [1] * m \n        # 计算前缀积\n        left = 1\n        for i in range(m):\n            b[i] = left\n            left = left * a[i]\n        # 计算后缀积\n        right = 1\n        for i in range(m-1, -1, -1):\n            b[i] *= right\n            right = right * a[i]\n        return b\n    def statisticalResult1(self, a):\n        \"\"\"\n        :type a: List[int]\n        :rtype: List[int]\n        \"\"\"\n        m = len(a)\n        b = [1] * m\n        tmp = 1\n        for i in range(1,m):\n            b[i] = b[i-1] * a[i-1]  # 下三角\n        for i in range(m-2,-1,-1):\n            tmp *= a[i+1]    #上三角\n            b[i] *= tmp\n        return b\nif __name__ == \"__main__\":\n    s = Solution()\n    a = [2, 4, 6, 8, 10]\n    print(s.statisticalResult(a))\n    print(s.statisticalResult1(a))"
  }
 ],
 "metadata": {
  "jupytext": {
   "cell_metadata_filter": "-all",
   "encoding": "# -*- coding: utf-8 -*-",
   "executable": "/usr/bin/env python"
  },
  "kernelspec": {
   "display_name": "Python 3 (ipykernel)",
   "language": "python",
   "name": "python3"
  }
 },
 "nbformat": 4,
 "nbformat_minor": 5
}