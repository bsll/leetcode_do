{
 "cells": [
  {
   "cell_type": "markdown",
   "metadata": {},
   "source": "给定一个 n 个元素有序的（升序）整型数组 nums 和一个目标值 target  ，写一个函数搜索 nums 中的 target，如果目标值存在返回下标，否则返回 -1。\n\n\n示例 1:\n\n输入: nums = [-1,0,3,5,9,12], target = 9\n输出: 4\n解释: 9 出现在 nums 中并且下标为 4\n示例 2:\n\n输入: nums = [-1,0,3,5,9,12], target = 2\n输出: -1\n解释: 2 不存在 nums 中因此返回 -1\n \n\n提示：\n\n你可以假设 nums 中的所有元素是不重复的。\nn 将在 [1, 10000]之间。\nnums 的每个元素都将在 [-9999, 9999]之间。"
  },
  {
   "cell_type": "code",
   "execution_count": null,
   "id": "529d3f20",
   "metadata": {},
   "outputs": [],
   "source": "'''\n思路：二分查找，注意不要越界就行了  mid = (end-start)//2 + start\n'''\nclass Solution(object):\n    def search(self, nums, target):\n        \"\"\"\n        :type nums: List[int]\n        :type target: int\n        :rtype: int\n        \"\"\"\n        end = len(nums) - 1\n        start = 0\n        while start <= end:\n            mid = (end - start)//2 + start\n            if nums[mid] == target:\n                return mid\n            elif nums[mid] < target:\n                start = mid + 1\n            else:\n                end = mid - 1\n        return -1\nif __name__ == \"__main__\":\n    s = Solution()\n    nums = [-1,0,3,5,9,12]\n    target = 9\n    print(s.search(nums,target))\n    nums = [-1,0,3,5,9,12]\n    target = 2\n    print(s.search(nums,target))"
  },
  {
   "cell_type": "code",
   "execution_count": null,
   "id": "8e1a3d3a",
   "metadata": {
    "lines_to_next_cell": 2
   },
   "outputs": [],
   "source": []
  }
 ],
 "metadata": {
  "jupytext": {
   "cell_metadata_filter": "-all",
   "encoding": "# -*- coding: utf-8 -*-",
   "executable": "/usr/bin/env python"
  },
  "kernelspec": {
   "display_name": "Python 3 (ipykernel)",
   "language": "python",
   "name": "python3"
  }
 },
 "nbformat": 4,
 "nbformat_minor": 5
}