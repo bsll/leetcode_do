{
 "cells": [
  {
   "cell_type": "markdown",
   "metadata": {},
   "source": "LCR 182. 动态口令\n已解答\n简单\n相关标签\n相关企业\n某公司门禁密码使用动态口令技术。初始密码为字符串 password，密码更新均遵循以下步骤：\n\n设定一个正整数目标值 target\n将 password 前 target 个字符按原顺序移动至字符串末尾\n请返回更新后的密码字符串。\n\n \n\n示例 1：\n\n输入: password = \"s3cur1tyC0d3\", target = 4\n输出: \"r1tyC0d3s3cu\"\n示例 2：\n\n输入: password = \"lrloseumgh\", target = 6\n输出: \"umghlrlose\"\n \n\n提示：\n\n1 <= target < password.length <= 10000"
  },
  {
   "cell_type": "code",
   "execution_count": null,
   "id": "ed671a32",
   "metadata": {},
   "outputs": [],
   "source": "'''\n思路：直接用切片就可以完成\n'''\nclass Solution(object):\n    def reverseLeftWords(self, s, n):\n        \"\"\"\n        :type s: str\n        :type n: int\n        :rtype: str\n        \"\"\"\n        chars = list(s)\n        n = n%len(s)\n        return \"\".join(chars[n:]+chars[:n])\nsou = Solution()\ns = \"abcdefg\"\nk = 2\nprint(sou.reverseLeftWords(s,k))\ns = \"lrloseumgh\"\nk = 6\nprint(sou.reverseLeftWords(s,k))"
  }
 ],
 "metadata": {
  "jupytext": {
   "cell_metadata_filter": "-all",
   "encoding": "# -*- coding: utf-8 -*-",
   "executable": "/usr/bin/env python"
  },
  "kernelspec": {
   "display_name": "Python 3 (ipykernel)",
   "language": "python",
   "name": "python3"
  }
 },
 "nbformat": 4,
 "nbformat_minor": 5
}