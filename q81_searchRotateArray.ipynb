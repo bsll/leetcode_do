{
 "cells": [
  {
   "cell_type": "markdown",
   "metadata": {},
   "source": "已知存在一个按非降序排列的整数数组 nums ，数组中的值不必互不相同。\n\n在传递给函数之前，nums 在预先未知的某个下标 k（0 <= k < nums.length）上进行了 旋转 ，使数组变为 [nums[k], nums[k+1], ..., nums[n-1], nums[0], nums[1], ..., nums[k-1]]（下标 从 0 开始 计数）。例如， [0,1,2,4,4,4,5,6,6,7] 在下标 5 处经旋转后可能变为 [4,5,6,6,7,0,1,2,4,4] 。\n\n给你 旋转后 的数组 nums 和一个整数 target ，请你编写一个函数来判断给定的目标值是否存在于数组中。如果 nums 中存在这个目标值 target ，则返回 true ，否则返回 false 。\n\n你必须尽可能减少整个操作步骤。\n\n \n\n示例 1：\n\n输入：nums = [2,5,6,0,0,1,2], target = 0\n输出：true\n示例 2：\n\n输入：nums = [2,5,6,0,0,1,2], target = 3\n输出：false\n \n\n提示：\n\n1 <= nums.length <= 5000\n-104 <= nums[i] <= 104\n题目数据保证 nums 在预先未知的某个下标上进行了旋转\n-104 <= target <= 104\n\n来源：力扣（LeetCode）\n链接：https://leetcode.cn/problems/search-in-rotated-sorted-array-ii\n著作权归领扣网络所有。商业转载请联系官方授权，非商业转载请注明出处。"
  },
  {
   "cell_type": "code",
   "execution_count": null,
   "id": "f66e98f9",
   "metadata": {},
   "outputs": [],
   "source": "'''\n解题思路：和找最小值的索引类似，不过这个判断相等就可以返回了，\n        判断方式还是左边有序，右边有序，或者无法判断有序的情况\n'''\nclass Solution(object):\n    def search(self, nums, target):\n        \"\"\"\n        :type nums: List[int]\n        :type target: int\n        :rtype: bool\n        \"\"\"\n        end = len(nums) - 1\n        start = 0\n        while start <= end:\n            mid = (end - start) // 2 + start\n            if nums[mid] == target:\n                return True\n            # 如果右边有序\n            elif nums[mid] < nums[end]:\n                if nums[mid] <= target <= nums[end]:\n                    start = mid + 1\n                else:\n                    end = mid - 1\n            # 如果左边有序\n            elif nums[mid] > nums[end]:\n                if nums[start] <= target <= nums[mid]:\n                    end = mid - 1\n                else:\n                    start = mid + 1\n            else:\n                end -= 1\n                if nums[start] == nums[mid]:\n                    start += 1\n        return False\nif __name__ == \"__main__\":\n    soultion = Solution()\n    nums1 = [15, 16, 19, 20, 25, 1, 3, 4, 5, 7, 10, 14]\n    res = soultion.search(nums1,5)\n    print(res)\n    nums1 = [15, 16, 19, 20, 25, 1, 3, 4, 5, 7, 10, 14]\n    res = soultion.search(nums1,11)\n    print(res)\n    nums1 = [15]\n    res = soultion.search(nums1,15)\n    print(res)\n    nums1 = [1,1,1,1,1,2,1,1,1]\n    res = soultion.search(nums1,2)\n    print(res)\n    nums1 = [5,5,5,1,2,3,4,5]\n    res = soultion.search(nums1,5)\n    print(res)\n    nums1 = [12, 20, -21, -21, -19, -14, -11, -8, -8, -8, -6, -6, -4, -4, 0, 1, 5, 5, 6, 11, 11, 12]\n    res = soultion.search(nums1,-8)\n    print(res)"
  }
 ],
 "metadata": {
  "jupytext": {
   "cell_metadata_filter": "-all",
   "encoding": "# -*- coding: utf-8 -*-",
   "executable": "/usr/bin/env python"
  },
  "kernelspec": {
   "display_name": "Python 3 (ipykernel)",
   "language": "python",
   "name": "python3"
  }
 },
 "nbformat": 4,
 "nbformat_minor": 5
}