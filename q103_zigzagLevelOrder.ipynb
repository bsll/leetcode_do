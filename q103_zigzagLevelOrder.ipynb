{
 "cells": [
  {
   "cell_type": "markdown",
   "metadata": {},
   "source": "给你二叉树的根节点 root ，返回其节点值的 锯齿形层序遍历 。（即先从左往右，再从右往左进行下一层遍历，以此类推，层与层之间交替进行）。\n\n示例 1：\n\n输入：root = [3,9,20,null,null,15,7]\n输出：[[3],[20,9],[15,7]]\n示例 2：\n\n输入：root = [1]\n输出：[[1]]\n示例 3：\n\n输入：root = []\n输出：[]\n\n提示：\n\n树中节点数目在范围 [0, 2000] 内\n-100 <= Node.val <= 100"
  },
  {
   "cell_type": "code",
   "execution_count": null,
   "id": "97907594",
   "metadata": {},
   "outputs": [],
   "source": "'''\n思路： 层级遍历，如果当前层是偶数，反转结果\n'''\nfrom hot100.utils import generate_tree\nclass Solution(object):\n    def zigzagLevelOrder(self, root):\n        \"\"\"\n        :type root: Optional[TreeNode]\n        :rtype: List[List[int]]\n        \"\"\"\n        if root == None:\n            return root\n        # 放层级遍历节点\n        tmp = [root]\n        # 放最终结果\n        tmp2 = []\n        i = 0\n        while tmp != []:\n            # 临时放层级遍历节点\n            tmp1 = []\n            # 临时放层级遍历结果\n            tmp3 = []\n            for key in tmp:\n                tmp3.append(key.val)\n                if key.left != None:\n                    tmp1.append(key.left)\n                if key.right != None:\n                    tmp1.append(key.right)\n            tmp = tmp1\n            if i % 2 == 0:\n                tmp2.append(tmp3)\n            else:\n                tmp2.append(tmp3[::-1])\n        return tmp2\nif __name__ == \"__main__\":\n    s = Solution()\n    root = [3,9,20,None,None,15,7]\n    print(s.zigzagLevelOrder(generate_tree(root)))"
  }
 ],
 "metadata": {
  "jupytext": {
   "cell_metadata_filter": "-all",
   "encoding": "# -*- coding: utf-8 -*-",
   "executable": "/usr/bin/env python"
  },
  "kernelspec": {
   "display_name": "Python 3 (ipykernel)",
   "language": "python",
   "name": "python3"
  }
 },
 "nbformat": 4,
 "nbformat_minor": 5
}