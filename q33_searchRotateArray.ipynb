{
 "cells": [
  {
   "cell_type": "markdown",
   "metadata": {},
   "source": "整数数组 nums 按升序排列，数组中的值 互不相同 。\n\n在传递给函数之前，nums 在预先未知的某个下标 k（0 <= k < nums.length）上进行了 旋转，使数组变为 [nums[k], nums[k+1], ..., nums[n-1], nums[0], nums[1], ..., nums[k-1]]（下标 从 0 开始 计数）。例如， [0,1,2,4,5,6,7] 在下标 3 处经旋转后可能变为 [4,5,6,7,0,1,2] 。\n\n给你 旋转后 的数组 nums 和一个整数 target ，如果 nums 中存在这个目标值 target ，则返回它的下标，否则返回 -1 。\n\n你必须设计一个时间复杂度为 O(log n) 的算法解决此问题。\n\n \n\n示例 1：\n\n输入：nums = [4,5,6,7,0,1,2], target = 0\n输出：4\n示例 2：\n\n输入：nums = [4,5,6,7,0,1,2], target = 3\n输出：-1\n示例 3：\n\n输入：nums = [1], target = 0\n输出：-1\n \n\n提示：\n\n1 <= nums.length <= 5000\n-104 <= nums[i] <= 104\nnums 中的每个值都 独一无二\n题目数据保证 nums 在预先未知的某个下标上进行了旋转\n-104 <= target <= 104\n\n来源：力扣（LeetCode）\n链接：https://leetcode.cn/problems/search-in-rotated-sorted-array\n著作权归领扣网络所有。商业转载请联系官方授权，非商业转载请注明出处。"
  },
  {
   "cell_type": "code",
   "execution_count": null,
   "id": "d840ea00",
   "metadata": {},
   "outputs": [],
   "source": "'''\n解题思路：先判断左边还是右边有序，在判断要找的target在不在有序地那边，\n'''\nclass Solution(object):\n    def search(self, nums, target):\n        \"\"\"\n        :type nums: List[int]\n        :type target: int\n        :rtype: int\n        \"\"\"\n        end = len(nums) - 1\n        start = 0\n        while start <= end:\n            mid = (end - start) // 2 + start\n            if nums[mid] == target:\n                return mid\n            #如果右边有序\n            if nums[mid] < nums[end]:\n                if  nums[mid] <= target <= nums[end]:\n                    start = mid + 1\n                else:\n                    end = mid - 1\n            else:\n                #如果左边有序\n                if nums[start] <= target <= nums[mid]:\n                    end = mid - 1\n                else:\n                    start = mid + 1\n        return -1"
  },
  {
   "cell_type": "code",
   "execution_count": null,
   "id": "6b7c5cd6",
   "metadata": {},
   "outputs": [],
   "source": [
    "if __name__ == \"__main__\":\n",
    "    soultion = Solution()\n",
    "    nums1 = [4,5,6,7,0,1,2]\n",
    "    res = soultion.search(nums1,0)\n",
    "    print(res)\n",
    "    nums1 = [4,5,6,7,0,1,2]\n",
    "    res = soultion.search(nums1,3)\n",
    "    print(res)\n",
    "    nums1 = [1]\n",
    "    res = soultion.search(nums1,0)\n",
    "    print(res)\n",
    "    nums1 = [4,5,6,7,8,1,2,3]\n",
    "    res = soultion.search(nums1,8)\n",
    "    print(res)\n",
    "    nums1 = [1,3]\n",
    "    res = soultion.search(nums1,3)\n",
    "    print(res)"
   ]
  }
 ],
 "metadata": {
  "jupytext": {
   "cell_metadata_filter": "-all",
   "encoding": "# -*- coding: utf-8 -*-",
   "executable": "/usr/bin/env python"
  },
  "kernelspec": {
   "display_name": "Python 3 (ipykernel)",
   "language": "python",
   "name": "python3"
  }
 },
 "nbformat": 4,
 "nbformat_minor": 5
}