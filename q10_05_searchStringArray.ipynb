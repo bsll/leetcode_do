{
 "cells": [
  {
   "cell_type": "markdown",
   "metadata": {},
   "source": "稀疏数组搜索。有个排好序的字符串数组，其中散布着一些空字符串，编写一种方法，找出给定字符串的位置。\n\n示例1:\n\n 输入: words = [\"at\", \"\", \"\", \"\", \"ball\", \"\", \"\", \"car\", \"\", \"\",\"dad\", \"\", \"\"], s = \"ta\"\n 输出：-1\n 说明: 不存在返回-1。\n示例2:\n\n 输入：words = [\"at\", \"\", \"\", \"\", \"ball\", \"\", \"\", \"car\", \"\", \"\",\"dad\", \"\", \"\"], s = \"ball\"\n 输出：4\n提示:\n\nwords的长度在[1, 1000000]之间\n\n\n来源：力扣（LeetCode）\n链接：https://leetcode.cn/problems/sparse-array-search-lcci\n著作权归领扣网络所有。商业转载请联系官方授权，非商业转载请注明出处。"
  },
  {
   "cell_type": "code",
   "execution_count": null,
   "id": "3c74e77a",
   "metadata": {},
   "outputs": [],
   "source": "'''\n解题思路：1、直接用字典记住位置，然后返回，因为很少，所以空间复杂度低，时间复杂度o(n)\n         2、二分查找，如果遇到空的时候，需要mid往左右找到有字母的边界，然后界定start和end的位置\n'''\nclass Solution(object):\n    def findString(self, words, s):\n        \"\"\"\n        :type words: List[str]\n        :type s: str\n        :rtype: int\n        \"\"\"\n        start,end = 0, len(words)-1\n        while start <= end:\n            mid = (end-start)// 2 + start\n            if  words[mid] == s:\n                return mid\n            if words[mid] == \"\":\n                mid1 = mid\n                mid2 = mid\n                while words[mid1] == \"\" and mid1 > 0:\n                    mid1 = mid1 -1\n                while words[mid2] == \"\" and mid2 < len(words)-1:\n                    mid2 = mid2 + 1\n                if words[mid1] < s:\n                    start = mid2 + 1\n                elif words[mid1] > s:\n                    end = mid1 - 1\n                elif words[mid1] == s:\n                    return mid1\n                elif words[mid2] == s:\n                    return mid2\n            else:\n                if words[mid] < s:\n                    start = mid + 1\n                else:\n                    end = mid -1\n        return -1\nif __name__ == \"__main__\":\n    soultion = Solution()\n    words = [\"at\", \"\", \"\", \"\", \"ball\", \"\", \"\", \"car\", \"\", \"\", \"dad\", \"\", \"\"]\n    s = \"ta\"\n    res = soultion.findString(words,s)\n    print(res)\n    words = [\"at\", \"\", \"\", \"\", \"ball\", \"\", \"\", \"car\", \"\", \"\", \"dad\", \"\", \"\"]\n    s = \"ball\"\n    res = soultion.findString(words,s)\n    print(res)\n    words = [\"DirNnILhARNS hOYIFB\", \"SM \", \"YSPBaovrZBS\", \"evMMBOf\", \"mCrS\", \"oRJfjw gwuo\", \"xOpSEXvfI\"]\n    s = \"mCrS\"\n    res = soultion.findString(words,s)\n    print(res)\n    words = [\"CitZMIXZKoFbxvOlaza\", \"hBlKXdKJfBD\"]\n    s = \"hBlKXdKJfBD\"\n    res = soultion.findString(words,s)\n    print(res)"
  }
 ],
 "metadata": {
  "jupytext": {
   "cell_metadata_filter": "-all",
   "encoding": "# -*- coding: utf-8 -*-",
   "executable": "/usr/bin/env python"
  },
  "kernelspec": {
   "display_name": "Python 3 (ipykernel)",
   "language": "python",
   "name": "python3"
  }
 },
 "nbformat": 4,
 "nbformat_minor": 5
}