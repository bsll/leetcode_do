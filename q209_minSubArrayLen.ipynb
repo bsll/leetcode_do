{
 "cells": [
  {
   "cell_type": "markdown",
   "metadata": {},
   "source": "给定一个含有 n 个正整数的数组和一个正整数 target 。\n\n找出该数组中满足其和 ≥ target 的长度最小的 连续子数组 [numsl, numsl+1, ..., numsr-1, numsr] ，并返回其长度。如果不存在符合条件的子数组，返回 0 。\n\n \n\n示例 1：\n\n输入：target = 7, nums = [2,3,1,2,4,3]\n输出：2\n解释：子数组 [4,3] 是该条件下的长度最小的子数组。\n示例 2：\n\n输入：target = 4, nums = [1,4,4]\n输出：1\n示例 3：\n\n输入：target = 11, nums = [1,1,1,1,1,1,1,1]\n输出：0\n\n来源：力扣（LeetCode）\n链接：https://leetcode.cn/problems/minimum-size-subarray-sum\n著作权归领扣网络所有。商业转载请联系官方授权，非商业转载请注明出处。"
  },
  {
   "cell_type": "code",
   "execution_count": null,
   "id": "023b2b96",
   "metadata": {},
   "outputs": [],
   "source": "'''\n解题思路：有点动态规划的意思了，遍历一遍得到最小的数组\n面试题\n这个题写了很久，主要是下标的位置，和最小值的判断容易出错\n'''\nclass Solution(object):\n    def minSubArrayLen(self, target, nums):\n        \"\"\"\n        :type target: int\n        :type nums: List[int]\n        :rtype: int\n        \"\"\"\n        left = 0\n        num = len(nums)\n        right = 0\n        cur_sum = 0\n        min_num = num + 1\n        while right < num:\n            cur_sum += nums[right]\n            while cur_sum >= target:\n                min_num = min(min_num, right - left+1)\n                cur_sum = cur_sum - nums[left]\n                left += 1\n            right += 1\n        #print(left)\n        #print(right)\n        #print(cur_sum)\n        if min_num > num :\n            return 0\n        return min_num"
  },
  {
   "cell_type": "code",
   "execution_count": null,
   "id": "ea6dd494",
   "metadata": {},
   "outputs": [],
   "source": []
  },
  {
   "cell_type": "code",
   "execution_count": null,
   "id": "857bdc72",
   "metadata": {},
   "outputs": [],
   "source": [
    "if __name__ == \"__main__\":\n",
    "    soultion = Solution()\n",
    "    target = 7\n",
    "    nums = [2,3,1,2,4,3]\n",
    "    res = soultion.minSubArrayLen(target, nums)\n",
    "    print(res)\n",
    "    target = 4\n",
    "    nums = [1,4,4]\n",
    "    res = soultion.minSubArrayLen(target, nums)\n",
    "    print(res)\n",
    "    target = 11\n",
    "    nums = [1,1,1,1,1,1,1,1]\n",
    "    res = soultion.minSubArrayLen(target, nums)\n",
    "    print(res)\n",
    "    target = 11\n",
    "    nums = [1,2,3,4,5]\n",
    "    res = soultion.minSubArrayLen(target, nums)\n",
    "    print(res)\n",
    "    target = 6\n",
    "    nums = [1,2,3]\n",
    "    res = soultion.minSubArrayLen(target, nums)\n",
    "    print(res)\n",
    "    target = 15\n",
    "    nums = [5,1,3,5,10,7,4,9,2,8]\n",
    "    res = soultion.minSubArrayLen(target, nums)\n",
    "    print(res)"
   ]
  }
 ],
 "metadata": {
  "jupytext": {
   "cell_metadata_filter": "-all",
   "encoding": "# -*- coding: utf-8 -*-",
   "executable": "/usr/bin/env python"
  },
  "kernelspec": {
   "display_name": "Python 3 (ipykernel)",
   "language": "python",
   "name": "python3"
  }
 },
 "nbformat": 4,
 "nbformat_minor": 5
}