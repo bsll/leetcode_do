{
 "cells": [
  {
   "cell_type": "markdown",
   "metadata": {},
   "source": "罗马数字包含以下七种字符: I， V， X， L，C，D 和 M。\n\n字符          数值\nI             1\nV             5\nX             10\nL             50\nC             100\nD             500\nM             1000\n例如， 罗马数字 2 写做 II ，即为两个并列的 1 。12 写做 XII ，即为 X + II 。 27 写做  XXVII, 即为 XX + V + II 。\n\n通常情况下，罗马数字中小的数字在大的数字的右边。但也存在特例，例如 4 不写做 IIII，而是 IV。数字 1 在数字 5 的左边，所表示的数等于大数 5 减小数 1 得到的数值 4 。同样地，数字 9 表示为 IX。这个特殊的规则只适用于以下六种情况：\n\nI 可以放在 V (5) 和 X (10) 的左边，来表示 4 和 9。\nX 可以放在 L (50) 和 C (100) 的左边，来表示 40 和 90。 \nC 可以放在 D (500) 和 M (1000) 的左边，来表示 400 和 900。\n给定一个罗马数字，将其转换成整数。\n\n来源：力扣（LeetCode）\n链接：https://leetcode.cn/problems/roman-to-integer\n著作权归领扣网络所有。商业转载请联系官方授权，非商业转载请注明出处。"
  },
  {
   "cell_type": "code",
   "execution_count": null,
   "id": "b2ec8951",
   "metadata": {},
   "outputs": [],
   "source": "'''\n解题思路：除了I以外2个2个的看，根据左右的位置做加减法？\n'''\nclass Solution(object):\n    def romanToInt(self, s):\n        \"\"\"\n        :type s: str\n        :rtype: int\n        \"\"\"\n        nums = {'I':1,\"V\":5,\"X\":10,\"L\":50,\"C\":100,\"D\":500,\"M\":1000}\n        if len(s) == 1:\n            return nums[s]\n        res = nums[s[0]]\n        for i in range(1,len(s)):\n            if (s[i-1] == 'I' and s[i] in [\"X\",\"V\"]) \\\n                or (s[i-1] == \"X\" and s[i] in [\"L\",'C'])\\\n                   or (s[i-1] == \"C\" and s[i] in [\"D\",\"M\"]):\n                res += (nums[s[i]] - 2 * nums[s[i-1]])\n            else:\n                res += nums[s[i]]\n        return res"
  },
  {
   "cell_type": "code",
   "execution_count": null,
   "id": "ef8fa5e1",
   "metadata": {},
   "outputs": [],
   "source": []
  },
  {
   "cell_type": "code",
   "execution_count": null,
   "id": "dc6bb8f1",
   "metadata": {},
   "outputs": [],
   "source": []
  },
  {
   "cell_type": "code",
   "execution_count": null,
   "id": "a3d1f548",
   "metadata": {},
   "outputs": [],
   "source": [
    "if __name__ == \"__main__\":\n",
    "    soultion = Solution()\n",
    "    s = \"MCMXCIV\"\n",
    "    res = soultion.romanToInt(s)\n",
    "    print(res)\n",
    "    s = \"LVIII\"\n",
    "    res = soultion.romanToInt(s)\n",
    "    print(res)\n",
    "    s = \"IX\"\n",
    "    res = soultion.romanToInt(s)\n",
    "    print(res)\n",
    "    s = \"IV\"\n",
    "    res = soultion.romanToInt(s)\n",
    "    print(res)\n",
    "    s = \"III\"\n",
    "    res = soultion.romanToInt(s)\n",
    "    print(res)"
   ]
  }
 ],
 "metadata": {
  "jupytext": {
   "cell_metadata_filter": "-all",
   "encoding": "# -*- coding: utf-8 -*-",
   "executable": "/usr/bin/env python"
  },
  "kernelspec": {
   "display_name": "Python 3 (ipykernel)",
   "language": "python",
   "name": "python3"
  }
 },
 "nbformat": 4,
 "nbformat_minor": 5
}