{
 "cells": [
  {
   "cell_type": "markdown",
   "metadata": {},
   "source": "实现一个函数来判断整数数组 postorder 是否为二叉搜索树的后序遍历结果。\n示例 1：\n输入: postorder = [4,9,6,5,8]\n输出: false \n解释：从上图可以看出这不是一颗二叉搜索树\n示例 2：\n输入: postorder = [4,6,5,9,8]\n输出: true \n解释：可构建的二叉搜索树如上图\n提示：\n数组长度 <= 1000\npostorder 中无重复数字"
  },
  {
   "cell_type": "code",
   "execution_count": null,
   "id": "ec24d2a9",
   "metadata": {},
   "outputs": [],
   "source": "'''\n思路: 二叉搜索树满足节点的左边永远小于右边\n后序遍历先左后右再根节点\n根据后序遍历的特征，先找出左子树和右子树，如果右子树最后节点不是数组最后一个元素，说明有问题，返回 False\n递归遍历\n'''\nclass Solution(object):\n    def verifyPostorder(self, postorder):\n        \"\"\"\n        :type postorder: List[int]\n        :rtype: bool\n        \"\"\"\n        def verify(start,end):\n            if start >= end:\n                return True\n            tmp = start\n            #找出左子树的位置\n            while postorder[tmp] < postorder[end]:\n                tmp += 1\n            left = tmp\n            #找出右子树的位置\n            while postorder[tmp] > postorder[end]:\n                tmp += 1\n            right = tmp\n            #如果右子树的位置不是最后,说明有问题，返回False\n            if right != end:\n                return False\n            #继续递归往下找\n            return verify(start,left-1) and verify(left,right-1)\n        m = len(postorder)\n        if m == 0:\n            return True\n        return verify(0,m-1)\nif __name__ == \"__main__\":\n    sou = Solution()\n    pos = [1,3,2,6,5]\n    print(sou.verifyPostorder(pos))\n    pos = [1,6,3,2,5]\n    print(sou.verifyPostorder(pos))\n    pos = [1,2,5,10,6,9,4,3]\n    print(sou.verifyPostorder(pos))\n    pos = [4, 8, 6, 12, 16, 14, 10]\n    print(sou.verifyPostorder(pos))"
  }
 ],
 "metadata": {
  "jupytext": {
   "cell_metadata_filter": "-all",
   "encoding": "# -*- coding: utf-8 -*-",
   "executable": "/usr/bin/env python"
  },
  "kernelspec": {
   "display_name": "Python 3 (ipykernel)",
   "language": "python",
   "name": "python3"
  }
 },
 "nbformat": 4,
 "nbformat_minor": 5
}