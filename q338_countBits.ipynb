{
 "cells": [
  {
   "cell_type": "markdown",
   "metadata": {},
   "source": "给定一个非负整数 n ，请计算 0 到 n 之间的每个数字的二进制表示中 1 的个数，并输出一个数组。\n\n \n\n示例 1:\n\n输入: n = 2\n输出: [0,1,1]\n解释: \n0 --> 0\n1 --> 1\n2 --> 10\n示例 2:\n\n输入: n = 5\n输出: [0,1,1,2,1,2]\n解释:\n0 --> 0\n1 --> 1\n2 --> 10\n3 --> 11\n4 --> 100\n5 --> 101\n \n\n说明 :\n\n0 <= n <= 105\n \n\n进阶:\n\n给出时间复杂度为 O(n*sizeof(integer)) 的解答非常容易。但你可以在线性时间 O(n) 内用一趟扫描做到吗？\n要求算法的空间复杂度为 O(n) 。\n你能进一步完善解法吗？要求在C++或任何其他语言中不使用任何内置函数（如 C++ 中的 __builtin_popcount ）来执行此操作。"
  },
  {
   "cell_type": "code",
   "execution_count": null,
   "id": "9c6945a8",
   "metadata": {},
   "outputs": [],
   "source": "'''\n思路：利用 n = n & n-1 每次会消除一个 1，直到 n = 0\n'''\nclass Solution(object):\n    def countBits(self, n):\n        \"\"\"\n        :type n: int\n        :rtype: List[int]\n        \"\"\"\n        def countn(n):\n            count = 0\n            while n != 0:\n                n = n & (n-1)\n                count += 1\n            return count\n        res = []\n        for i in range(0,n+1):\n            res.append(countn(i))\n        return res\nif __name__ == \"__main__\":\n    sou = Solution()\n    n = 5\n    print(sou.countBits(n))"
  }
 ],
 "metadata": {
  "jupytext": {
   "cell_metadata_filter": "-all",
   "encoding": "# -*- coding: utf-8 -*-",
   "executable": "/usr/bin/env python"
  },
  "kernelspec": {
   "display_name": "Python 3 (ipykernel)",
   "language": "python",
   "name": "python3"
  }
 },
 "nbformat": 4,
 "nbformat_minor": 5
}