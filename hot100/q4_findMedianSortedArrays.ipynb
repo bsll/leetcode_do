{
 "cells": [
  {
   "cell_type": "markdown",
   "metadata": {},
   "source": "给定两个大小分别为 m 和 n 的正序（从小到大）数组 nums1 和 nums2。请你找出并返回这两个正序数组的 中位数 。\n\n算法的时间复杂度应该为 O(log (m+n)) 。\n\n示例 1：\n\n输入：nums1 = [1,3], nums2 = [2]\n输出：2.00000\n解释：合并数组 = [1,2,3] ，中位数 2\n示例 2：\n\n输入：nums1 = [1,2], nums2 = [3,4]\n输出：2.50000\n解释：合并数组 = [1,2,3,4] ，中位数 (2 + 3) / 2 = 2.5\n \n提示：\nnums1.length == m\nnums2.length == n\n0 <= m <= 1000\n0 <= n <= 1000\n1 <= m + n <= 2000\n-106 <= nums1[i], nums2[i] <= 106"
  },
  {
   "cell_type": "code",
   "execution_count": null,
   "id": "e0aeb725",
   "metadata": {
    "lines_to_next_cell": 1
   },
   "outputs": [],
   "source": "'''\n思路:\n两个有序数组的中位数可转化为求第k小元素的问题。若总长度m+n为奇数，中位数为第(m+n+1)//2小的元素；若为偶数，则为第(m+n)//2和第(m+n)//2+1小元素的平均值。\n\n每次排除不可能包含第k小元素的部分。比较两个数组的第k/2个元素，较小的部分的前k/2个元素不可能为第k小元素，可跳过这些元素并更新k的值。\n\n递归排除：通过不断调整数组的起始索引和k值，逐步缩小搜索范围，直到找到目标元素。\n\n'''\nclass Solution(object):\n    def findMedianSortedArrays(self, nums1, nums2):\n        \"\"\"\n        :type nums1: List[int]\n        :type nums2: List[int]\n        :rtype: float\n        \"\"\"\n        def getKthElement(k):\n            index1, index2 = 0,0\n            while True:\n                #如果数组1遍历完了，返回数组2剩下的第k-1个元素\n                if index1 == m:\n                    return nums2[index2 + k - 1]\n                #同理，如果数组2遍历完了，返回数组1剩下的第k-1个元素\n                if index2 == n:\n                    return nums1[index1 + k - 1]\n                #如果 k=1,就返回两个数组当前索引中的较小值，此时剩下的最小的那个就是第k个\n                if k == 1:\n                    return min(nums1[index1], nums2[index2])\n                #通过min函数确保索引不越界(m-1,n-1)，计算两个数组中第k/2个元素的位置。\n                newIndex1 = min(index1 + k // 2 - 1, m - 1)\n                newIndex2 = min(index2 + k // 2 - 1, n - 1)\n                #比较两个数组的pivot值，排除较小pivot所在数组的前k/2个元素，更新索引和k值，继续循环。\n                pivot1, pivot2 = nums1[newIndex1], nums2[newIndex2]\n                #如果pivot1小于等于pivot2，说明nums1的前半部分肯定都在第k小元素的前面，所以可以跳过这些元素\n                if pivot1 <= pivot2:\n                    # k 减去被跳过的元素的数量\n                    k = k - (newIndex1 - index1 + 1)\n                    # 更新索引\n                    index1 = newIndex1 + 1\n                else:\n                    k = k - (newIndex2 - index2 + 1)\n                    index2 = newIndex2+ 1\n        m, n = len(nums1), len(nums2)\n        totalLength = m + n\n        # 奇数和偶数的不同处理\n        if totalLength % 2 == 1:\n            return getKthElement((totalLength + 1) // 2)\n        else:\n            return (getKthElement(totalLength // 2) + getKthElement(totalLength // 2 + 1)) / 2"
  },
  {
   "cell_type": "code",
   "execution_count": null,
   "id": "8631f75c",
   "metadata": {},
   "outputs": [],
   "source": [
    "if __name__ == \"__main__\":\n",
    "    s = Solution()\n",
    "    nums1 = [1,3]\n",
    "    nums2 = [2]\n",
    "    print(s.findMedianSortedArrays(nums1, nums2))\n",
    "    nums1 = [1,2]\n",
    "    nums2 = [3,4]\n",
    "    print(s.findMedianSortedArrays(nums1, nums2))"
   ]
  },
  {
   "cell_type": "code",
   "execution_count": null,
   "id": "f7384201",
   "metadata": {},
   "outputs": [],
   "source": [
    "                "
   ]
  }
 ],
 "metadata": {
  "jupytext": {
   "cell_metadata_filter": "-all",
   "encoding": "# -*- coding: utf-8 -*-",
   "executable": "/usr/bin/env python"
  },
  "kernelspec": {
   "display_name": "Python 3 (ipykernel)",
   "language": "python",
   "name": "python3"
  }
 },
 "nbformat": 4,
 "nbformat_minor": 5
}