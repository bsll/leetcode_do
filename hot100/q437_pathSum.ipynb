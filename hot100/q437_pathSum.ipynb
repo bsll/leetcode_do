{
 "cells": [
  {
   "cell_type": "markdown",
   "metadata": {},
   "source": "给定一个二叉树的根节点 root ，和一个整数 targetSum ，求该二叉树里节点值之和等于 targetSum 的 路径 的数目。\n\n路径 不需要从根节点开始，也不需要在叶子节点结束，但是路径方向必须是向下的（只能从父节点到子节点）。\n\n \n\n示例 1：\n\n\n\n输入：root = [10,5,-3,3,2,null,11,3,-2,null,1], targetSum = 8\n输出：3\n解释：和等于 8 的路径有 3 条，如图所示。\n示例 2：\n\n输入：root = [5,4,8,11,null,13,4,7,2,null,null,5,1], targetSum = 22\n输出：3\n \n\n提示:\n\n二叉树的节点个数的范围是 [0,1000]\n-109 <= Node.val <= 109 \n-1000 <= targetSum <= 1000 "
  },
  {
   "cell_type": "code",
   "execution_count": null,
   "id": "922d2037",
   "metadata": {},
   "outputs": [],
   "source": "'''\n思路： 1、深度遍历\n      2、前缀和：记录从根节点到当前节点的路径和（前缀和）。利用哈希表保存每个前缀和出现的次数。\n\n         核心思想：若当前前缀和为 curr，则查找哈希表中是否存在 curr - targetSum。若存在，说明存在一条子路径的和为 targetSum。\n\n         回溯处理：在递归返回时撤销当前节点的前缀和，确保不同路径的统计互不干扰。\n'''\nfrom utils import generate_tree\nimport collections\nclass Solution(object):\n    def pathSum(self, root, targetSum):\n        \"\"\"\n        :type root: Optional[TreeNode]\n        :type targetSum: int\n        :rtype: int\n        \"\"\"\n        def rootSum(root, targetSum):\n            if not root:\n                return 0\n            ret = 0\n            if root.val == targetSum:\n                ret += 1\n            \n            ret += rootSum(root.left, targetSum-root.val)\n            ret += rootSum(root.right, targetSum-root.val)\n            return ret\n        if not root:\n            return 0\n        ret = rootSum(root, targetSum)\n        ret += pathSum(root.left, targetSum)\n        ret += pathSum(root.right, targetSum)\n        return ret\n    def pathSum2(self, root, targetSum):\n        prefix = collections.defaultdict(int)\n        prefix[0] = 1\n        def dfs(root, curr):\n            if not root:\n                return 0\n            ret = 0\n            curr += root.val\n            #查找一次，如果有直接加，默认为 0\n            ret += prefix[curr-targetSum]\n            prefix[curr] += 1\n            ret += dfs(root.left,curr)\n            ret += dfs(root.right,curr)\n            prefix[curr] -= 1\n            return ret\n        print(prefix)\n        return dfs(root, 0)\nif __name__ == \"__main__\":\n    s = Solution()\n    root = [10,5,-3,3,2,None,11,3,-2,None,1]\n    print(s.pathSum2(generate_tree(root), 8))"
  }
 ],
 "metadata": {
  "jupytext": {
   "cell_metadata_filter": "-all",
   "encoding": "# -*- coding: utf-8 -*-",
   "executable": "/usr/bin/env python"
  },
  "kernelspec": {
   "display_name": "Python 3 (ipykernel)",
   "language": "python",
   "name": "python3"
  }
 },
 "nbformat": 4,
 "nbformat_minor": 5
}