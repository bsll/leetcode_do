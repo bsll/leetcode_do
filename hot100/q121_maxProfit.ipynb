{
 "cells": [
  {
   "cell_type": "markdown",
   "metadata": {},
   "source": "给定一个数组 prices ，它的第 i 个元素 prices[i] 表示一支给定股票第 i 天的价格。\n\n你只能选择 某一天 买入这只股票，并选择在 未来的某一个不同的日子 卖出该股票。设计一个算法来计算你所能获取的最大利润。\n\n返回你可以从这笔交易中获取的最大利润。如果你不能获取任何利润，返回 0 。\n\n \n\n示例 1：\n\n输入：[7,1,5,3,6,4]\n输出：5\n解释：在第 2 天（股票价格 = 1）的时候买入，在第 5 天（股票价格 = 6）的时候卖出，最大利润 = 6-1 = 5 。\n     注意利润不能是 7-1 = 6, 因为卖出价格需要大于买入价格；同时，你不能在买入前卖出股票。\n示例 2：\n\n输入：prices = [7,6,4,3,1]\n输出：0\n解释：在这种情况下, 没有交易完成, 所以最大利润为 0。"
  },
  {
   "cell_type": "code",
   "execution_count": null,
   "id": "9c50936f",
   "metadata": {},
   "outputs": [],
   "source": "'''\n思路：动态规划 maxProfit[i] = max(Profit[i-1], prices[i] - min(prices[0:i]))\n每次求min会超出时间限制，所以用一个变量来记录最小值\n'''\nclass Solution(object):\n    def maxProfit(self, prices):\n        \"\"\"\n        :type prices: List[int]\n        :rtype: int\n        \"\"\"\n        maxsale = 0\n        if len(prices) == 0:\n            return maxsale\n        currentMin = prices[0]\n        for i in range(1,len(prices)):\n            maxsale = max(maxsale, prices[i] - currentMin)\n            if prices[i] < currentMin:\n                currentMin = prices[i]\n        return maxsale\nif __name__ == '__main__':\n    s = Solution()\n    print(s.maxProfit([7,1,5,3,6,4]))\n    print(s.maxProfit([7,6,4,3,1]))"
  }
 ],
 "metadata": {
  "jupytext": {
   "cell_metadata_filter": "-all",
   "encoding": "# -*- coding: utf-8 -*-",
   "executable": "/usr/bin/env python"
  },
  "kernelspec": {
   "display_name": "Python 3 (ipykernel)",
   "language": "python",
   "name": "python3"
  }
 },
 "nbformat": 4,
 "nbformat_minor": 5
}