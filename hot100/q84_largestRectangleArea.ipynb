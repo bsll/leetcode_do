{
 "cells": [
  {
   "cell_type": "markdown",
   "metadata": {},
   "source": "给定 n 个非负整数，用来表示柱状图中各个柱子的高度。每个柱子彼此相邻，且宽度为 1 。\n\n求在该柱状图中，能够勾勒出来的矩形的最大面积。\n\n示例 1:\n输入：heights = [2,1,5,6,2,3]\n输出：10\n解释：最大的矩形为图中红色区域，面积为 10\n示例 2：\n\n输入： heights = [2,4]\n输出： 4\n\n提示：\n1 <= heights.length <=105\n0 <= heights[i] <= 104"
  },
  {
   "cell_type": "code",
   "execution_count": null,
   "id": "b532e2c6",
   "metadata": {},
   "outputs": [],
   "source": "'''\n思路：\n单调栈：栈中保存索引，对应的高度保持递增。遇到较小元素时，栈顶元素的右边界确定为当前索引，同时更新其左边界。\n\n边界处理：对于每个柱子，左边界为栈中前一个元素（或-1），右边界为第一个比它小的元素位置（或n）。\n\n面积计算：每个柱子的最大矩形面积为高度乘以宽度（右边界 - 左边界 - 1）。\n\n对于每个柱子i，找到左边第一个比它矮的柱子的位置，记录在left[i]中，\n右边第一个比它矮的柱子的位置记录在right[i]中。\n这样，当前柱子所能形成的最大矩形的宽度就是right[i] - left[i] -1，\n然后乘以当前柱子的高度，得到面积。然后取最大的面积就是答案。\n\n\n'''\nclass Solution(object):\n    def largestRectangleArea(self, heights):\n        \"\"\"\n        :type heights: List[int]\n        :rtype: int\n        \"\"\"\n        n = len(heights)\n        if n <= 0:\n            return 0\n        # 左侧第一个比当前小的索引值\n        left = [0] *n\n        # 右侧第一个比当前小的索引值，初始化为n\n        right = [n] * n\n        # 栈里面存的是索引值\n        stack = []\n        for i in range(n):\n            # 弹出栈顶元素直到栈顶元素小于当前高度\n            #\n            #\n            while stack and heights[stack[-1]] >= heights[i]:\n                # 当前i是被弹出元素的右侧第一个更小元素\n                #\n                #\n                right[stack[-1]] = i\n                stack.pop()\n            # 更新当前元素的左边界\n            if stack:\n                left[i] = stack[-1]\n            else:\n                left[i] = -1\n            # 切记：需要把最新的i加上去\n            #\n            #\n            stack.append(i)\n        ans = 0\n        for i in range(n):\n             # 计算以heights[i]为高的最大矩形面积\n            ans = max(ans,(right[i]-left[i]-1) * heights[i])\n        return ans\nif __name__ == \"__main__\":\n    s = Solution()\n    heights = [2,1,5,6,2,3]\n    print(s.largestRectangleArea(heights))\n    heights = [2,4]\n    print(s.largestRectangleArea(heights))"
  },
  {
   "cell_type": "code",
   "execution_count": null,
   "id": "f698dc16",
   "metadata": {},
   "outputs": [],
   "source": []
  }
 ],
 "metadata": {
  "jupytext": {
   "cell_metadata_filter": "-all",
   "encoding": "# -*- coding: utf-8 -*-",
   "executable": "/usr/bin/env python"
  },
  "kernelspec": {
   "display_name": "Python 3 (ipykernel)",
   "language": "python",
   "name": "python3"
  }
 },
 "nbformat": 4,
 "nbformat_minor": 5
}