{
 "cells": [
  {
   "cell_type": "markdown",
   "metadata": {},
   "source": "整数数组的一个 排列  就是将其所有成员以序列或线性顺序排列。\n\n例如，arr = [1,2,3] ，以下这些都可以视作 arr 的排列：[1,2,3]、[1,3,2]、[3,1,2]、[2,3,1] 。\n整数数组的 下一个排列 是指其整数的下一个字典序更大的排列。更正式地，如果数组的所有排列根据其字典顺序从小到大排列在一个容器中，那么数组的 下一个排列 就是在这个有序容器中排在它后面的那个排列。如果不存在下一个更大的排列，那么这个数组必须重排为字典序最小的排列（即，其元素按升序排列）。\n\n例如，arr = [1,2,3] 的下一个排列是 [1,3,2] 。\n类似地，arr = [2,3,1] 的下一个排列是 [3,1,2] 。\n而 arr = [3,2,1] 的下一个排列是 [1,2,3] ，因为 [3,2,1] 不存在一个字典序更大的排列。\n给你一个整数数组 nums ，找出 nums 的下一个排列。\n\n必须 原地 修改，只允许使用额外常数空间。\n\n\n示例 1：\n\n输入：nums = [1,2,3]\n输出：[1,3,2]\n示例 2：\n\n输入：nums = [3,2,1]\n输出：[1,2,3]\n示例 3：\n\n输入：nums = [1,1,5]\n输出：[1,5,1]\n \n\n提示：\n\n1 <= nums.length <= 100\n0 <= nums[i] <= 100"
  },
  {
   "cell_type": "code",
   "execution_count": null,
   "id": "fd946ae9",
   "metadata": {
    "lines_to_next_cell": 1
   },
   "outputs": [],
   "source": "'''\n思路： 从后向前找第一个相邻升序的元素对（i,j) 这时候，nums[j:end]必然为降序\n      继续从后往前找第一个大于 nums[i]的元素，并且进行交换\n      这时候 nums[j:end]为降序，所以直接逆置这些元素使其升序，就得到最后的结果\n'''\nclass Solution(object):\n    def nextPermutation(self, nums):\n        \"\"\"\n        :type nums: List[int]\n        :rtype: None Do not return anything, modify nums in-place instead.\n        \"\"\"\n        n = len(nums)\n        if n <= 1:\n            return \n\n        i = n - 2\n        j = n - 1\n        k = n - 1\n        # 从后往前找第一个升序的 i,j 对，此时 j,k必然为降序\n        while i >= 0 and nums[i] >= nums[j]:\n            i = i - 1 \n            j = j - 1\n\n        if i >= 0:\n            #从后向前找第一个满足 nums[i] < nums[k]的 k，就是需要交换的小数和大数\n            while k >= 0 and nums[i] >= nums[k]:\n                k = k - 1\n            #找到之后交换\n            nums[i],nums[k] = nums[k],nums[i]\n        #这时候，j 到最后必然为降序，交换一下\n        left, right = j, n-1\n        while left < right:\n            nums[left], nums[right] = nums[right], nums[left]\n            left += 1\n            right -= 1"
  },
  {
   "cell_type": "code",
   "execution_count": null,
   "id": "50ff821d",
   "metadata": {},
   "outputs": [],
   "source": [
    "if __name__ == \"__main__\":\n",
    "    s = Solution()\n",
    "    nums = [1,2,3]\n",
    "    s.nextPermutation(nums)\n",
    "    print(nums)\n",
    "\n",
    "    nums = [1,3,2]\n",
    "    s.nextPermutation(nums)\n",
    "    print(nums)\n",
    "\n",
    "    nums = [3,2,1]\n",
    "    s.nextPermutation(nums)\n",
    "    print(nums)\n",
    "\n",
    "    nums = [1,1,5]\n",
    "    s.nextPermutation(nums)\n",
    "    print(nums)\n",
    "\n",
    "    nums = [5,1,1]\n",
    "    s.nextPermutation(nums)\n",
    "    print(nums)\n",
    "\n",
    "    nums = [1,1]\n",
    "    s.nextPermutation(nums)\n",
    "    print(nums)"
   ]
  }
 ],
 "metadata": {
  "jupytext": {
   "cell_metadata_filter": "-all",
   "encoding": "# -*- coding: utf-8 -*-",
   "executable": "/usr/bin/env python"
  },
  "kernelspec": {
   "display_name": "Python 3 (ipykernel)",
   "language": "python",
   "name": "python3"
  }
 },
 "nbformat": 4,
 "nbformat_minor": 5
}