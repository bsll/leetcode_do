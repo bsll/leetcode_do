{
 "cells": [
  {
   "cell_type": "markdown",
   "metadata": {},
   "source": "给定一个 m x n 二维字符网格 board 和一个字符串单词 word 。如果 word 存在于网格中，返回 true ；否则，返回 false 。\n\n单词必须按照字母顺序，通过相邻的单元格内的字母构成，其中“相邻”单元格是那些水平相邻或垂直相邻的单元格。同一个单元格内的字母不允许被重复使用。\n\n \n示例 1：\n\n\n输入：board = [[\"A\",\"B\",\"C\",\"E\"],[\"S\",\"F\",\"C\",\"S\"],[\"A\",\"D\",\"E\",\"E\"]], word = \"ABCCED\"\n输出：true\n示例 2：\n\n\n输入：board = [[\"A\",\"B\",\"C\",\"E\"],[\"S\",\"F\",\"C\",\"S\"],[\"A\",\"D\",\"E\",\"E\"]], word = \"SEE\"\n输出：true\n示例 3：\n\n\n输入：board = [[\"A\",\"B\",\"C\",\"E\"],[\"S\",\"F\",\"C\",\"S\"],[\"A\",\"D\",\"E\",\"E\"]], word = \"ABCB\"\n输出：false"
  },
  {
   "cell_type": "code",
   "execution_count": null,
   "id": "e89d02fe",
   "metadata": {},
   "outputs": [],
   "source": "'''\n思路：深度有限搜索，从每个点开始，上下左右四个方向搜索，如果搜索到word的下一个字符，则继续搜索，直到搜索到word的最后一个字符，则返回true，否则返回false\n'''\nclass Solution(object):\n    def exist(self, board, word):\n        \"\"\"\n        :type board: List[List[str]]\n        :type word: str\n        :rtype: bool\n        \"\"\"\n        m,n = len(board), len(board[0])\n        def dfs(word, i, j):\n            if len(word) == 0:\n                return True\n            if 0 <=i< m and  0 <=j < n and board[i][j] == word[0]:\n                board[i][j] = \"\"\n                res = dfs(word[1:],i+1,j) or dfs(word[1:],i-1,j) or dfs(word[1:],i,j-1) or dfs(word[1:],i,j+1)\n                board[i][j] = word[0]\n                return res\n            else:\n                return False\n        for i in range(m):\n            for j in range(n):\n                if dfs(word, i, j):\n                    return True\n\n        return False\nif __name__ == '__main__':\n    sou = Solution()\n    board = [[\"A\",\"B\",\"C\",\"E\"],[\"S\",\"F\",\"C\",\"S\"],[\"A\",\"D\",\"E\",\"E\"]]\n    word = \"ABCCED\"\n    print(sou.exist(board,word))\n    board = [[\"a\",\"b\"],[\"c\",\"d\"]]\n    word = \"abcd\"\n    print(sou.exist(board,word))\n    board = [[\"a\"]]\n    word = 'a'\n    print(sou.exist(board,word))\n    board = [[\"A\",\"B\",\"C\",\"E\"],[\"S\",\"F\",\"E\",\"S\"],[\"A\",\"D\",\"E\",\"E\"]]\n    word = \"ABCESEEEFS\"\n    print(sou.exist(board,word))"
  }
 ],
 "metadata": {
  "jupytext": {
   "cell_metadata_filter": "-all",
   "encoding": "# -*- coding: utf-8 -*-",
   "executable": "/usr/bin/env python"
  },
  "kernelspec": {
   "display_name": "Python 3 (ipykernel)",
   "language": "python",
   "name": "python3"
  }
 },
 "nbformat": 4,
 "nbformat_minor": 5
}