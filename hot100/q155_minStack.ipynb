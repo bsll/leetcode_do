{
 "cells": [
  {
   "cell_type": "markdown",
   "metadata": {},
   "source": "设计一个支持 push ，pop ，top 操作，并能在常数时间内检索到最小元素的栈。\n\n实现 MinStack 类:\n\nMinStack() 初始化堆栈对象。\nvoid push(int val) 将元素val推入堆栈。\nvoid pop() 删除堆栈顶部的元素。\nint top() 获取堆栈顶部的元素。\nint getMin() 获取堆栈中的最小元素。\n \n\n示例 1:\n\n输入：\n[\"MinStack\",\"push\",\"push\",\"push\",\"getMin\",\"pop\",\"top\",\"getMin\"]\n[[],[-2],[0],[-3],[],[],[],[]]\n\n输出：\n[null,null,null,null,-3,null,0,-2]\n\n解释：\nMinStack minStack = new MinStack();\nminStack.push(-2);\nminStack.push(0);\nminStack.push(-3);\nminStack.getMin();   --> 返回 -3.\nminStack.pop();\nminStack.top();      --> 返回 0.\nminStack.getMin();   --> 返回 -2.\n \n\n提示：\n\n-231 <= val <= 231 - 1\npop、top 和 getMin 操作总是在 非空栈 上调用\npush, pop, top, and getMin最多被调用 3 * 104 次"
  },
  {
   "cell_type": "code",
   "execution_count": null,
   "id": "419d194d",
   "metadata": {
    "lines_to_next_cell": 2
   },
   "outputs": [],
   "source": "'''\n思路：使用辅助栈存储当前的最小值\n'''\nclass MinStack(object):\n\n    def __init__(self):\n        self.stack = []\n        self.min_stack = [float('inf')]\n\n    def push(self, val):\n        \"\"\"\n        :type val: int\n        :rtype: None\n        \"\"\"\n        self.stack.append(val)\n        self.min_stack.append(min(val, self.min_stack[-1]))\n    \n    def pop(self):\n        \"\"\"\n        :rtype: None\n        \"\"\"\n        self.stack.pop()\n        self.min_stack.pop()\n        \n\n    def top(self):\n        \"\"\"\n        :rtype: int\n        \"\"\"\n        return self.stack[-1]\n\n    def getMin(self):\n        \"\"\"\n        :rtype: int\n        \"\"\"\n        return self.min_stack[-1]\nif __name__ == \"__main__\":\n    minStack = MinStack()\n    minStack.push(-2)\n    minStack.push(0)\n    minStack.push(-3)\n    print(minStack.getMin())\n    minStack.pop()\n    print(minStack.top())\n    print(minStack.getMin())"
  }
 ],
 "metadata": {
  "jupytext": {
   "cell_metadata_filter": "-all",
   "encoding": "# -*- coding: utf-8 -*-",
   "executable": "/usr/bin/env python"
  },
  "kernelspec": {
   "display_name": "Python 3 (ipykernel)",
   "language": "python",
   "name": "python3"
  }
 },
 "nbformat": 4,
 "nbformat_minor": 5
}