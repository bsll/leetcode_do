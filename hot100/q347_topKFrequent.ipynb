{
 "cells": [
  {
   "cell_type": "markdown",
   "metadata": {},
   "source": "给你一个整数数组 nums 和一个整数 k ，请你返回其中出现频率前 k 高的元素。你可以按 任意顺序 返回答案。\n示例 1:\n\n输入: nums = [1,1,1,2,2,3], k = 2\n输出: [1,2]\n示例 2:\n\n输入: nums = [1], k = 1\n输出: [1]\n \n\n提示：\n\n1 <= nums.length <= 105\nk 的取值范围是 [1, 数组中不相同的元素的个数]\n题目数据保证答案唯一，换句话说，数组中前 k 个高频元素的集合是唯一的\n \n\n进阶：你所设计算法的时间复杂度 必须 优于 O(n log n) ，其中 n 是数组大小。"
  },
  {
   "cell_type": "code",
   "execution_count": null,
   "id": "84b8ad8c",
   "metadata": {},
   "outputs": [],
   "source": "'''\n思路： 1、直接暴力排序，然后取数\n      2、利用哈希表统计数目，利用二维列表存每个位置对应的元素，从大到小遍历，把不为空且大于 k 的合并返回\n'''\nimport collections\nclass Solution(object):\n    def topKFrequent(self, nums, k):\n        \"\"\"\n        :type nums: List[int]\n        :type k: int\n        :rtype: List[int]\n        \"\"\"\n        res1 = collections.defaultdict(int)\n        for num in nums:\n            res1[num] += 1\n        res2 = [[] for _ in range(len(nums) + 1)]\n        for item in res1:\n            res2[res1[item]].append(item)\n        print(res2)\n        res = []\n        for i in range(len(res2)-1,0,-1):\n            if len(res2[i]) != 0:\n                if k > 0:\n                    res += res2[i]\n                    k -= len(res2[i])\n        return res\nif __name__ == \"__main__\":\n    s = Solution()\n    nums = [4,1,-1,2,-1,2,3]\n    k = 2\n    print(s.topKFrequent(nums,k))\n    nums = [1]\n    k = 1\n    print(s.topKFrequent(nums,k))\n    nums = [1,2]\n    k = 2\n    print(s.topKFrequent(nums,k))"
  },
  {
   "cell_type": "code",
   "execution_count": null,
   "id": "71a945c2",
   "metadata": {},
   "outputs": [],
   "source": []
  },
  {
   "cell_type": "code",
   "execution_count": null,
   "id": "1a21ba89",
   "metadata": {},
   "outputs": [],
   "source": [
    "        "
   ]
  },
  {
   "cell_type": "code",
   "execution_count": null,
   "id": "2abcb5e6",
   "metadata": {},
   "outputs": [],
   "source": [
    "        "
   ]
  }
 ],
 "metadata": {
  "jupytext": {
   "cell_metadata_filter": "-all",
   "encoding": "# -*- coding: utf-8 -*-",
   "executable": "/usr/bin/env python"
  },
  "kernelspec": {
   "display_name": "Python 3 (ipykernel)",
   "language": "python",
   "name": "python3"
  }
 },
 "nbformat": 4,
 "nbformat_minor": 5
}