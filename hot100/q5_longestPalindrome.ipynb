{
 "cells": [
  {
   "cell_type": "markdown",
   "metadata": {},
   "source": "给你一个字符串 s，找到 s 中最长的 回文子串\n。\n示例 1：\n\n输入：s = \"babad\"\n输出：\"bab\"\n解释：\"aba\" 同样是符合题意的答案。\n示例 2：\n\n输入：s = \"cbbd\"\n输出：\"bb\""
  },
  {
   "cell_type": "code",
   "execution_count": null,
   "id": "2f1e6074",
   "metadata": {
    "lines_to_next_cell": 2
   },
   "outputs": [],
   "source": "'''\n思路：1、暴力法，遍历所有子串，判断是否是回文串，记录最长的回文串\n     2、动态规划，dp[i][j]表示s[i:j+1]是否是回文串，状态转移方程为：\n     dp[i][j] = dp[i+1][j-1] and s[i] == s[j]\n        可以减少空间复杂度：\n     dp[j] = dp[j-1] and s[i] == s[j]\n     3、中心扩展法，从每个字符或两个字符开始，向两边扩展，判断是否是回文串\n'''\nclass Solution(object):\n    def longestPalindrome1(self, s):\n        \"\"\"\n        :type s: str\n        :rtype: str\n        \"\"\"\n        #字符串可能为空\n        #动态规范O（n*n）版本\n        tmp = [[0 for i in range(0,len(s))] for j in range(0,len(s))]\n        start = 0\n        end = 0\n        maxGap = 0\n        for i in range(len(s)-1,-1,-1):\n            for j in range(i,len(s)):\n                if (j - i <= 2 or tmp[i+1][j-1] == 1) and s[i] == s[j]:\n                    tmp[i][j] = 1\n                    if j-i >= maxGap:\n                        start = i\n                        end = j\n                        maxGap = j-i\n                else:\n                    tmp[i][j] = 0\n        return s[start:end+1]\n        \n    def longestPalindrome2(self, s):\n        \"\"\"\n        :type s: str\n        :rtype: str\n        \"\"\"\n        #字符串可能为空\n        #时间复杂度（n^2)\n        #空间复杂度（n)\n        length = len(s)\n        tmp = [0 for i in range(length)]\n        start = end = maxGap = 0\n        for i in range(length-1,-1,-1):\n            for j in range(length-1,i,-1):\n                if (j - i <= 2 or tmp[j-1] == 1) and s[i] == s[j]:\n                    tmp[j] = 1\n                    if j-i >= maxGap:\n                        start = i\n                        end = j\n                        maxGap = j-i\n                else:\n                    tmp[j] = 0\n        return s[start:end+1]\n        \n    def longestPalindrome3(self, s):\n        \"\"\"\n        :type s: str\n        :rtype: str\n        \"\"\"\n        #扩展中心算法\n        #字符串可能为空\n        #时间复杂度（n^2)\n        #空间复杂度（1)\n        #分别从每个字符和两个字符开始，向两边扩展，判断是否是回文串\n        #计算长度为奇数和偶数的回文串\n        #这个最好理解\n        start = 0\n        end = 0\n        for i in range(0,len(s)-1):\n            len1 = self.expand(s,i,i)\n            len2 = self.expand(s,i,i+1)\n            length = max(len1,len2)\n            if length > end-start:\n                if length == len1:\n                    start = i - (len1-1) // 2 \n                    end = i + (len1-1) // 2\n                elif length == len2:\n                    start = i - (len2-2) // 2\n                    end = i + (len2 - 2) // 2 + 1\n        return s[start:end+1]\n    def expand(self,s,start,end):\n        while (start >= 0 and end < len(s) and s[start] == s[end]):\n            start = start - 1\n            end = end + 1\n        return end-start-1\nif __name__ == \"__main__\":\n    s = Solution()\n    print(s.longestPalindrome1(\"babad\"))\n    print(s.longestPalindrome2(\"babad\"))\n    print(s.longestPalindrome3(\"babad\"))"
  }
 ],
 "metadata": {
  "jupytext": {
   "cell_metadata_filter": "-all",
   "encoding": "# -*- coding: utf-8 -*-",
   "executable": "/usr/bin/env python"
  },
  "kernelspec": {
   "display_name": "Python 3 (ipykernel)",
   "language": "python",
   "name": "python3"
  }
 },
 "nbformat": 4,
 "nbformat_minor": 5
}