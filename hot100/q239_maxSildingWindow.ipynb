{
 "cells": [
  {
   "cell_type": "markdown",
   "metadata": {},
   "source": "给你一个整数数组 nums，有一个大小为 k 的滑动窗口从数组的最左侧移动到数组的最右侧。你只可以看到在滑动窗口内的 k 个数字。滑动窗口每次只向右移动一位。\n\n返回 滑动窗口中的最大值 。\n\n \n\n示例 1：\n\n输入：nums = [1,3,-1,-3,5,3,6,7], k = 3\n输出：[3,3,5,5,6,7]\n解释：\n滑动窗口的位置                最大值\n---------------               -----\n[1  3  -1] -3  5  3  6  7       3\n 1 [3  -1  -3] 5  3  6  7       3\n 1  3 [-1  -3  5] 3  6  7       5\n 1  3  -1 [-3  5  3] 6  7       5\n 1  3  -1  -3 [5  3  6] 7       6\n 1  3  -1  -3  5 [3  6  7]      7\n示例 2：\n\n输入：nums = [1], k = 1\n输出：[1]"
  },
  {
   "cell_type": "code",
   "execution_count": null,
   "id": "29ff4fcf",
   "metadata": {
    "lines_to_next_cell": 1
   },
   "outputs": [],
   "source": "'''\n思路： 1、暴力求解,时间会超时\n         找到当前滑动窗口的最大值，然后在滑动的时候比较出去和进来的值与最大值的关系\n         如果出去和进来的都比最大值小，则最大值不变\n         如果出去的等于最大值，则需要重新寻找最大值\n         如果进来的比最大值大，则更新最大值\n      2、单调队列\n      #如果队列头部的元素已经不在窗口中，左移除，最后添加\n            while q[0] <= i-k:\n                q.popleft()\n       \n'''\nimport collections\nfrom typing import List\nclass Solution:\n    def maxSlidingWindow1(self, nums: List[int], k: int) -> List[int]:\n        m = len(nums)\n        max_arr = []\n        cur_max = max(nums[:k])\n        max_arr.append(cur_max)\n        for i in range(1,m-k+1):\n            if nums[i-1] < cur_max and nums[i+k-1] < cur_max:\n                max_arr.append(cur_max)\n            elif nums[i-1] == cur_max:\n                cur_max = max(nums[i:i+k])\n                max_arr.append(cur_max)\n            elif nums[i+k-1] >= cur_max:\n                cur_max = nums[i+k-1]\n                max_arr.append(cur_max)\n        return max_arr\n\n    def maxSlidingWindow2(self, nums: List[int], k: int) -> List[int]:\n        m = len(nums)\n        max_arr = []\n        for i in range(m-k+1):\n            max_arr.append(max(nums[i:i+k]))\n        return max_arr\n\n    def maxSlidingWindow(self, nums, k):\n        n = len(nums)\n        #使用双端队列构造单调队列，用来存储滑动窗口内的元素索引\n        q = collections.deque()\n        for i in range(k):\n            #移除队列中所有小于当前元素的元素的索引，并把当前索引加到队列中\n            while q and nums[i] >= nums[q[-1]]:\n                q.pop()\n            q.append(i)\n        #初始窗口最大值就是索引最小的那个元素的值\n        ans = [nums[q[0]]]\n        for i in range(k,n):\n            #移除队列中所有小于当前元素的元素的索引，并把当前索引加到队列中\n            while q and nums[i] >= nums[q[-1]]:\n                q.pop()\n            q.append(i)\n            #如果队列头部的元素已经不在窗口中，左移除，最后添加\n            while q[0] <= i-k:\n                q.popleft()\n            ans.append(nums[q[0]])\n        return ans"
  },
  {
   "cell_type": "code",
   "execution_count": null,
   "id": "8df274ed",
   "metadata": {
    "lines_to_next_cell": 2
   },
   "outputs": [],
   "source": [
    "if __name__ == \"__main__\":\n",
    "    s = Solution()\n",
    "    nums = [1,3,-1,-3,5,3,6,7]\n",
    "    k = 3\n",
    "    print(s.maxSlidingWindow(nums,k))\n",
    "    nums = [1]\n",
    "    k = 1\n",
    "    print(s.maxSlidingWindow(nums,k))"
   ]
  }
 ],
 "metadata": {
  "jupytext": {
   "cell_metadata_filter": "-all",
   "encoding": "# -*- coding: utf-8 -*-",
   "executable": "/usr/bin/env python"
  },
  "kernelspec": {
   "display_name": "Python 3 (ipykernel)",
   "language": "python",
   "name": "python3"
  }
 },
 "nbformat": 4,
 "nbformat_minor": 5
}