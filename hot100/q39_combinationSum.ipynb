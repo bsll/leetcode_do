{
 "cells": [
  {
   "cell_type": "markdown",
   "metadata": {},
   "source": "给你一个 无重复元素 的整数数组 candidates 和一个目标整数 target ，找出 candidates 中可以使数字和为目标数 target 的 所有 不同组合 ，并以列表形式返回。你可以按 任意顺序 返回这些组合。\n\ncandidates 中的 同一个 数字可以 无限制重复被选取 。如果至少一个数字的被选数量不同，则两种组合是不同的。 \n\n对于给定的输入，保证和为 target 的不同组合数少于 150 个。\n\n \n\n示例 1：\n\n输入：candidates = [2,3,6,7], target = 7\n输出：[[2,2,3],[7]]\n解释：\n2 和 3 可以形成一组候选，2 + 2 + 3 = 7 。注意 2 可以使用多次。\n7 也是一个候选， 7 = 7 。\n仅有这两种组合。\n示例 2：\n\n输入: candidates = [2,3,5], target = 8\n输出: [[2,2,2,2],[2,3,3],[3,5]]\n示例 3：\n\n输入: candidates = [2], target = 1\n输出: []\n \n\n提示：\n\n1 <= candidates.length <= 30\n2 <= candidates[i] <= 40\ncandidates 的所有元素 互不相同\n1 <= target <= 40"
  },
  {
   "cell_type": "code",
   "execution_count": null,
   "id": "cda2e6f5",
   "metadata": {
    "lines_to_next_cell": 2
   },
   "outputs": [],
   "source": "'''\n思路：\n核心思路：回溯法 + 剪枝\n排序候选数组：先将候选数组排序，便于后续剪枝和避免重复组合。\n回溯函数设计：定义内部函数 back(i, cur_sum)，其中：\ni 表示当前遍历的起始索引（控制元素选择范围）。\ncur_sum 是当前组合的和。\n递归终止条件：\n若 cur_sum > target，直接返回（无效组合）。\n若 cur_sum == target，将当前组合 state 的副本加入结果列表 res。\n遍历候选元素：\n从索引 i 开始遍历，允许重复选择同一元素（通过递归时传递 j 而非 j+1）。\n将当前元素加入 state，递归尝试组合，回溯时弹出元素\n'''\nclass Solution(object):\n    def combinationSum(self, candidates, target):\n        \"\"\"\n        :type candidates: List[int]\n        :type target: int\n        :rtype: List[List[int]]\n        \"\"\"\n        n = len(candidates)\n        candidates.sort()\n        res = []\n        state = []\n        def back(i, cur_sum):\n            if cur_sum > target:\n                return\n            elif cur_sum == target:\n                res.append(state[:])\n                return\n            else:\n                for j in range(i, n):\n                    state.append(candidates[j])\n                    back(j, cur_sum + candidates[j])\n                    state.pop()\n        back(0,0)\n        return res\nif __name__ == \"__main__\":\n    s = Solution()\n    print(s.combinationSum([2,3,6,7],7))"
  }
 ],
 "metadata": {
  "jupytext": {
   "cell_metadata_filter": "-all",
   "encoding": "# -*- coding: utf-8 -*-",
   "executable": "/usr/bin/env python"
  },
  "kernelspec": {
   "display_name": "Python 3 (ipykernel)",
   "language": "python",
   "name": "python3"
  }
 },
 "nbformat": 4,
 "nbformat_minor": 5
}