{
 "cells": [
  {
   "cell_type": "markdown",
   "metadata": {},
   "source": "给定一个二叉搜索树的根节点 root ，和一个整数 k ，请你设计一个算法查找其中第 k 小的元素（从 1 开始计数）。\n\n示例 1：\n\n输入：root = [3,1,4,null,2], k = 1\n输出：1\n示例 2：\n输入：root = [5,3,6,2,4,null,null,1], k = 3\n输出：3\n \n提示：\n\n树中的节点数为 n 。\n1 <= k <= n <= 104\n0 <= Node.val <= 104"
  },
  {
   "cell_type": "code",
   "execution_count": null,
   "id": "38f9806a",
   "metadata": {},
   "outputs": [],
   "source": "'''\n思路：中序遍历，数到 k,如果 k很大，可能会超时\n'''\nfrom utils import generate_tree\nclass Solution(object):\n    def kthSmallest(self, root, k):\n        \"\"\"\n        :type root: Optional[TreeNode]\n        :type k: int\n        :rtype: int\n        \"\"\"\n        def dfs(node,k):\n            if not node:\n                return None\n            if len(res) == k:\n                return None\n            dfs(node.left,k)\n            res.append(node.val)\n            dfs(node.right,k)\n        res = []\n        dfs(root,k)\n        return res[k-1]\nif __name__ == '__main__':\n    s = Solution()\n    print(s.kthSmallest(generate_tree([3,1,4,None,2]),2))\n    print(s.kthSmallest(generate_tree([5,3,6,2,4,None,None,1]),3))"
  },
  {
   "cell_type": "code",
   "execution_count": null,
   "id": "d2a16e85",
   "metadata": {},
   "outputs": [],
   "source": []
  }
 ],
 "metadata": {
  "jupytext": {
   "cell_metadata_filter": "-all",
   "encoding": "# -*- coding: utf-8 -*-",
   "executable": "/usr/bin/env python"
  },
  "kernelspec": {
   "display_name": "Python 3 (ipykernel)",
   "language": "python",
   "name": "python3"
  }
 },
 "nbformat": 4,
 "nbformat_minor": 5
}