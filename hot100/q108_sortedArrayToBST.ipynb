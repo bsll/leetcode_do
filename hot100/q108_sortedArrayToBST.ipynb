{
 "cells": [
  {
   "cell_type": "markdown",
   "metadata": {},
   "source": "给你一个整数数组 nums ，其中元素已经按 升序 排列，请你将其转换为一棵 \n平衡\n 二叉搜索树。\n\n \n\n示例 1：\n\n\n输入：nums = [-10,-3,0,5,9]\n输出：[0,-3,9,-10,null,5]\n解释：[0,-10,5,null,-3,null,9] 也将被视为正确答案：\n\n示例 2：\n\n\n输入：nums = [1,3]\n输出：[3,1]\n解释：[1,null,3] 和 [3,1] 都是高度平衡二叉搜索树。\n \n\n提示：\n\n1 <= nums.length <= 104\n-104 <= nums[i] <= 104\nnums 按 严格递增 顺序排列"
  },
  {
   "cell_type": "code",
   "execution_count": null,
   "id": "6b508f2f",
   "metadata": {
    "lines_to_next_cell": 2
   },
   "outputs": [],
   "source": "'''\n思路：从中间位置开始遍历，总是选择中间位置左边的数字作为根节点\n'''\nfrom utils import TreeNode\nclass Solution(object):\n    def sortedArrayToBST(self, nums):\n        \"\"\"\n        :type nums: List[int]\n        :rtype: Optional[TreeNode]\n        \"\"\"\n        def dfs(nums, left, right):\n            if left > right:\n                return None\n            mid = (left + right) // 2\n            root = TreeNode(nums[mid])\n            root.left = dfs(nums,left, mid-1)\n            root.right = dfs(nums,mid+1, right)\n            return root\n        return dfs(nums, 0, len(nums)-1)\nif __name__ == '__main__':\n    s = Solution()\n    print(s.sortedArrayToBST([-10,-3,0,5,9]))\n    print(s.sortedArrayToBST([1,3]))"
  }
 ],
 "metadata": {
  "jupytext": {
   "cell_metadata_filter": "-all",
   "encoding": "# -*- coding: utf-8 -*-",
   "executable": "/usr/bin/env python"
  },
  "kernelspec": {
   "display_name": "Python 3 (ipykernel)",
   "language": "python",
   "name": "python3"
  }
 },
 "nbformat": 4,
 "nbformat_minor": 5
}