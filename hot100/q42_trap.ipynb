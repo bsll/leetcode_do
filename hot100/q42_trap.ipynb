{
 "cells": [
  {
   "cell_type": "markdown",
   "metadata": {},
   "source": "给定 n 个非负整数表示每个宽度为 1 的柱子的高度图，计算按此排列的柱子，下雨之后能接多少雨水。\n\n示例 1：\n输入：height = [0,1,0,2,1,0,1,3,2,1,2,1]\n输出：6\n解释：上面是由数组 [0,1,0,2,1,0,1,3,2,1,2,1] 表示的高度图，在这种情况下，可以接 6 个单位的雨水（蓝色部分表示雨水）。 \n示例 2：\n\n输入：height = [4,2,0,3,2,5]\n输出：9"
  },
  {
   "cell_type": "code",
   "execution_count": null,
   "id": "f8e163a8",
   "metadata": {},
   "outputs": [],
   "source": "'''\n思路：动态规划：1、建两个数组，一个从左往右依次变大，一个从右往左依次变大，\n                这样就知道每个位置的左边的最大高度，和右边的最大高度\n             2、找两个数组中的较小，减去当前的高度就是当前的蓄水量\n                面积为两边的最大高度的较小值，减去本身的高度\n     双指针：把动态规划里面的数组变成两个指针\n'''\nfrom typing import List\nclass Solution:\n    def trap(self, height: List[int]) -> int:\n        m = len(height)\n        leftMax = [0] * m\n        leftMax[0] = height[0]\n        for i in range(1,m):\n            leftMax[i] = max(leftMax[i-1], height[i])\n        rightMax = [0] * m\n        rightMax[-1] = height[-1]\n        for i in range(m-2,-1,-1):\n            rightMax[i] = max(height[i], rightMax[i+1])\n        area = 0\n        for i in range(m):\n            area = area + min(leftMax[i],rightMax[i]) - height[i]\n        return area\n    def trap2(self, height: List[int]) -> int:\n        m = len(height)\n        left = 0\n        right = m-1\n        leftMax = 0\n        rightMax = 0\n        area = 0\n        while left < right:\n            leftMax = max(leftMax,height[left])\n            rightMax = max(rightMax, height[right])\n            if height[left] < height[right]:\n                area = area + leftMax - height[left]\n                left += 1\n            elif height[left] >= height[right]:\n                area = area + rightMax - height[right]\n                right -= 1\n        return area\nif __name__ == \"__main__\":\n    s = Solution()\n    print(s.trap2([0,1,0,2,1,0,1,3,2,1,2,1]))\n    print(s.trap2([4,2,0,3,2,5]))"
  },
  {
   "cell_type": "code",
   "execution_count": null,
   "id": "05aff64e",
   "metadata": {},
   "outputs": [],
   "source": [
    "            "
   ]
  },
  {
   "cell_type": "code",
   "execution_count": null,
   "id": "f3c3b440",
   "metadata": {},
   "outputs": [],
   "source": []
  },
  {
   "cell_type": "code",
   "execution_count": null,
   "id": "bde451b4",
   "metadata": {},
   "outputs": [],
   "source": []
  }
 ],
 "metadata": {
  "jupytext": {
   "cell_metadata_filter": "-all",
   "encoding": "# -*- coding: utf-8 -*-",
   "executable": "/usr/bin/env python"
  },
  "kernelspec": {
   "display_name": "Python 3 (ipykernel)",
   "language": "python",
   "name": "python3"
  }
 },
 "nbformat": 4,
 "nbformat_minor": 5
}