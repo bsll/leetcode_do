{
 "cells": [
  {
   "cell_type": "markdown",
   "metadata": {},
   "source": "给定一个非负整数 numRows，生成「杨辉三角」的前 numRows 行。\n\n在「杨辉三角」中，每个数是它左上方和右上方的数的和。\n示例 1:\n\n输入: numRows = 5\n输出: [[1],[1,1],[1,2,1],[1,3,3,1],[1,4,6,4,1]]\n示例 2:\n输入: numRows = 1\n输出: [[1]]\n提示:\n1 <= numRows <= 30"
  },
  {
   "cell_type": "code",
   "execution_count": null,
   "id": "6d16ff99",
   "metadata": {},
   "outputs": [],
   "source": "'''\n思路：\n'''\nclass Solution(object):\n    def generate(self, numRows):\n        \"\"\"\n        :type numRows: int\n        :rtype: List[List[int]]\n        \"\"\"\n        res = []\n        if numRows == 1:\n            return [[1]]\n        res = [[1]]\n        for i in range(1,numRows):\n            tmp = []\n            a = 0\n            for j in range(len(res[i-1])):\n                b = res[i-1][j]\n                tmp.append(a + b)\n                a = b\n            tmp.append(a)\n            res.append(tmp)\n        return res\nif __name__ == \"__main__\":\n    s = Solution()\n    print(s.generate(5))"
  }
 ],
 "metadata": {
  "jupytext": {
   "cell_metadata_filter": "-all",
   "encoding": "# -*- coding: utf-8 -*-",
   "executable": "/usr/bin/env python"
  },
  "kernelspec": {
   "display_name": "Python 3 (ipykernel)",
   "language": "python",
   "name": "python3"
  }
 },
 "nbformat": 4,
 "nbformat_minor": 5
}