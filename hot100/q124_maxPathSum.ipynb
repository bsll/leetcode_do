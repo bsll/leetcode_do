{
 "cells": [
  {
   "cell_type": "markdown",
   "metadata": {},
   "source": "二叉树中的 路径 被定义为一条节点序列，序列中每对相邻节点之间都存在一条边。同一个节点在一条路径序列中 至多出现一次 。该路径 至少包含一个 节点，且不一定经过根节点。\n\n路径和 是路径中各节点值的总和。\n\n给你一个二叉树的根节点 root ，返回其 最大路径和 。\n示例 1：\n输入：root = [1,2,3]\n输出：6\n解释：最优路径是 2 -> 1 -> 3 ，路径和为 2 + 1 + 3 = 6\n示例 2：\n输入：root = [-10,9,20,null,null,15,7]\n输出：42\n解释：最优路径是 15 -> 20 -> 7 ，路径和为 15 + 20 + 7 = 42"
  },
  {
   "cell_type": "code",
   "execution_count": null,
   "id": "41ec1ede",
   "metadata": {},
   "outputs": [],
   "source": "'''\n思路：计算当前节点的 最大路径和 可以包含左右节点，但最大贡献度不能同时包括左右节点。\n因为对于某节点，他的贡献只能带其中一个孩子（带大孩子走），整个路径才能向上延伸\n'''\nclass Solution(object):\n    def maxPathSum(self, root):\n        \"\"\"\n        :type root: Optional[TreeNode]\n        :rtype: int\n        \"\"\"\n        self.maxSum = float(\"-inf\")\n        def maxGain(node):\n            if not node:\n                return 0\n            # 递归计算左右子节点的最大贡献值\n            leftGain = max(maxGain(node.left), 0)\n            rightGain = max(maxGain(node.right),0)\n            # 计算当前路径的最大路径和，这时候可以包含左右节点\n            currPathSum = node.val + leftGain + rightGain\n            self.maxSum = max(self.maxSum, currPathSum)\n            # 节点的最终贡献值只用选较大的一个，因为只能选一遍\n            return node.val + max(leftGain, rightGain)\n        maxGain(root)\n        return self.maxSum"
  },
  {
   "cell_type": "code",
   "execution_count": null,
   "id": "16a308d6",
   "metadata": {},
   "outputs": [],
   "source": [
    "            "
   ]
  }
 ],
 "metadata": {
  "jupytext": {
   "cell_metadata_filter": "-all",
   "encoding": "# -*- coding: utf-8 -*-",
   "executable": "/usr/bin/env python"
  },
  "kernelspec": {
   "display_name": "Python 3 (ipykernel)",
   "language": "python",
   "name": "python3"
  }
 },
 "nbformat": 4,
 "nbformat_minor": 5
}