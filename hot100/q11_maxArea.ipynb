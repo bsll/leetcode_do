{
 "cells": [
  {
   "cell_type": "markdown",
   "metadata": {},
   "source": "给定一个长度为 n 的整数数组 height 。有 n 条垂线，第 i 条线的两个端点是 (i, 0) 和 (i, height[i]) 。\n\n找出其中的两条线，使得它们与 x 轴共同构成的容器可以容纳最多的水。\n\n返回容器可以储存的最大水量。\n\n说明：你不能倾斜容器。\n\n示例 1：\n输入：[1,8,6,2,5,4,8,3,7]\n输出：49 \n解释：图中垂直线代表输入数组 [1,8,6,2,5,4,8,3,7]。在此情况下，容器能够容纳水（表示为蓝色部分）的最大值为 49。\n示例 2：\n\n输入：height = [1,1]\n输出：1"
  },
  {
   "cell_type": "code",
   "execution_count": null,
   "id": "2f265426",
   "metadata": {},
   "outputs": [],
   "source": "'''\n思路：双指针，一个从前面找，一个从最后面找，每次从短的往长的移动\n     这个题要记住的是，要找两个线能接的最多的水，不是两个线范围内能接的最多水。\n'''\nclass Solution(object):\n    def maxArea(self,height):\n        if len(height) <= 1:\n            return 0\n        maxArea = 0\n        start = 0\n        end = len(height) - 1\n        while start < end:\n            if height[start] >= height[end]:\n                maxArea = max(maxArea, height[end] * (end-start))\n                end -= 1\n            else:\n                maxArea = max(maxArea, height[start] * (end-start))\n                start += 1\n        return maxArea\nif __name__ == \"__main__\":\n    s = Solution()\n    print(s.maxArea([1,8,6,2,5,4,8,3,7]))\n    print(s.maxArea([1,1]))\n    print(s.maxArea([1]))\n    print(s.maxArea([]))"
  },
  {
   "cell_type": "code",
   "execution_count": null,
   "id": "ab39f6ef",
   "metadata": {},
   "outputs": [],
   "source": []
  },
  {
   "cell_type": "code",
   "execution_count": null,
   "id": "f4c24972",
   "metadata": {
    "lines_to_next_cell": 2
   },
   "outputs": [],
   "source": []
  }
 ],
 "metadata": {
  "jupytext": {
   "cell_metadata_filter": "-all",
   "encoding": "# -*- coding: utf-8 -*-",
   "executable": "/usr/bin/env python"
  },
  "kernelspec": {
   "display_name": "Python 3 (ipykernel)",
   "language": "python",
   "name": "python3"
  }
 },
 "nbformat": 4,
 "nbformat_minor": 5
}