{
 "cells": [
  {
   "cell_type": "markdown",
   "metadata": {},
   "source": "给你二叉树的根节点 root ，返回其节点值的 层序遍历 。 （即逐层地，从左到右访问所有节点）。"
  },
  {
   "cell_type": "code",
   "execution_count": null,
   "id": "28190093",
   "metadata": {},
   "outputs": [],
   "source": "'''\n解题思路：广度优先遍历 先把节点放到数组a里面，然后依次遍历值放到 b,所有的 b就是遍历结果\n'''     \nclass Solution(object):\n    def levelOrder(self, root):\n        \"\"\"\n        :type root: TreeNode\n        :rtype: List[List[int]]\n        \"\"\"\n        if root == None:\n            return root\n        res = []\n        tmp = [root]\n        while tmp != []:\n            tmp1 = []\n            tmp2 = []\n            for key in tmp:\n                if key.left:\n                    tmp1.append(key.left)\n                if key.right:\n                    tmp1.append(key.right)\n                tmp2.append(key.val)\n            res.append(tmp2)\n            tmp = tmp1\n        return res"
  }
 ],
 "metadata": {
  "jupytext": {
   "cell_metadata_filter": "-all",
   "encoding": "# -*- coding: utf-8 -*-",
   "executable": "/usr/bin/env python"
  },
  "kernelspec": {
   "display_name": "Python 3 (ipykernel)",
   "language": "python",
   "name": "python3"
  }
 },
 "nbformat": 4,
 "nbformat_minor": 5
}