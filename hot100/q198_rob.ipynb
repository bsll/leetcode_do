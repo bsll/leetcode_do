{
 "cells": [
  {
   "cell_type": "markdown",
   "metadata": {},
   "source": "你是一个专业的小偷，计划偷窃沿街的房屋。每间房内都藏有一定的现金，影响你偷窃的唯一制约因素就是相邻的房屋装有相互连通的防盗系统，如果两间相邻的房屋在同一晚上被小偷闯入，系统会自动报警。\n\n给定一个代表每个房屋存放金额的非负整数数组，计算你 不触动警报装置的情况下 ，一夜之内能够偷窃到的最高金额。\n\n \n\n示例 1：\n\n输入：[1,2,3,1]\n输出：4\n解释：偷窃 1 号房屋 (金额 = 1) ，然后偷窃 3 号房屋 (金额 = 3)。\n     偷窃到的最高金额 = 1 + 3 = 4 。\n示例 2：\n\n输入：[2,7,9,3,1]\n输出：12\n解释：偷窃 1 号房屋 (金额 = 2), 偷窃 3 号房屋 (金额 = 9)，接着偷窃 5 号房屋 (金额 = 1)。\n     偷窃到的最高金额 = 2 + 9 + 1 = 12 。"
  },
  {
   "cell_type": "code",
   "execution_count": null,
   "id": "91bc4e54",
   "metadata": {},
   "outputs": [],
   "source": "'''\n思路：动态规划 f(n) = max(f(n-1), f(n-2)+nums[n])\n'''\nclass Solution(object):\n    def rob(self, nums):\n        \"\"\"\n        :type nums: List[int]\n        :rtype: int \n        \"\"\"\n        #动态规划dp[i] = max(dp[i-1],dp[i-2] + nums[i])\n        if len(nums) == 1:\n            return nums[0]\n        if len(nums) == 2:\n            return max(nums[0],nums[1])\n        #只有一个\n        tmp1 = nums[0]\n        #只有两个\n        tmp2 = max(nums[0],nums[1])\n        #两个以上 \n        for i in range(2, len(nums)):\n            #找出当前最大值\n            tmp3 = max(tmp2, tmp1 + nums[i])\n            #顺序移位\n            tmp1 = tmp2\n            tmp2 = tmp3\n        return tmp3\nif __name__ == '__main__':\n    s = Solution()\n    print(s.rob([2,7,9,3,1]))\n    print(s.rob([1,2,3,1]))"
  }
 ],
 "metadata": {
  "jupytext": {
   "cell_metadata_filter": "-all",
   "encoding": "# -*- coding: utf-8 -*-",
   "executable": "/usr/bin/env python"
  },
  "kernelspec": {
   "display_name": "Python 3 (ipykernel)",
   "language": "python",
   "name": "python3"
  }
 },
 "nbformat": 4,
 "nbformat_minor": 5
}