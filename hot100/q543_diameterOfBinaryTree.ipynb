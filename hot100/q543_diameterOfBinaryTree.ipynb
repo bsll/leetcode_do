{
 "cells": [
  {
   "cell_type": "markdown",
   "metadata": {},
   "source": "给你一棵二叉树的根节点，返回该树的 直径 。\n\n二叉树的 直径 是指树中任意两个节点之间最长路径的 长度 。这条路径可能经过也可能不经过根节点 root 。\n\n两节点之间路径的 长度 由它们之间边数表示。\n\n \n\n示例 1：\n\n\n输入：root = [1,2,3,4,5]\n输出：3\n解释：3 ，取路径 [4,2,1,3] 或 [5,2,1,3] 的长度。\n示例 2：\n\n输入：root = [1,2]\n输出：1\n \n\n提示：\n\n树中节点数目在范围 [1, 104] 内\n-100 <= Node.val <= 100"
  },
  {
   "cell_type": "code",
   "execution_count": null,
   "id": "ce1b67b6",
   "metadata": {},
   "outputs": [],
   "source": ""
  },
  {
   "cell_type": "code",
   "execution_count": null,
   "id": "9ce67d54",
   "metadata": {
    "lines_to_next_cell": 1
   },
   "outputs": [],
   "source": [
    "'''\n",
    "思路: 首先，对于任意一个节点，它的直径为经过它的节点数的最大值-1\n",
    "          对于该节点，左子树向下遍历经过最多的节点数等于左子树的深度，右子树同理，\n",
    "          该节点的根的子树的深度为 max(left,right) + 1\n",
    "          对于该节点，当前节点的直径候选值就是左深度+有深度\n",
    "          依次跟存储的最大直径比较，保留最大的就是最终的结果\n",
    "'''\n",
    "from utils import TreeNode, generate_tree\n",
    "class Solution(object):\n",
    "    def diameterOfBinaryTree(self, root):\n",
    "        \"\"\"\n",
    "        :type root: Optional[TreeNode]\n",
    "        :rtype: int\n",
    "        \"\"\"\n",
    "        self.ans = 0\n",
    "        def dfs(node):\n",
    "            if not node:\n",
    "                return 0\n",
    "            left =  dfs(node.left)\n",
    "            right =  dfs(node.right) \n",
    "            self.ans = max(self.ans, left+right)\n",
    "            return max(left,right) + 1\n",
    "        dfs(root)\n",
    "        return self.ans "
   ]
  },
  {
   "cell_type": "code",
   "execution_count": null,
   "id": "faeb084c",
   "metadata": {},
   "outputs": [],
   "source": [
    "if __name__ == '__main__':\n",
    "    s = Solution()\n",
    "    root = generate_tree([1,2,3,4,5])\n",
    "    print(s.diameterOfBinaryTree(root))\n",
    "    root = generate_tree([1,2])\n",
    "    print(s.diameterOfBinaryTree(root))"
   ]
  }
 ],
 "metadata": {
  "jupytext": {
   "cell_metadata_filter": "-all",
   "encoding": "# -*- coding: utf-8 -*-",
   "executable": "/usr/bin/env python"
  },
  "kernelspec": {
   "display_name": "Python 3 (ipykernel)",
   "language": "python",
   "name": "python3"
  }
 },
 "nbformat": 4,
 "nbformat_minor": 5
}