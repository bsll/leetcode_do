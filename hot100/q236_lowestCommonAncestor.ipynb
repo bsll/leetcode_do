{
 "cells": [
  {
   "cell_type": "markdown",
   "metadata": {},
   "source": "给定一个二叉树, 找到该树中两个指定节点的最近公共祖先。\n\n百度百科中最近公共祖先的定义为：“对于有根树 T 的两个节点 p、q，最近公共祖先表示为一个节点 x，满足 x 是 p、q 的祖先且 x 的深度尽可能大（一个节点也可以是它自己的祖先）。”\n\n \n\n示例 1：\n\n\n输入：root = [3,5,1,6,2,0,8,null,null,7,4], p = 5, q = 1\n输出：3\n解释：节点 5 和节点 1 的最近公共祖先是节点 3 。\n示例 2：\n\n\n输入：root = [3,5,1,6,2,0,8,null,null,7,4], p = 5, q = 4\n输出：5\n解释：节点 5 和节点 4 的最近公共祖先是节点 5 。因为根据定义最近公共祖先节点可以为节点本身。\n示例 3：\n\n输入：root = [1,2], p = 1, q = 2\n输出：1\n \n\n提示：\n\n树中节点数目在范围 [2, 105] 内。\n-109 <= Node.val <= 109\n所有 Node.val 互不相同 。\np != q\np 和 q 均存在于给定的二叉树中。"
  },
  {
   "cell_type": "code",
   "execution_count": null,
   "id": "6efc046e",
   "metadata": {},
   "outputs": [],
   "source": "'''\n思路：\n递归终止条件：\n如果当前节点 root 为空（即 not root），或者当前节点就是 p 或 q，那么直接返回当前节点 root。这是因为：\n如果 root 为空，说明已经遍历到了叶子节点的子节点，返回 None。\n如果 root 是 p 或 q，说明当前节点就是 p 或 q 本身，直接返回它。\n递归搜索左子树：\n调用 self.lowestCommonAncestor(root.left, p, q)，在左子树中递归寻找 p 和 q 的最低公共祖先。\n递归搜索右子树：\n调用 self.lowestCommonAncestor(root.right, p, q)，在右子树中递归寻找 p 和 q 的最低公共祖先。\n\n判断结果：\n如果左子树中没有找到 p 或 q（即 left 为 None），说明 p 和 q 都在右子树中，返回右子树的结果 right。\n如果右子树中没有找到 p 或 q（即 right 为 None），说明 p 和 q 都在左子树中，返回左子树的结果 left。\n如果 p 和 q 分别位于当前节点的左右子树中，那么当前节点 root 就是它们的最低公共祖先，返回 root。\n\n'''\nclass Solution(object):\n    def lowestCommonAncestor(self, root, p, q):\n        \"\"\"\n        :type root: TreeNode\n        :type p: TreeNode\n        :type q: TreeNode\n        :rtype: TreeNode\n        \"\"\"\n        # 如果当前节点为空，或者当前节点就是 p 或 q，直接返回当前节点\n        #如果 root 为空，说明已经遍历到了叶子节点的子节点，返回 None。\n        #如果 root 是 p 或 q，说明当前节点就是 p 或 q 本身，直接返回它。\n        if (not root) or root == p or root == q:\n            return root\n        \n        # 递归地在左子树中寻找 p 和 q 的最低公共祖先\n        left = self.lowestCommonAncestor(root.left, p, q)\n        \n        # 递归地在右子树中寻找 p 和 q 的最低公共祖先\n        right = self.lowestCommonAncestor(root.right, p, q)\n        \n        # 如果左子树中没有找到 p 或 q，说明 p 和 q 都在右子树中，返回右子树的结果\n        if not left:\n            return right\n        \n        # 如果右子树中没有找到 p 或 q，说明 p 和 q 都在左子树中，返回左子树的结果\n        if not right:\n            return left\n        \n        # 如果 p 和 q 分别位于当前节点的左右子树中，那么当前节点就是它们的最低公共祖先\n        return root"
  }
 ],
 "metadata": {
  "jupytext": {
   "cell_metadata_filter": "-all",
   "encoding": "# -*- coding: utf-8 -*-",
   "executable": "/usr/bin/env python"
  },
  "kernelspec": {
   "display_name": "Python 3 (ipykernel)",
   "language": "python",
   "name": "python3"
  }
 },
 "nbformat": 4,
 "nbformat_minor": 5
}