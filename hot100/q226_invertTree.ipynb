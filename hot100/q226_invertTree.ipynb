{
 "cells": [
  {
   "cell_type": "markdown",
   "metadata": {},
   "source": "给你一棵二叉树的根节点 root ，翻转这棵二叉树，并返回其根节点。"
  },
  {
   "cell_type": "code",
   "execution_count": null,
   "id": "2ff8d3f0",
   "metadata": {},
   "outputs": [],
   "source": "'''\n解题思路：递归\n'''\nclass Solution(object):\n    def invertTree(self, root):\n        if not root:\n            return None\n        root.left, root.right = self.invertTree(root.right), self.invertTree(root.left)\n        return root"
  }
 ],
 "metadata": {
  "jupytext": {
   "cell_metadata_filter": "-all",
   "encoding": "# -*- coding: utf-8 -*-",
   "executable": "/usr/bin/env python"
  },
  "kernelspec": {
   "display_name": "Python 3 (ipykernel)",
   "language": "python",
   "name": "python3"
  }
 },
 "nbformat": 4,
 "nbformat_minor": 5
}