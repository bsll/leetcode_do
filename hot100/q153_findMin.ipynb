{
 "cells": [
  {
   "cell_type": "markdown",
   "metadata": {},
   "source": "已知一个长度为 n 的数组，预先按照升序排列，经由 1 到 n 次 旋转 后，得到输入数组。例如，原数组 nums = [0,1,2,4,5,6,7] 在变化后可能得到：\n若旋转 4 次，则可以得到 [4,5,6,7,0,1,2]\n若旋转 7 次，则可以得到 [0,1,2,4,5,6,7]\n注意，数组 [a[0], a[1], a[2], ..., a[n-1]] 旋转一次 的结果为数组 [a[n-1], a[0], a[1], a[2], ..., a[n-2]] 。\n\n给你一个元素值 互不相同 的数组 nums ，它原来是一个升序排列的数组，并按上述情形进行了多次旋转。请你找出并返回数组中的 最小元素 。\n\n你必须设计一个时间复杂度为 O(log n) 的算法解决此问题。\n\n \n\n示例 1：\n\n输入：nums = [3,4,5,1,2]\n输出：1\n解释：原数组为 [1,2,3,4,5] ，旋转 3 次得到输入数组。\n示例 2：\n\n输入：nums = [4,5,6,7,0,1,2]\n输出：0\n解释：原数组为 [0,1,2,4,5,6,7] ，旋转 3 次得到输入数组。\n示例 3：\n\n输入：nums = [11,13,15,17]\n输出：11\n解释：原数组为 [11,13,15,17] ，旋转 4 次得到输入数组。"
  },
  {
   "cell_type": "code",
   "execution_count": null,
   "id": "2e5bab82",
   "metadata": {},
   "outputs": [],
   "source": "'''\n思路：二分查找，每次比较中间值和最右值，如果中间值小于最右值，说明最小值在中间值左侧，否则在右侧\n'''\nclass Solution(object):\n    def findMin(self, nums):\n        \"\"\"\n        :type nums: List[int]\n        :rtype: int\n        \"\"\"\n        start,end = 0, len(nums)-1\n        while start < end:\n            mid = (end - start) // 2 + start\n            #如果右边有序，说明在左侧\n            if nums[mid] < nums[end]:\n                end = mid\n            #如果左边有序，肯定在右侧\n            else:\n                start = mid + 1\n        return nums[start]\nif __name__ == '__main__':\n    s = Solution()\n    print(s.findMin([3,4,5,1,2]))"
  }
 ],
 "metadata": {
  "jupytext": {
   "cell_metadata_filter": "-all",
   "encoding": "# -*- coding: utf-8 -*-",
   "executable": "/usr/bin/env python"
  },
  "kernelspec": {
   "display_name": "Python 3 (ipykernel)",
   "language": "python",
   "name": "python3"
  }
 },
 "nbformat": 4,
 "nbformat_minor": 5
}