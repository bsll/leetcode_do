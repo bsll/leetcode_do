{
 "cells": [
  {
   "cell_type": "markdown",
   "metadata": {},
   "source": "给你一个长度为 n 的链表，每个节点包含一个额外增加的随机指针 random ，该指针可以指向链表中的任何节点或空节点。\n构造这个链表的 深拷贝。 深拷贝应该正好由 n 个 全新 节点组成，其中每个新节点的值都设为其对应的原节点的值。新节点的 next 指针和 random 指针也都应指向复制链表中的新节点，并使原链表和复制链表中的这些指针能够表示相同的链表状态。复制链表中的指针都不应指向原链表中的节点 。\n例如，如果原链表中有 X 和 Y 两个节点，其中 X.random --> Y 。那么在复制链表中对应的两个节点 x 和 y ，同样有 x.random --> y 。\n返回复制链表的头节点。\n用一个由 n 个节点组成的链表来表示输入/输出中的链表。每个节点用一个 [val, random_index] 表示：\nval：一个表示 Node.val 的整数。\nrandom_index：随机指针指向的节点索引（范围从 0 到 n-1）；如果不指向任何节点，则为  null 。\n你的代码 只 接受原链表的头节点 head 作为传入参数。\n\n示例 1：\n\n输入：head = [[7,null],[13,0],[11,4],[10,2],[1,0]]\n输出：[[7,null],[13,0],[11,4],[10,2],[1,0]]\n示例 2：\n\n输入：head = [[1,1],[2,1]]\n输出：[[1,1],[2,1]]\n示例 3：\n\n输入：head = [[3,null],[3,0],[3,null]]\n输出：[[3,null],[3,0],[3,null]]\n \n提示：\n\n0 <= n <= 1000\n-104 <= Node.val <= 104\nNode.random 为 null 或指向链表中的节点。"
  },
  {
   "cell_type": "code",
   "execution_count": null,
   "id": "4d2c44b4",
   "metadata": {
    "lines_to_next_cell": 1
   },
   "outputs": [],
   "source": "'''\n思路：1、直接 copy.deepcopy\n     2、参考题解，递归建链表的思路\n'''"
  },
  {
   "cell_type": "code",
   "execution_count": null,
   "id": "5b8b008c",
   "metadata": {
    "lines_to_next_cell": 2
   },
   "outputs": [],
   "source": [
    "class Solution(object):\n",
    "    def __init__(self):\n",
    "        self.cachedNode = dict()\n",
    "    def copyRandomList(self, head):\n",
    "        \"\"\"\n",
    "        :type head: Node\n",
    "        :rtype: Node\n",
    "        \"\"\"\n",
    "        if not head:\n",
    "            return None\n",
    "        if head not in self.cachedNode:\n",
    "            headNew = Node(head.val)\n",
    "            self.cachedNode[head] = headNew\n",
    "            headNew.next = self.copyRandomList(head.next)\n",
    "            headNew.random = self.copyRandomList(head.random)\n",
    "        return self.cachedNode[head]"
   ]
  }
 ],
 "metadata": {
  "jupytext": {
   "cell_metadata_filter": "-all",
   "encoding": "# -*- coding: utf-8 -*-",
   "executable": "/usr/bin/env python"
  },
  "kernelspec": {
   "display_name": "Python 3 (ipykernel)",
   "language": "python",
   "name": "python3"
  }
 },
 "nbformat": 4,
 "nbformat_minor": 5
}