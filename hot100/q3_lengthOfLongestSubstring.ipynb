{
 "cells": [
  {
   "cell_type": "markdown",
   "metadata": {},
   "source": "给定一个字符串 s ，请你找出其中不含有重复字符的 最长子串 的长度。\n\n\n示例 1:\n\n输入: s = \"abcabcbb\"\n输出: 3 \n解释: 因为无重复字符的最长子串是 \"abc\"，所以其长度为 3。\n示例 2:\n\n输入: s = \"bbbbb\"\n输出: 1\n解释: 因为无重复字符的最长子串是 \"b\"，所以其长度为 1。\n示例 3:\n\n输入: s = \"pwwkew\"\n输出: 3\n解释: 因为无重复字符的最长子串是 \"wke\"，所以其长度为 3。\n     请注意，你的答案必须是 子串 的长度，\"pwke\" 是一个子序列，不是子串。\n \n提示：\n\n0 <= s.length <= 5 * 104\ns 由英文字母、数字、符号和空格组成"
  },
  {
   "cell_type": "code",
   "execution_count": null,
   "id": "4063daef",
   "metadata": {},
   "outputs": [],
   "source": "'''\n解题思路：因为是子串，所以用快慢指针控制就好了\n'''\n'''\n以前的解法\nclass Solution(object):\n    def lengthOfLongestSubstring(self, s):\n        \"\"\"\n        :type s: str\n        :rtype: int\n        \"\"\"\n        if len(s) <= 1:\n            return len(s)\n        s2 = s[0]\n        length = 1\n        for i in range(1, len(s)):\n            if s[i] in s2:\n                index = s2.index(s[i])\n                s2 = s2[index+1:] + s[i]\n            else:\n                s2 += s[i]\n            if len(s2) > length:\n                length = len(s2)\n        return length\n'''"
  },
  {
   "cell_type": "code",
   "execution_count": null,
   "id": "b74bbe7a",
   "metadata": {},
   "outputs": [],
   "source": [
    "'''\n",
    "新的方法没有使用内置的index函数，位置是通过循环自己找的\n",
    "'''\n",
    "class Solution(object):\n",
    "    def lengthOfLongestSubstring(self, s):\n",
    "        \"\"\"\n",
    "        :type s: str\n",
    "        :rtype: int\n",
    "        \"\"\"\n",
    "        if len(s) == 0:\n",
    "            return 0\n",
    "        left = 0\n",
    "        maxlen = 1\n",
    "        for i in range(1,len(s)):\n",
    "            if s[i] in s[left:i]:\n",
    "                if len(s[left:i]) > maxlen:\n",
    "                    maxlen = len(s[left:i])\n",
    "                #for j in range(left, i):\n",
    "                #    if s[j] == s[i]:\n",
    "                #        left = j + 1\n",
    "                #两种方式都可以\n",
    "                left = s[left:i].index(s[i]) + 1 + left\n",
    "        if len(s) - left > maxlen:\n",
    "            maxlen = len(s) - left\n",
    "        return maxlen\n",
    "if __name__ == \"__main__\":\n",
    "    soultion = Solution()\n",
    "    s = \"abcabcbb\"\n",
    "    res = soultion.lengthOfLongestSubstring(s)\n",
    "    print(res)"
   ]
  }
 ],
 "metadata": {
  "jupytext": {
   "cell_metadata_filter": "-all",
   "encoding": "# -*- coding: utf-8 -*-",
   "executable": "/usr/bin/env python"
  },
  "kernelspec": {
   "display_name": "Python 3 (ipykernel)",
   "language": "python",
   "name": "python3"
  }
 },
 "nbformat": 4,
 "nbformat_minor": 5
}