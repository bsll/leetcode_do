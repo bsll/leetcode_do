{
 "cells": [
  {
   "cell_type": "markdown",
   "metadata": {},
   "source": "给你一个二叉树的根节点 root ， 检查它是否轴对称。\n示例 1：\n输入：root = [1,2,2,3,4,4,3]\n输出：true\n示例 2：\n输入：root = [1,2,2,null,3,null,3]\n输出：false\n提示：\n树中节点数目在范围 [1, 1000] 内\n-100 <= Node.val <= 100"
  },
  {
   "cell_type": "code",
   "execution_count": null,
   "id": "ef4de69e",
   "metadata": {
    "lines_to_next_cell": 1
   },
   "outputs": [],
   "source": "'''\n思路：深度遍历，左边往左，右边往右，如果相等就继续遍历，如果不相等就返回 False\n'''"
  },
  {
   "cell_type": "code",
   "execution_count": null,
   "id": "7eef3f6a",
   "metadata": {},
   "outputs": [],
   "source": [
    "class Solution:\n",
    "    def isSymmetric(self, root):\n",
    "        def dfs(left, right):\n",
    "            if not left and not right:\n",
    "                return True\n",
    "            if not(left and right and left.val == right.val):\n",
    "                return False\n",
    "            return dfs(left.left,right.right) and dfs(left.right,right.left)\n",
    "        return dfs(root.left,root.right)"
   ]
  },
  {
   "cell_type": "code",
   "execution_count": null,
   "id": "fdf75366",
   "metadata": {
    "lines_to_next_cell": 2
   },
   "outputs": [],
   "source": [
    "     "
   ]
  }
 ],
 "metadata": {
  "jupytext": {
   "cell_metadata_filter": "-all",
   "encoding": "# -*- coding: utf-8 -*-",
   "executable": "/usr/bin/env python"
  },
  "kernelspec": {
   "display_name": "Python 3 (ipykernel)",
   "language": "python",
   "name": "python3"
  }
 },
 "nbformat": 4,
 "nbformat_minor": 5
}