{
 "cells": [
  {
   "cell_type": "markdown",
   "metadata": {},
   "source": "给你一个二叉树的根节点 root ，判断其是否是一个有效的二叉搜索树。\n\n有效 二叉搜索树定义如下：\n\n节点的左\n子树\n只包含 小于 当前节点的数。\n节点的右子树只包含 大于 当前节点的数。\n所有左子树和右子树自身必须也是二叉搜索树。\n \n\n示例 1：\n\n\n输入：root = [2,1,3]\n输出：true\n示例 2：\n\n\n输入：root = [5,1,4,null,null,3,6]\n输出：false\n解释：根节点的值是 5 ，但是右子节点的值是 4 。\n \n\n提示：\n\n树中节点数目范围在[1, 104] 内\n-231 <= Node.val <= 231 - 1"
  },
  {
   "cell_type": "code",
   "execution_count": null,
   "id": "ecf07db7",
   "metadata": {
    "lines_to_next_cell": 1
   },
   "outputs": [],
   "source": "'''\n思路：递归dfs, 递归过程中判断是否符合有效二叉搜索树的条件\n'''\nfrom utils import generate_tree\nclass Solution(object):\n    def isValidBST(self, root):\n        \"\"\"\n        :type root: Optional[TreeNode]\n        :rtype: bool\n        \"\"\"\n        min_int = float('-inf')\n        max_int = float('inf')\n        def dfs(node,min_int,max_int):\n            if not node:\n                return True\n            val = node.val\n            if val <= min_int or val >= max_int:\n                return False\n            if not dfs(node.right,val,max_int):\n                return False\n            if not dfs(node.left,min_int,val):\n                return False\n            return True\n        return dfs(root,min_int,max_int)"
  },
  {
   "cell_type": "code",
   "execution_count": null,
   "id": "9b2a954c",
   "metadata": {},
   "outputs": [],
   "source": [
    "if __name__ == '__main__':\n",
    "    s = Solution()\n",
    "    print(s.isValidBST(generate_tree([2,2,2])))\n",
    "    print(s.isValidBST(generate_tree([5,1,4,None,None,3,6])))"
   ]
  }
 ],
 "metadata": {
  "jupytext": {
   "cell_metadata_filter": "-all",
   "encoding": "# -*- coding: utf-8 -*-",
   "executable": "/usr/bin/env python"
  },
  "kernelspec": {
   "display_name": "Python 3 (ipykernel)",
   "language": "python",
   "name": "python3"
  }
 },
 "nbformat": 4,
 "nbformat_minor": 5
}