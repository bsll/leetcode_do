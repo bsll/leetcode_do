{
 "cells": [
  {
   "cell_type": "markdown",
   "metadata": {},
   "source": "给定两个字符串 s 和 p，找到 s 中所有 p 的 \n异位词\n 的子串，返回这些子串的起始索引。不考虑答案输出的顺序。\n\n \n\n示例 1:\n\n输入: s = \"cbaebabacd\", p = \"abc\"\n输出: [0,6]\n解释:\n起始索引等于 0 的子串是 \"cba\", 它是 \"abc\" 的异位词。\n起始索引等于 6 的子串是 \"bac\", 它是 \"abc\" 的异位词。\n 示例 2:\n\n输入: s = \"abab\", p = \"ab\"\n输出: [0,1,2]\n解释:\n起始索引等于 0 的子串是 \"ab\", 它是 \"ab\" 的异位词。\n起始索引等于 1 的子串是 \"ba\", 它是 \"ab\" 的异位词。\n起始索引等于 2 的子串是 \"ab\", 它是 \"ab\" 的异位词。"
  },
  {
   "cell_type": "code",
   "execution_count": null,
   "id": "3f7865f3",
   "metadata": {
    "lines_to_next_cell": 2
   },
   "outputs": [],
   "source": "'''\n思路：1、暴力依次遍历，然后比较是否是异位词，异位词可以通过排序后判断是否相等（超时）\n         为了减少排序，应该判断最新的字符是否等于去掉的一个字符，如果不相等，直接跳\n     3、不用排序，使用数组记录每个字母的个数，然后逐次对比\n'''\nfrom typing import List\nclass Solution:\n    def findAnagrams(self, s: str, p: str) -> List[int]:\n        m = len(s)\n        n = len(p)\n        res = []\n        if n > m:\n            return res\n        s_count = [0] * 26\n        p_count = [0] * 26\n        for i in range(n):\n            s_count[ord(s[i])-97] += 1\n        for i in range(n):\n            p_count[ord(p[i])-97] += 1\n        if s_count == p_count:\n            res.append(0)\n        for i in range(1,m-n+1):\n            s_count[ord(s[i-1])-97] -= 1\n            s_count[ord(s[i+n-1])-97] += 1\n            if s_count == p_count:\n                res.append(i)\n        return res\n        \n    def findAnagrams1(self, s: str, p: str) -> List[int]:\n        m = len(s)\n        n = len(p)\n        res = []\n        if n > m:\n            return res\n        if n == 1:\n            for i in range(m):\n                if s[i] == p:\n                    res.append(i)\n            return res\n        pp = sorted(p)\n        i = 0\n        while i < m-n+1: \n            if sorted(s[i:i+n]) == pp:\n                res.append(i)\n                i = i + 1\n                while i < m-n and s[i-1] == s[i+n-1]:\n                    res.append(i)\n                    i = i + 1\n            else:\n                i += 1\n        return res\nif __name__ == \"__main__\":\n    s = Solution()\n    print(s.findAnagrams(\"cbaebabacd\",'abc'))\n    print(s.findAnagrams(\"abab\",\"ab\"))\n    print(s.findAnagrams(\"baa\",\"aa\"))\n    print(s.findAnagrams(\"acdcaeccde\",\"c\"))\n    print(s.findAnagrams(\"abacbabc\",\"abc\"))"
  }
 ],
 "metadata": {
  "jupytext": {
   "cell_metadata_filter": "-all",
   "encoding": "# -*- coding: utf-8 -*-",
   "executable": "/usr/bin/env python"
  },
  "kernelspec": {
   "display_name": "Python 3 (ipykernel)",
   "language": "python",
   "name": "python3"
  }
 },
 "nbformat": 4,
 "nbformat_minor": 5
}