{
 "cells": [
  {
   "cell_type": "markdown",
   "metadata": {},
   "source": "给你一个非负整数数组 nums ，你最初位于数组的 第一个下标 。数组中的每个元素代表你在该位置可以跳跃的最大长度。\n\n判断你是否能够到达最后一个下标，如果可以，返回 true ；否则，返回 false 。\n\n \n\n示例 1：\n\n输入：nums = [2,3,1,1,4]\n输出：true\n解释：可以先跳 1 步，从下标 0 到达下标 1, 然后再从下标 1 跳 3 步到达最后一个下标。\n示例 2：\n\n输入：nums = [3,2,1,0,4]\n输出：false\n解释：无论怎样，总会到达下标为 3 的位置。但该下标的最大跳跃长度是 0 ， 所以永远不可能到达最后一个下标。"
  },
  {
   "cell_type": "code",
   "execution_count": null,
   "id": "d0efceec",
   "metadata": {},
   "outputs": [],
   "source": "'''\n思路：1、贪心算法，从后往前遍历，如果当前值大于等于从后往前遍历到的位置到当前位置的距离，则说明可以到达\n     2、动态规划，在保证能走到 i 的情况下，计算max_len = max(num[i] + i, max_len) ，如果max_len >= len(nums) - 1，则说明可以到达\n        先看当前位置能走的最远处，并且最远处要大于i,才有意义，如果最远处小于 i,说明走不到\n'''\nclass Solution(object):\n    def canJump(self, nums):\n        max_len = nums[0]\n        for i in range(1,len(nums)):\n            if nums[i] + i > max_len and i <= max_len:\n                max_len = nums[i] + i\n        return max_len >= len(nums) - 1\nif __name__ == '__main__':\n    s = Solution()\n    print(s.canJump([2,3,1,1,4]))\n    print(s.canJump([3,2,1,0,4]))"
  }
 ],
 "metadata": {
  "jupytext": {
   "cell_metadata_filter": "-all",
   "encoding": "# -*- coding: utf-8 -*-",
   "executable": "/usr/bin/env python"
  },
  "kernelspec": {
   "display_name": "Python 3 (ipykernel)",
   "language": "python",
   "name": "python3"
  }
 },
 "nbformat": 4,
 "nbformat_minor": 5
}