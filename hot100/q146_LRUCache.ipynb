{
 "cells": [
  {
   "cell_type": "markdown",
   "metadata": {},
   "source": "请你设计并实现一个满足  LRU (最近最少使用) 缓存 约束的数据结构。\n实现 LRUCache 类：\nLRUCache(int capacity) 以 正整数 作为容量 capacity 初始化 LRU 缓存\nint get(int key) 如果关键字 key 存在于缓存中，则返回关键字的值，否则返回 -1 。\nvoid put(int key, int value) 如果关键字 key 已经存在，则变更其数据值 value ；如果不存在，则向缓存中插入该组 key-value 。如果插入操作导致关键字数量超过 capacity ，则应该 逐出 最久未使用的关键字。\n函数 get 和 put 必须以 O(1) 的平均时间复杂度运行。\n\n示例：\n\n输入\n[\"LRUCache\", \"put\", \"put\", \"get\", \"put\", \"get\", \"put\", \"get\", \"get\", \"get\"]\n[[2], [1, 1], [2, 2], [1], [3, 3], [2], [4, 4], [1], [3], [4]]\n输出\n[null, null, null, 1, null, -1, null, -1, 3, 4]\n\n解释\nLRUCache lRUCache = new LRUCache(2);\nlRUCache.put(1, 1); // 缓存是 {1=1}\nlRUCache.put(2, 2); // 缓存是 {1=1, 2=2}\nlRUCache.get(1);    // 返回 1\nlRUCache.put(3, 3); // 该操作会使得关键字 2 作废，缓存是 {1=1, 3=3}\nlRUCache.get(2);    // 返回 -1 (未找到)\nlRUCache.put(4, 4); // 该操作会使得关键字 1 作废，缓存是 {4=4, 3=3}\nlRUCache.get(1);    // 返回 -1 (未找到)\nlRUCache.get(3);    // 返回 3\nlRUCache.get(4);    // 返回 4\n \n\n提示：\n\n1 <= capacity <= 3000\n0 <= key <= 10000\n0 <= value <= 105\n最多调用 2 * 105 次 get 和 put"
  },
  {
   "cell_type": "code",
   "execution_count": null,
   "id": "5e723a68",
   "metadata": {
    "lines_to_next_cell": 1
   },
   "outputs": [],
   "source": "\"\"\"\n思路：用字典存，保证 o(1)读取，用双向链表控制元素的时间，头节点是最近刚使用的，末尾节点是最久未使用的\n     需要定义双向链表的结构\n     增加虚拟头节点，和尾节点\n     增加几个内部函数，增加头节点，删除尾节点，删除节点，移动节点为头节点\n\"\"\""
  },
  {
   "cell_type": "code",
   "execution_count": null,
   "id": "d7e38262",
   "metadata": {
    "lines_to_next_cell": 1
   },
   "outputs": [],
   "source": [
    "class DlinkedNode:\n",
    "    def __init__(self, key=0, value=0):\n",
    "        self.key = key\n",
    "        self.value = value\n",
    "        self.prev = None\n",
    "        self.next = None"
   ]
  },
  {
   "cell_type": "code",
   "execution_count": null,
   "id": "ee35140d",
   "metadata": {},
   "outputs": [],
   "source": [
    "class LRUCache(object):\n",
    "\n",
    "    def __init__(self, capacity):\n",
    "        \"\"\"\n",
    "        :type capacity: int\n",
    "        \"\"\"\n",
    "        self.map = {}\n",
    "        self.capacity = capacity\n",
    "        self.head = DlinkedNode()\n",
    "        self.tail = DlinkedNode()\n",
    "        self.head.next = self.tail\n",
    "        self.tail.prev = self.head\n",
    "\n",
    "    def get(self, key):\n",
    "        \"\"\"\n",
    "        :type key: int\n",
    "        :rtype: int\n",
    "        \"\"\"\n",
    "        if key not in self.map:\n",
    "            return -1\n",
    "        node = self.map[key]\n",
    "        self.moveToHead(node)\n",
    "        return node.value\n",
    "\n",
    "    def put(self, key, value):\n",
    "        \"\"\"\n",
    "        :type key: int\n",
    "        :type value: int\n",
    "        :rtype: None\n",
    "        \"\"\"\n",
    "        if key not in self.map:\n",
    "            newhead = DlinkedNode(key,value)\n",
    "            self.map[key] = newhead\n",
    "            self.addToHead(newhead)\n",
    "            if len(self.map) > self.capacity:\n",
    "                remove_node = self.removeTail()\n",
    "                del self.map[remove_node.key]\n",
    "        else:\n",
    "            node = self.map[key]\n",
    "            node.value = value\n",
    "            self.moveToHead(node)\n",
    "    def addToHead(self, newhead):\n",
    "        newhead.next = self.head.next\n",
    "        self.head.next.prev = newhead\n",
    "        self.head.next = newhead\n",
    "        newhead.prev = self.head\n",
    "    def moveToHead(self, newhead):\n",
    "        self.removeNode(newhead)\n",
    "        self.addToHead(newhead)\n",
    "    def removeNode(self, node):\n",
    "        node.prev.next = node.next\n",
    "        node.next.prev = node.prev\n",
    "    def removeTail(self):\n",
    "        node = self.tail.prev\n",
    "        self.removeNode(node)\n",
    "        return node"
   ]
  }
 ],
 "metadata": {
  "jupytext": {
   "cell_metadata_filter": "-all",
   "encoding": "# -*- coding: utf-8 -*-",
   "executable": "/usr/bin/env python"
  },
  "kernelspec": {
   "display_name": "Python 3 (ipykernel)",
   "language": "python",
   "name": "python3"
  }
 },
 "nbformat": 4,
 "nbformat_minor": 5
}