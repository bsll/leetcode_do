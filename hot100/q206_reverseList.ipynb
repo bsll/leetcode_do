{
 "cells": [
  {
   "cell_type": "markdown",
   "metadata": {},
   "source": "给你单链表的头节点 head ，请你反转链表，并返回反转后的链表。\n \n\n示例 1：\n\n\n输入：head = [1,2,3,4,5]\n输出：[5,4,3,2,1]\n示例 2：\n\n\n输入：head = [1,2]\n输出：[2,1]\n示例 3：\n\n输入：head = []\n输出：[]\n \n\n提示：\n\n链表中节点的数目范围是 [0, 5000]\n-5000 <= Node.val <= 5000"
  },
  {
   "cell_type": "code",
   "execution_count": null,
   "id": "6755b95f",
   "metadata": {
    "lines_to_next_cell": 1
   },
   "outputs": [],
   "source": "'''\n解题思路：头插法\n每次处理一个节点，将当前节点的next指向前一个节点（即新链表的头），然后更新头节点为当前节点，最后移动当前节点到原链表的下一个节点\n'''\nfrom utils import ListNode,create_linked_list,print_linked_list\nclass Solution(object):\n    def reverseList(self, head):\n        \"\"\"\n        :type head: ListNode\n        :rtype: ListNode\n        \"\"\"\n        if head == None or head.next == None:\n            return head\n        res = None\n        while head:\n            tmp = ListNode(head.val)\n            tmp.next = res\n            res = tmp\n            head = head.next\n        return head\n    def reverseList2(self, head):\n        \"\"\"\n        :type head: ListNode\n        :rtype: ListNode\n        \"\"\"\n        if head == None or head.next == None:\n            return head\n        res = None\n        while head:\n            tmp = head.next\n            head.next = res\n            res = head\n            head = tmp\n        return res\n    def reverseList3(self, root):\n        if not root:\n            return root\n        head = None\n        while root:\n            #临时保存下一个节点，防止后续修改 root.next 后丢失原来链表后续节点\n            tmp = root.next\n            #反转指针方向，当前节点的next指向新链表的头部（即前一个节点）\n            root.next = head\n            #更新新链表头部\n            head = root\n            #移动到原链表下一个节点\n            root = tmp\n        return head"
  },
  {
   "cell_type": "code",
   "execution_count": null,
   "id": "831ef25f",
   "metadata": {},
   "outputs": [],
   "source": [
    "if __name__ == '__main__':\n",
    "    s = Solution()\n",
    "    head = create_linked_list([1,2,3,4,5])\n",
    "    print(print_linked_list(s.reverseList3(head)))"
   ]
  }
 ],
 "metadata": {
  "jupytext": {
   "cell_metadata_filter": "-all",
   "encoding": "# -*- coding: utf-8 -*-",
   "executable": "/usr/bin/env python"
  },
  "kernelspec": {
   "display_name": "Python 3 (ipykernel)",
   "language": "python",
   "name": "python3"
  }
 },
 "nbformat": 4,
 "nbformat_minor": 5
}