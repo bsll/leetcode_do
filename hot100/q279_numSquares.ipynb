{
 "cells": [
  {
   "cell_type": "markdown",
   "metadata": {},
   "source": "给你一个整数 n ，返回 和为 n 的完全平方数的最少数量 。\n\n完全平方数 是一个整数，其值等于另一个整数的平方；换句话说，其值等于一个整数自乘的积。例如，1、4、9 和 16 都是完全平方数，而 3 和 11 不是。\n\n\n示例 1：\n\n输入：n = 12\n输出：3 \n解释：12 = 4 + 4 + 4\n示例 2：\n\n输入：n = 13\n输出：2\n解释：13 = 4 + 9"
  },
  {
   "cell_type": "code",
   "execution_count": null,
   "id": "9ec77381",
   "metadata": {},
   "outputs": [],
   "source": "'''\n思路：f(n) = min(currmin, f(n-i*i)) + 1  其中i*i <= n,至少需要 1 个，即它本身\n'''\nclass Solution(object):\n    def numSquares(self, n):\n        #要找到是去掉当前一个平方数，之后找到该数需要的最小元素个数\n        f = [0] * (n + 1)\n        f[0] = 0\n        for i in range(1,n+1):\n            j = 1\n            minvalue = 100000\n            while j * j <= i:\n                minvalue = min(minvalue, f[i-j*j])\n                j += 1\n            f[i] = 1 + minvalue\n        return f[n]\nif __name__ == \"__main__\":\n    s = Solution()\n    print(s.numSquares(12))\n    print(s.numSquares(13))\n    print(s.numSquares(16))"
  },
  {
   "cell_type": "code",
   "execution_count": null,
   "id": "6c6fbb31",
   "metadata": {},
   "outputs": [],
   "source": []
  }
 ],
 "metadata": {
  "jupytext": {
   "cell_metadata_filter": "-all",
   "encoding": "# -*- coding: utf-8 -*-",
   "executable": "/usr/bin/env python"
  },
  "kernelspec": {
   "display_name": "Python 3 (ipykernel)",
   "language": "python",
   "name": "python3"
  }
 },
 "nbformat": 4,
 "nbformat_minor": 5
}