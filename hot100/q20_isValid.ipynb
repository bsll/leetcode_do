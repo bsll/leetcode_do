{
 "cells": [
  {
   "cell_type": "markdown",
   "metadata": {},
   "source": "给定一个只包括 '('，')'，'{'，'}'，'['，']' 的字符串 s ，判断字符串是否有效。\n\n有效字符串需满足：\n\n左括号必须用相同类型的右括号闭合。\n左括号必须以正确的顺序闭合。\n每个右括号都有一个对应的相同类型的左括号。\n \n\n示例 1：\n\n输入：s = \"()\"\n\n输出：true\n\n示例 2：\n\n输入：s = \"()[]{}\"\n\n输出：true\n\n示例 3：\n\n输入：s = \"(]\"\n\n输出：false\n\n示例 4：\n\n输入：s = \"([])\"\n\n输出：true\n\n \n\n提示：\n\n1 <= s.length <= 104\ns 仅由括号 '()[]{}' 组成"
  },
  {
   "cell_type": "code",
   "execution_count": null,
   "id": "72f1fd12",
   "metadata": {
    "lines_to_next_cell": 1
   },
   "outputs": [],
   "source": "'''\n思路：利用栈，先进后出\n遍历字符串 s 中的每一个字符 ch：\n\n如果ch 在 pairs 中：\n检查栈是否为空，或者栈顶元素是否与当前右括号对应的左括号匹配。如果不匹配，返回 False。\n如果匹配，则将栈顶的左括号弹出（表示这对括号匹配成功）。\n\n如果 ch 是左括号，则将其压入栈中。\n'''\nclass Solution(object):\n    def isValid(self, s):\n        \"\"\"\n        :type s: str\n        :rtype: bool\n        \"\"\"\n        if len(s) %2 == 1:\n            return False\n        pairs = {\n            ')':'(',\n            ']':'[',\n            '}':'{'\n        }\n        tmp = []\n        for ch in s:\n            #先判断是否为右半边，如果在右半边\n            if ch in pairs:\n                #如果栈非空，说明此时有别的应该匹配的还没匹配\n                #如果栈顶元素不是对应的左半边，说明匹配错误\n                #上述情况直接返回 False,\n                if not tmp or tmp[-1] != pairs[ch]:\n                    return False\n                #否则弹出栈顶元素\n                else:\n                    tmp.pop()\n            #否则进栈\n            else:\n                tmp.append(ch)\n        return not tmp"
  },
  {
   "cell_type": "code",
   "execution_count": null,
   "id": "3df55297",
   "metadata": {},
   "outputs": [],
   "source": [
    "if __name__ == \"__main__\":\n",
    "    s = Solution()\n",
    "    print(s.isValid('()'))\n",
    "    print(s.isValid('()[]{}'))\n",
    "    print(s.isValid('(]'))\n",
    "    print(s.isValid('([])'))"
   ]
  },
  {
   "cell_type": "code",
   "execution_count": null,
   "id": "bee610e7",
   "metadata": {
    "lines_to_next_cell": 2
   },
   "outputs": [],
   "source": []
  }
 ],
 "metadata": {
  "jupytext": {
   "cell_metadata_filter": "-all",
   "encoding": "# -*- coding: utf-8 -*-",
   "executable": "/usr/bin/env python"
  },
  "kernelspec": {
   "display_name": "Python 3 (ipykernel)",
   "language": "python",
   "name": "python3"
  }
 },
 "nbformat": 4,
 "nbformat_minor": 5
}