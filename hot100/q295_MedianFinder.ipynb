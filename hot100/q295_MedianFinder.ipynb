{
 "cells": [
  {
   "cell_type": "markdown",
   "metadata": {},
   "source": "中位数是有序整数列表中的中间值。如果列表的大小是偶数，则没有中间值，中位数是两个中间值的平均值。\n\n例如 arr = [2,3,4] 的中位数是 3 。\n例如 arr = [2,3] 的中位数是 (2 + 3) / 2 = 2.5 。\n实现 MedianFinder 类:\n\nMedianFinder() 初始化 MedianFinder 对象。\n\nvoid addNum(int num) 将数据流中的整数 num 添加到数据结构中。\n\ndouble findMedian() 返回到目前为止所有元素的中位数。与实际答案相差 10-5 以内的答案将被接受。\n\n示例 1：\n\n输入\n[\"MedianFinder\", \"addNum\", \"addNum\", \"findMedian\", \"addNum\", \"findMedian\"]\n[[], [1], [2], [], [3], []]\n输出\n[null, null, null, 1.5, null, 2.0]\n\n解释\nMedianFinder medianFinder = new MedianFinder();\nmedianFinder.addNum(1);    // arr = [1]\nmedianFinder.addNum(2);    // arr = [1, 2]\nmedianFinder.findMedian(); // 返回 1.5 ((1 + 2) / 2)\nmedianFinder.addNum(3);    // arr[1, 2, 3]\nmedianFinder.findMedian(); // return 2.0\n提示:\n\n-105 <= num <= 105\n在调用 findMedian 之前，数据结构中至少有一个元素\n最多 5 * 104 次调用 addNum 和 findMedian"
  },
  {
   "cell_type": "code",
   "execution_count": null,
   "id": "bc5fdb3a",
   "metadata": {},
   "outputs": [],
   "source": "'''\n思路: \n小根堆保存大的那部分元素，这样小根堆堆顶就是大的元素中最小的，同理可得大根堆堆顶就是小的元素中最大的，这2的堆顶的2个元素就是，就是数组之后最中间的2个元素\n用两个优先队列maxHeap和minHeap分别记录小于中位数的数和大于等于中位数的数。\n小顶堆，存大的那一半（那么堆顶元素就是大半里面最小的那个，即最接近中心的）\n大顶堆，存小的那一半（那么堆顶元素就是小半里面最大的那个，即最接近中心的）\n当累计添加的数的数量为奇数时，minHeap中的数的数量比maxHeap多一个，此时中位数为minHeap的队头。当累计添加的数的数量为偶数时，两个优先队列中的数的数量相同，此时中位数为它们的队头的平均值。\n'''\nimport headq\nclass MedianFinder(object):\n\n    def __init__(self):\n        #最大堆\n        self.queMin = list()\n        #最小堆 \n        self.queMax = list()\n\n    def addNum(self, num):\n        \"\"\"\n        :type num: int\n        :rtype: None\n        \"\"\"\n        queMin_ = self.queMin\n        queMax_ = self.queMax\n        # 若queMin为空，或当前数字num小于等于queMin的最大值（即-queMin[0]），则将num插入queMin（需取负数存入）。\n        if not queMin_ or num <= -queMin_[0]:\n            headq.headppush(queMin_, -num)\n            # 若queMin的长度超过queMax长度超过1，说明小堆部分过大，需将queMin的最大值（堆顶）弹出，插入queMax。\n            if len(queMax_) + 1 < len(queMin_):\n                headq.headppush(queMax_, -headq.headppop(queMin_))\n        else:\n            headq.headppush(queMax_, num)\n            # 若queMax的长度超过queMin，说明大堆部分过大，需将queMax的最小值（堆顶）弹出，插入queMin\n            if len(queMax_) > len(queMin_):\n                headq.heappush(queMin_, -headq.headppop(queMax_))        \n\n    def findMedian(self):\n        \"\"\"\n        :rtype: float\n        \"\"\"\n        queMin_ = self.queMin\n        queMax_ = self.queMax\n        # 若总元素数为奇数（len(queMin) > len(queMax)），中位数为queMin的最大值（即-queMin[0]）。\n        if len(queMin_) > len(queMax_):\n            return -queMin_[0]\n        # 若为偶数，中位数是queMin最大值和queMax最小值的平均数。\n        return (-queMin_[0] + queMax_[0]) / 2.0"
  },
  {
   "cell_type": "code",
   "execution_count": null,
   "id": "7dc78582",
   "metadata": {},
   "outputs": [],
   "source": [
    "# 最大堆最小堆解法，参考题解:https://www.bilibili.com/video/BV1J5411J7yj/\n",
    "import heapq\n",
    "class MedianFinder:\n",
    " \n",
    "    def __init__(self):\n",
    "        \"\"\"\n",
    "        initialize your data structure here.\n",
    "        \"\"\"\n",
    "        self.maxHeap = [] # 最大堆保存的是最小的n/2个数\n",
    "        self.minHeap = [] # 最小堆保存的是最大的n/2个数\n",
    " \n",
    "    def addNum(self, num: int) -> None:\n",
    "        # 若两堆的数目相等，就让minHeap的元素个数+1\n",
    "        # 具体做法分为两步 1.将新元素加入maxHeap 2.将maxHeap的堆顶元素加入minHeap\n",
    "        if len(self.maxHeap)==len(self.minHeap):\n",
    "            heapq.heappush(self.minHeap,-heapq.heappushpop(self.maxHeap,-num))\n",
    "        else:\n",
    "            heapq.heappush(self.maxHeap,-heapq.heappushpop(self.minHeap,num))\n",
    "            \n",
    "    def findMedian(self) -> float:\n",
    "        if len(self.maxHeap)==len(self.minHeap):\n",
    "            return (self.minHeap[0]-self.maxHeap[0])/2.0\n",
    "        else:\n",
    "            return self.minHeap[0]"
   ]
  }
 ],
 "metadata": {
  "jupytext": {
   "cell_metadata_filter": "-all"
  },
  "kernelspec": {
   "display_name": "Python 3 (ipykernel)",
   "language": "python",
   "name": "python3"
  }
 },
 "nbformat": 4,
 "nbformat_minor": 5
}