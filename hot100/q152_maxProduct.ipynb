{
 "cells": [
  {
   "cell_type": "markdown",
   "metadata": {},
   "source": "给你一个整数数组 nums ，请你找出数组中乘积最大的非空连续 \n子数组\n（该子数组中至少包含一个数字），并返回该子数组所对应的乘积。\n\n测试用例的答案是一个 32-位 整数。\n\n示例 1:\n\n输入: nums = [2,3,-2,4]\n输出: 6\n解释: 子数组 [2,3] 有最大乘积 6。\n示例 2:\n\n输入: nums = [-2,0,-1]\n输出: 0\n解释: 结果不能为 2, 因为 [-2,-1] 不是子数组。\n \n\n提示:\n\n1 <= nums.length <= 2 * 104\n-10 <= nums[i] <= 10\nnums 的任何子数组的乘积都 保证 是一个 32-位 整数"
  },
  {
   "cell_type": "code",
   "execution_count": null,
   "id": "526c2b85",
   "metadata": {
    "lines_to_next_cell": 1
   },
   "outputs": [],
   "source": "'''\n思路: 1、暴力计算，会超时\n2、因为可能有负值，所以需要考虑存一个最大值和最小值\n最大值为当前最大值*当前值，当前最小值乘以当前值，当前值之间的最大值\n最小值为当前最大值*当前值，当前最小值乘以当前值，当前值之间的最小值\ncur_max = max_res\ncur_min = min_res\nmax_res = max(cur_max * nums[i],cur_min * nums[i], nums[i])\nmin_res = min(cur_max * nums[i],cur_min * nums[i], nums[i])\nres = max(max_res, res)\n'''\nclass Solution(object):\n    def maxProduct(self, nums):\n        \"\"\"\n        :type nums: List[int]\n        :rtype: int\n        \"\"\"\n        n = len(nums)\n        max_res = nums[0]\n        min_res = nums[0]\n        res = nums[0]\n        for i in range(1,n):\n            cur_max = max_res\n            cur_min = min_res\n            max_res = max(cur_max * nums[i],cur_min * nums[i], nums[i])\n            min_res = min(cur_max * nums[i],cur_min * nums[i], nums[i])\n            if min_res < float('-inf'):\n                min_res = nums[i]\n            res = max(max_res, res)\n        return res"
  },
  {
   "cell_type": "code",
   "execution_count": null,
   "id": "af830bd4",
   "metadata": {},
   "outputs": [],
   "source": [
    "if __name__ == \"__main__\":\n",
    "    s = Solution()\n",
    "    print(s.maxProduct([2,3,-2,4]))\n",
    "    print(s.maxProduct([-2,0,-1]))\n",
    "    print(s.maxProduct([-2, -1, -4]))\n",
    "    print(s.maxProduct([-3,0,1,-2]))\n",
    "    print(s.maxProduct([2,-5,-2,-4,3]))"
   ]
  },
  {
   "cell_type": "code",
   "execution_count": null,
   "id": "751da7dc",
   "metadata": {},
   "outputs": [],
   "source": []
  }
 ],
 "metadata": {
  "jupytext": {
   "cell_metadata_filter": "-all",
   "encoding": "# -*- coding: utf-8 -*-",
   "executable": "/usr/bin/env python"
  },
  "kernelspec": {
   "display_name": "Python 3 (ipykernel)",
   "language": "python",
   "name": "python3"
  }
 },
 "nbformat": 4,
 "nbformat_minor": 5
}