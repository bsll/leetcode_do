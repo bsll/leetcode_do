{
 "cells": [
  {
   "cell_type": "markdown",
   "metadata": {},
   "source": "给你一个字符串 s 。我们要把这个字符串划分为尽可能多的片段，同一字母最多出现在一个片段中。例如，字符串 \"ababcc\" 能够被分为 [\"abab\", \"cc\"]，但类似 [\"aba\", \"bcc\"] 或 [\"ab\", \"ab\", \"cc\"] 的划分是非法的。\n\n注意，划分结果需要满足：将所有划分结果按顺序连接，得到的字符串仍然是 s 。\n\n返回一个表示每个字符串片段的长度的列表。\n\n示例 1：\n输入：s = \"ababcbacadefegdehijhklij\"\n输出：[9,7,8]\n解释：\n划分结果为 \"ababcbaca\"、\"defegde\"、\"hijhklij\" 。\n每个字母最多出现在一个片段中。\n像 \"ababcbacadefegde\", \"hijhklij\" 这样的划分是错误的，因为划分的片段数较少。 \n示例 2：\n\n输入：s = \"eccbbbbdec\"\n输出：[10]\n\n提示：\n\n1 <= s.length <= 500\ns 仅由小写英文字母组成"
  },
  {
   "cell_type": "code",
   "execution_count": null,
   "id": "6b6a68e2",
   "metadata": {
    "lines_to_next_cell": 2
   },
   "outputs": [],
   "source": "'''\n思路：贪心算法, 先统计每个字母的最后的位置，然后依次遍历字符串，每次找到当前字符到的最大位置，如果当前位置刚好到最大位置了，就找到了，然后继续往下找\n'''\nimport collections\nclass Solution(object):\n    def partitionLabels(self, s):\n        \"\"\"\n        :type s: str\n        :rtype: List[int]\n        \"\"\"\n        tmp = collections.defaultdict()\n        for i in range(len(s)):\n            tmp[s[i]] = i\n        start = 0\n        end = 0\n        res = []\n        for i in range(len(s)):\n            end = max(end, tmp[s[i]])\n            if i == end:\n                res.append(end-start+1)\n                start = end + 1\n        return res \nif __name__ == \"__main__\":\n    s = Solution()\n    print(s.partitionLabels(\"ababcbacadefegdehijhklij\"))\n    print(s.partitionLabels(\"eccbbbbdec\"))"
  }
 ],
 "metadata": {
  "jupytext": {
   "cell_metadata_filter": "-all",
   "encoding": "# -*- coding: utf-8 -*-",
   "executable": "/usr/bin/env python"
  },
  "kernelspec": {
   "display_name": "Python 3 (ipykernel)",
   "language": "python",
   "name": "python3"
  }
 },
 "nbformat": 4,
 "nbformat_minor": 5
}