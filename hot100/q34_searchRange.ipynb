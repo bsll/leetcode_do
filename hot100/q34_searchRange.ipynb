{
 "cells": [
  {
   "cell_type": "markdown",
   "metadata": {},
   "source": "给你一个按照非递减顺序排列的整数数组 nums，和一个目标值 target。请你找出给定目标值在数组中的开始位置和结束位置。\n\n如果数组中不存在目标值 target，返回 [-1, -1]。\n\n你必须设计并实现时间复杂度为 O(log n) 的算法解决此问题。\n\n \n\n示例 1：\n\n输入：nums = [5,7,7,8,8,10], target = 8\n输出：[3,4]\n示例 2：\n\n输入：nums = [5,7,7,8,8,10], target = 6\n输出：[-1,-1]\n示例 3：\n\n输入：nums = [], target = 0\n输出：[-1,-1]"
  },
  {
   "cell_type": "code",
   "execution_count": null,
   "id": "9dc34392",
   "metadata": {},
   "outputs": [],
   "source": "'''\n思路：1、二分查找，确定位置后，向两边扩展确定位置\n     2、通过<=,>确定具体位置，防止全相同的时候等价于 o(n)\n'''\nclass Solution(object):\n    def searchRange(self, nums, target):\n        \"\"\"\n        :type nums: List[int]\n        :type target: int\n        :rtype: List[int]\n        通过确定边界减少运算量，否则如果相似很多的情况，会接近o(n)\n\n        \"\"\"\n        if nums == []:\n            return [-1,-1]\n        start = 0\n        end = len(nums)-1\n        while start <= end:\n            mid = start + (end-start)//2\n            if nums[mid] <= target:\n                start = mid + 1\n            else:\n                end = mid -1\n        right = start\n\n        if nums[right-1] != target:\n            return [-1,-1]\n\n        start = 0\n        end = len(nums) - 1\n        while start <= end:\n            mid = start + (end - start) // 2\n            if nums[mid] < target:\n                start = mid + 1\n            else:\n                end = mid - 1\n        left = end\n        return [left+1,right-1]\nif __name__ == \"__main__\":\n    s = Solution()\n    print(s.searchRange([5,7,7,8,8,10],8))"
  }
 ],
 "metadata": {
  "jupytext": {
   "cell_metadata_filter": "-all",
   "encoding": "# -*- coding: utf-8 -*-",
   "executable": "/usr/bin/env python"
  },
  "kernelspec": {
   "display_name": "Python 3 (ipykernel)",
   "language": "python",
   "name": "python3"
  }
 },
 "nbformat": 4,
 "nbformat_minor": 5
}