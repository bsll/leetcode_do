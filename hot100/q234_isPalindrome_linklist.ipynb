{
 "cells": [
  {
   "cell_type": "markdown",
   "metadata": {},
   "source": "给你一个单链表的头节点 head ，请你判断该链表是否为\n回文链表\n。如果是，返回 true ；否则，返回 false 。\n\n \n\n示例 1：\n\n\n输入：head = [1,2,2,1]\n输出：true\n示例 2：\n\n\n输入：head = [1,2]\n输出：false\n \n\n提示：\n\n链表中节点数目在范围[1, 105] 内\n0 <= Node.val <= 9"
  },
  {
   "cell_type": "code",
   "execution_count": null,
   "id": "a726f16b",
   "metadata": {},
   "outputs": [],
   "source": "'''\n解题思路：1、将链表转换为数组，然后判断数组是否为回文数组 s == s[::-1] ??\n        2、将链表转换为字符串，然后判断字符串是否为回文字符串\n'''\nclass Solution(object):\n    def isPalindrome(self, head):\n        \"\"\"\n        :type head: ListNode\n        :rtype: bool\n        \"\"\"\n        res = []\n        while head:\n            res.append(head.val)\n            head = head.next\n        if res == res[::-1]:\n            return True\n        else:\n            return False"
  }
 ],
 "metadata": {
  "jupytext": {
   "cell_metadata_filter": "-all",
   "encoding": "# -*- coding: utf-8 -*-",
   "executable": "/usr/bin/env python"
  },
  "kernelspec": {
   "display_name": "Python 3 (ipykernel)",
   "language": "python",
   "name": "python3"
  }
 },
 "nbformat": 4,
 "nbformat_minor": 5
}