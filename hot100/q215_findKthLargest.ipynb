{
 "cells": [
  {
   "cell_type": "markdown",
   "metadata": {},
   "source": "给定整数数组 nums 和整数 k，请返回数组中第 k 个最大的元素。\n\n请注意，你需要找的是数组排序后的第 k 个最大的元素，而不是第 k 个不同的元素。\n\n你必须设计并实现时间复杂度为 O(n) 的算法解决此问题。\n\n示例 1:\n\n输入: [3,2,1,5,6,4], k = 2\n输出: 5\n示例 2:\n\n输入: [3,2,3,1,2,4,5,5,6], k = 4\n输出: 4"
  },
  {
   "cell_type": "code",
   "execution_count": null,
   "id": "e94a2518",
   "metadata": {
    "lines_to_next_cell": 2
   },
   "outputs": [],
   "source": "'''\n思路：快排，每次partition后，判断k是否在pivot的左边，右边，就是pivot\n'''\nclass Solution(object):\n    def findKthLargest(self, nums, k):\n        def partition(nums, left, right):\n            pivot = nums[left]\n            while left < right:\n                # 从右向左找第一个小于pivot的位置\n                while left < right and nums[right] <= pivot:\n                    right -= 1\n                nums[left] = nums[right]\n                print(f\"right:{nums}\")\n                # 从左向右找第一个大于pivot的数的位置\n                while left < right and nums[left] > pivot:\n                    left += 1\n                nums[right] = nums[left]\n                print(f\"left:{nums}\")\n            nums[left] = pivot\n            print(f\"all:{nums}\")\n            if left == k - 1:\n                return nums[left]\n            elif left > k - 1:\n                return partition(nums, 0, left - 1)\n            else:\n                return partition(nums, left + 1, len(nums) - 1)\n        return partition(nums, 0, len(nums) - 1)\nif __name__ == '__main__':\n    s = Solution()\n    print(s.findKthLargest([3,2,1,5,6,4], 2))\n    print(s.findKthLargest([1,2,3,4,5,6,7,8,9],2))"
  }
 ],
 "metadata": {
  "jupytext": {
   "cell_metadata_filter": "-all",
   "encoding": "# -*- coding: utf-8 -*-",
   "executable": "/usr/bin/env python"
  },
  "kernelspec": {
   "display_name": "Python 3 (ipykernel)",
   "language": "python",
   "name": "python3"
  }
 },
 "nbformat": 4,
 "nbformat_minor": 5
}