{
 "cells": [
  {
   "cell_type": "markdown",
   "metadata": {},
   "source": "将两个升序链表合并为一个新的 升序 链表并返回。新链表是通过拼接给定的两个链表的所有节点组成的。 \n\n \n\n示例 1：\n\n\n输入：l1 = [1,2,4], l2 = [1,3,4]\n输出：[1,1,2,3,4,4]\n示例 2：\n\n输入：l1 = [], l2 = []\n输出：[]\n示例 3：\n\n输入：l1 = [], l2 = [0]\n输出：[0]\n \n\n提示：\n\n两个链表的节点数目范围是 [0, 50]\n-100 <= Node.val <= 100\nl1 和 l2 均按 非递减顺序 排列"
  },
  {
   "cell_type": "code",
   "execution_count": null,
   "id": "853732d1",
   "metadata": {
    "lines_to_next_cell": 1
   },
   "outputs": [],
   "source": "'''\n解题思路：同时遍历两个链表，比较大小，将小的节点放到新链表中\n'''\nfrom utils import ListNode,create_linked_list,print_linked_list\nclass Solution(object):\n    def mergeTwoLists(self, l1, l2):\n        \"\"\"\n        :type l1: ListNode\n        :type l2: ListNode\n        :rtype: ListNode\n        \"\"\"\n        if not l1:\n            return l2\n        if not l2:\n            return l1\n        head = ListNode()\n        l = head\n        while l1 and l2:\n            if l1.val >= l2.val:\n                l.next = l2\n                l2 = l2.next\n            else:\n                l.next = l1\n                l1 = l1.next\n            l = l.next\n        l.next = l1 if l1 else l2\n        return head.next\n    #递归的方法\n    def mergeTwoLists1(self, l1, l2):\n        if not l1:\n            return l2\n        if not l2:\n            return l1\n        if l1.val < l2.val:\n            l1.next = self.mergeTwoLists(l1.next,l2)\n            return l1\n        l2.next = self.mergeTwoLists(l1,l2.next)\n        return l2"
  },
  {
   "cell_type": "code",
   "execution_count": null,
   "id": "189eea68",
   "metadata": {},
   "outputs": [],
   "source": [
    "if __name__ == \"__main__\":\n",
    "    s = Solution()\n",
    "    l1 = [1,2,4]\n",
    "    l2 = [1,3,4]\n",
    "    print(print_linked_list(s.mergeTwoLists(create_linked_list(l1),create_linked_list(l2))))"
   ]
  }
 ],
 "metadata": {
  "jupytext": {
   "cell_metadata_filter": "-all",
   "encoding": "# -*- coding: utf-8 -*-",
   "executable": "/usr/bin/env python"
  },
  "kernelspec": {
   "display_name": "Python 3 (ipykernel)",
   "language": "python",
   "name": "python3"
  }
 },
 "nbformat": 4,
 "nbformat_minor": 5
}