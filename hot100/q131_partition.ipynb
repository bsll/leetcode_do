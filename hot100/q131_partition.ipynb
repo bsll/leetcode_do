{
 "cells": [
  {
   "cell_type": "markdown",
   "metadata": {},
   "source": "给你一个字符串 s，请你将 s 分割成一些子串，使每个子串都是 \n回文串\n 。返回 s 所有可能的分割方案。\n\n \n\n示例 1：\n\n输入：s = \"aab\"\n输出：[[\"a\",\"a\",\"b\"],[\"aa\",\"b\"]]\n示例 2：\n\n输入：s = \"a\"\n输出：[[\"a\"]]\n \n\n提示：\n\n1 <= s.length <= 16\ns 仅由小写英文字母组成"
  },
  {
   "cell_type": "code",
   "execution_count": null,
   "id": "200fede4",
   "metadata": {
    "lines_to_next_cell": 1
   },
   "outputs": [],
   "source": "'''\n思路：暴力 dp, 重点是dp[-1].extend(l + [tmp] for l in dp[j])\n'''\nclass Solution(object):\n    def partition(self, s):\n        \"\"\"\n        :type s: str\n        :rtype: List[List[str]]\n        \"\"\"\n        dp = [[[]]]\n        for i in range(1,len(s) + 1):\n            dp.append([])\n            for j in range(i):\n                tmp = s[j:i]\n                if tmp == tmp[::-1]:\n                    print(dp)\n                    dp[-1].extend(l + [tmp] for l in dp[j])\n        return dp[-1]"
  },
  {
   "cell_type": "code",
   "execution_count": null,
   "id": "f4715bc4",
   "metadata": {},
   "outputs": [],
   "source": [
    "if __name__ == \"__main__\":\n",
    "    s = Solution()\n",
    "    print(s.partition('aab'))\n",
    "    print(s.partition('a'))"
   ]
  }
 ],
 "metadata": {
  "jupytext": {
   "cell_metadata_filter": "-all",
   "encoding": "# -*- coding: utf-8 -*-",
   "executable": "/usr/bin/env python"
  },
  "kernelspec": {
   "display_name": "Python 3 (ipykernel)",
   "language": "python",
   "name": "python3"
  }
 },
 "nbformat": 4,
 "nbformat_minor": 5
}