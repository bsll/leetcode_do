{
 "cells": [
  {
   "cell_type": "markdown",
   "metadata": {},
   "source": "给你一个整数数组 coins ，表示不同面额的硬币；以及一个整数 amount ，表示总金额。\n\n计算并返回可以凑成总金额所需的 最少的硬币个数 。如果没有任何一种硬币组合能组成总金额，返回 -1 。\n\n你可以认为每种硬币的数量是无限的。\n\n \n\n示例 1：\n\n输入：coins = [1, 2, 5], amount = 11\n输出：3 \n解释：11 = 5 + 5 + 1\n示例 2：\n\n输入：coins = [2], amount = 3\n输出：-1\n示例 3：\n\n输入：coins = [1], amount = 0\n输出：0"
  },
  {
   "cell_type": "code",
   "execution_count": null,
   "id": "b65d216b",
   "metadata": {},
   "outputs": [],
   "source": "'''\n思路：动态规划 f(n) = min(f(n-c)) + 1,c为coins中的上一个元素\n核心是计算每一个金额所需要的最小金币个数，然后依次计算，直到计算到目标金额\n'''\nclass Solution(object):\n    def coinChange(self, coins, amount):\n        if amount == 0:\n            return 0\n        dp = [0] * (amount+1)\n        i = 1\n        while i <= amount:\n            minvalue = 100000\n            # 依次用所有的硬币金额去匹配\n            for j in range(len(coins)):\n                # 如果当前金额减去硬币金额大于0，则说明可以减去该硬币\n                if i - coins[j] >= 0:\n                    # 如果 dp[i-coins[j]] 不等于-1,说明dp[i-coins[j]]有值，则可以计算当前的最小值\n                    # 每一次计算都是基于上一个元素计算出来的\n                    if dp[i-coins[j]] != -1:\n                        minvalue = min(minvalue,dp[i-coins[j]])\n            if minvalue != 100000:\n                dp[i] = minvalue + 1\n            else:\n                dp[i] = -1\n            i += 1\n        return dp[-1]\nif __name__ == \"__main__\":\n    s = Solution()\n    coins = [1,2,5]\n    amount = 11\n    print(s.coinChange(coins, amount))\n    coins = [1]\n    amount = 2\n    print(s.coinChange(coins, amount))\n    coins = [1]\n    amount = 0\n    print(s.coinChange(coins, amount))"
  },
  {
   "cell_type": "code",
   "execution_count": null,
   "id": "15a708ca",
   "metadata": {},
   "outputs": [],
   "source": []
  },
  {
   "cell_type": "code",
   "execution_count": null,
   "id": "b781153e",
   "metadata": {},
   "outputs": [],
   "source": []
  },
  {
   "cell_type": "code",
   "execution_count": null,
   "id": "3cc9580d",
   "metadata": {},
   "outputs": [],
   "source": []
  }
 ],
 "metadata": {
  "jupytext": {
   "cell_metadata_filter": "-all",
   "encoding": "# -*- coding: utf-8 -*-",
   "executable": "/usr/bin/env python"
  },
  "kernelspec": {
   "display_name": "Python 3 (ipykernel)",
   "language": "python",
   "name": "python3"
  }
 },
 "nbformat": 4,
 "nbformat_minor": 5
}