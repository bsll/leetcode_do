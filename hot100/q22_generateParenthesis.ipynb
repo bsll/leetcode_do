{
 "cells": [
  {
   "cell_type": "markdown",
   "metadata": {},
   "source": "数字 n 代表生成括号的对数，请你设计一个函数，用于能够生成所有可能的并且 有效的 括号组合。\n\n \n\n示例 1：\n\n输入：n = 3\n输出：[\"((()))\",\"(()())\",\"(())()\",\"()(())\",\"()()()\"]\n示例 2：\n\n输入：n = 1\n输出：[\"()\"]\n \n\n提示：\n\n1 <= n <= 8"
  },
  {
   "cell_type": "code",
   "execution_count": null,
   "id": "391b723c",
   "metadata": {},
   "outputs": [],
   "source": "'''\n思路：\n左括号的数量不能超过 n：\n\n每次添加一个左括号 (，剩余的左括号数量 left 减 1。\n\n右括号的数量不能超过左括号：\n\n只有当剩余的右括号数量 right 大于左括号数量时，才能添加右括号 )。\n\n左右括号数量相等时只能添加左括号：\n\n如果剩余的左括号和右括号数量相等，说明当前字符串中的左括号和右括号数量已经匹配，此时只能添加左括号。\n'''\nclass Solution(object):\n    def generateParenthesis(self, n):\n        \"\"\"\n        :type n: int\n        :rtype: List[str]\n        \"\"\"\n        res = []\n        tmp = \"\"\n        def dfs(tmp, left, right):\n            # 用完了，就可以结束了\n            if left ==0 and right == 0:\n                res.append(tmp[:])\n                return\n            # 当前字符串中的左括号和右括号数量相等，因此只能添加一个左括号\n            if left == right:\n                dfs(tmp+'(', left-1, right)\n            elif left < right:\n            # 当前字符串中的左括号数量多于右括号，因此可以添加一个左括号或一个右括号\n                if left >0 :\n                    dfs(tmp+\"(\", left-1, right)\n                dfs(tmp+\")\", left, right-1)     \n            #left > right 时，格式肯定有问题了，所以不用考虑\n        if n <= 0:\n            return res\n        dfs(\"\",n,n)\n        return res\nif __name__ == \"__main__\":\n    s = Solution()\n    print(s.generateParenthesis(3))\n    print(s.generateParenthesis(1))"
  }
 ],
 "metadata": {
  "jupytext": {
   "cell_metadata_filter": "-all",
   "encoding": "# -*- coding: utf-8 -*-",
   "executable": "/usr/bin/env python"
  },
  "kernelspec": {
   "display_name": "Python 3 (ipykernel)",
   "language": "python",
   "name": "python3"
  }
 },
 "nbformat": 4,
 "nbformat_minor": 5
}