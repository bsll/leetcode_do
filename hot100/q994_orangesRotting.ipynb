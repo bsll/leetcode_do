{
 "cells": [
  {
   "cell_type": "markdown",
   "metadata": {},
   "source": "在给定的 m x n 网格 grid 中，每个单元格可以有以下三个值之一：\n\n值 0 代表空单元格；\n值 1 代表新鲜橘子；\n值 2 代表腐烂的橘子。\n每分钟，腐烂的橘子 周围 4 个方向上相邻 的新鲜橘子都会腐烂。\n\n返回 直到单元格中没有新鲜橘子为止所必须经过的最小分钟数。如果不可能，返回 -1 。\n\n \n\n示例 1：\n\n\n\n输入：grid = [[2,1,1],[1,1,0],[0,1,1]]\n输出：4\n示例 2：\n\n输入：grid = [[2,1,1],[0,1,1],[1,0,1]]\n输出：-1\n解释：左下角的橘子（第 2 行， 第 0 列）永远不会腐烂，因为腐烂只会发生在 4 个方向上。\n示例 3：\n\n输入：grid = [[0,2]]\n输出：0\n解释：因为 0 分钟时已经没有新鲜橘子了，所以答案就是 0 。\n \n\n提示：\n\nm == grid.length\nn == grid[i].length\n1 <= m, n <= 10\ngrid[i][j] 仅为 0、1 或 2"
  },
  {
   "cell_type": "code",
   "execution_count": null,
   "id": "fca47f33",
   "metadata": {
    "lines_to_next_cell": 1
   },
   "outputs": [],
   "source": "'''\n解题思路：先统计出所有的 0，1，2的个数，然后从 2 开始，每分钟遍历一次，将 2 周围的 1 变为 2，直到没有 1 为止，如果 0 和 2 的个数相加等于 m*n，则返回时间，否则返回 -1\n'''\nclass Solution(object):\n    def orangesRotting(self,grid):\n        m = len(grid)\n        n = len(grid[0])\n        twos = [(i,j) for i in range(m) for j in range(n) if grid[i][j] == 2]\n        ones = [(i,j) for i in range(m) for j in range(n) if grid[i][j] == 1]\n        zeros = [(i,j) for i in range(m) for j in range(n) if grid[i][j] == 0]\n        if len(twos) == 0:\n            return -1\n        if len(ones) == 0:\n            return 0\n        time = 0\n        import copy\n        alltwos = copy.deepcopy(twos)\n        while twos != []:\n            newtwos = []\n            for (i, j) in twos:\n                for ni,nj in [(i+1, j),(i-1,j),(i, j+1),(i, j-1)]:\n                    if 0 <= ni < m and 0 <= nj < n and grid[ni][nj] == 1 and (ni,nj) not in alltwos:\n                        grid[ni][nj] += 1\n                        newtwos.append((ni,nj))\n                        alltwos.append((ni,nj))\n            if len(newtwos) != 0:\n                time += 1\n            twos = newtwos\n    \n        if len(alltwos) + len(zeros) != m*n:\n            return -1\n        return time"
  },
  {
   "cell_type": "code",
   "execution_count": null,
   "id": "9ea30846",
   "metadata": {},
   "outputs": [],
   "source": [
    "if __name__ == \"__main__\":\n",
    "    s = Solution()\n",
    "    grid = [[2,1,1],[1,1,0],[0,1,1]]\n",
    "    print(s.orangesRotting(grid))"
   ]
  }
 ],
 "metadata": {
  "jupytext": {
   "cell_metadata_filter": "-all",
   "encoding": "# -*- coding: utf-8 -*-",
   "executable": "/usr/bin/env python"
  },
  "kernelspec": {
   "display_name": "Python 3 (ipykernel)",
   "language": "python",
   "name": "python3"
  }
 },
 "nbformat": 4,
 "nbformat_minor": 5
}