{
 "cells": [
  {
   "cell_type": "markdown",
   "metadata": {},
   "source": "给你链表的头节点 head ，每 k 个节点一组进行翻转，请你返回修改后的链表。\n\nk 是一个正整数，它的值小于或等于链表的长度。如果节点总数不是 k 的整数倍，那么请将最后剩余的节点保持原有顺序。\n\n你不能只是单纯的改变节点内部的值，而是需要实际进行节点交换。\n\n 示例 1：\n\n\n输入：head = [1,2,3,4,5], k = 2\n输出：[2,1,4,3,5]\n示例 2：\n\n\n\n输入：head = [1,2,3,4,5], k = 3\n输出：[3,2,1,4,5]\n \n\n提示：\n链表中的节点数目为 n\n1 <= k <= n <= 5000\n0 <= Node.val <= 1000\n \n\n进阶：你可以设计一个只用 O(1) 额外内存空间的算法解决此问题吗？"
  },
  {
   "cell_type": "code",
   "execution_count": null,
   "id": "2a873c43",
   "metadata": {
    "lines_to_next_cell": 1
   },
   "outputs": [],
   "source": "'''\n思路：每次取 K 个元素，进行反转链表\n'''\nfrom utils import ListNode,create_linked_list,print_linked_list"
  },
  {
   "cell_type": "code",
   "execution_count": null,
   "id": "de3ef8ce",
   "metadata": {
    "lines_to_next_cell": 1
   },
   "outputs": [],
   "source": [
    "class Solution(object):\n",
    "    def reverseKGroup(self, head, k):\n",
    "        \"\"\"\n",
    "        :type head: Optional[ListNode]\n",
    "        :type k: int\n",
    "        :rtype: Optional[ListNode]\n",
    "        \"\"\"\n",
    "        def reverse(head,tail):\n",
    "            prev = tail.next\n",
    "            p = head\n",
    "            while prev != tail:\n",
    "                tmp = p.next\n",
    "                p.next = prev\n",
    "                prev = p\n",
    "                p = tmp\n",
    "            return tail,head\n",
    "        vir_head = ListNode(0)\n",
    "        vir_head.next = head\n",
    "        pre = vir_head\n",
    "        while head:\n",
    "            tail = pre\n",
    "            for i in range(k):\n",
    "                tail = tail.next\n",
    "                if not tail:\n",
    "                    return vir_head.next\n",
    "            tmp = tail.next\n",
    "            head, tail = reverse(head,tail)\n",
    "            pre.next = head\n",
    "            tail.next = tmp\n",
    "            pre = tail\n",
    "            head = tail.next\n",
    "        return vir_head.next"
   ]
  },
  {
   "cell_type": "code",
   "execution_count": null,
   "id": "648c62c2",
   "metadata": {},
   "outputs": [],
   "source": [
    "if __name__ == \"__main__\":\n",
    "    s = Solution()\n",
    "    head = [1,2,3,4,5]\n",
    "    k = 2\n",
    "    print(print_linked_list(s.reverseKGroup(create_linked_list(head),k)))"
   ]
  },
  {
   "cell_type": "code",
   "execution_count": null,
   "id": "12ec63f4",
   "metadata": {},
   "outputs": [],
   "source": []
  },
  {
   "cell_type": "code",
   "execution_count": null,
   "id": "7d6cc0bc",
   "metadata": {},
   "outputs": [],
   "source": []
  }
 ],
 "metadata": {
  "jupytext": {
   "cell_metadata_filter": "-all",
   "encoding": "# -*- coding: utf-8 -*-",
   "executable": "/usr/bin/env python"
  },
  "kernelspec": {
   "display_name": "Python 3 (ipykernel)",
   "language": "python",
   "name": "python3"
  }
 },
 "nbformat": 4,
 "nbformat_minor": 5
}