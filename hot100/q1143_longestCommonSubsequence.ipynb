{
 "cells": [
  {
   "cell_type": "markdown",
   "metadata": {},
   "source": "给定两个字符串 text1 和 text2，返回这两个字符串的最长 公共子序列 的长度。如果不存在 公共子序列 ，返回 0 。\n\n一个字符串的 子序列 是指这样一个新的字符串：它是由原字符串在不改变字符的相对顺序的情况下删除某些字符（也可以不删除任何字符）后组成的新字符串。\n\n例如，\"ace\" 是 \"abcde\" 的子序列，但 \"aec\" 不是 \"abcde\" 的子序列。\n两个字符串的 公共子序列 是这两个字符串所共同拥有的子序列。\n\n\n示例 1：\n\n输入：text1 = \"abcde\", text2 = \"ace\" \n输出：3  \n解释：最长公共子序列是 \"ace\" ，它的长度为 3 。\n示例 2：\n\n输入：text1 = \"abc\", text2 = \"abc\"\n输出：3\n解释：最长公共子序列是 \"abc\" ，它的长度为 3 。\n示例 3：\n\n输入：text1 = \"abc\", text2 = \"def\"\n输出：0\n解释：两个字符串没有公共子序列，返回 0 。"
  },
  {
   "cell_type": "code",
   "execution_count": null,
   "id": "e275b671",
   "metadata": {},
   "outputs": [],
   "source": "'''\n思路：动态规划 \nf(i,j) = f(i-1,j-1)+1 if s1[i] == s2[j]\nf(i,j) = max(f(i-1,j),f(i,j-1)) if s1[i] != s2[j]\n'''\nclass Solution(object):\n    def longestCommonSubsequence1(self, text1, text2):\n        \"\"\"\n        :type text1: str\n        :type text2: str\n        :rtype: int\n        \"\"\"\n        #时间复杂度O(mn)\n        #空间复杂度O(min(m,n))\n        m = len(text1)\n        n = len(text2)\n        tmp = [[0 for _ in range(n+1)] for _ in range(m+1)]\n        for i in range(1,m+1):\n            for j in range(1,n+1):\n                if text1[i-1] == text2[j-1]:\n                    tmp[i][j] = tmp[i-1][j-1] + 1\n                else:\n                    tmp[i][j] = max(tmp[i-1][j],tmp[i][j-1])\n        return tmp[m][n]\n\n\n    def longestCommonSubsequence2(self, text1, text2):\n        \"\"\"\n        :type text1: str\n        :type text2: str\n        :rtype: int\n        \"\"\"\n        #时间复杂度O(mn)\n        #空间复杂度O(min(m,n))\n        m = len(text1)\n        n = len(text2)\n        tmp = [0 for i in range(n+1)]\n        for i in range(1,m+1):\n            topleft = 0\n            for j in range(1,n+1):\n                temp = tmp[j]\n                if text1[i-1] == text2[j-1]:\n                    tmp[j] = topleft + 1\n                else:\n                    tmp[j] = max(tmp[j],tmp[j-1])\n                topleft = temp\n        return tmp[n]\nif __name__ == \"__main__\":\n    sou = Solution()\n    s1 = \"abc\"\n    s2 = \"def\"\n    print(sou.longestCommonSubsequence1(s1,s2))\n    print(sou.longestCommonSubsequence2(s1,s2))\n    s1 = \"mhunuzqrkzsnidwbun\"\n    s2 = \"szulspmhwpazoxijwbq\"\n    print(sou.longestCommonSubsequence1(s1,s2))\n    print(sou.longestCommonSubsequence2(s1,s2))\n    s1 = \"abcba\"\n    s2 = \"abcbcba\"\n    print(sou.longestCommonSubsequence1(s1,s2))\n    print(sou.longestCommonSubsequence2(s1,s2))"
  }
 ],
 "metadata": {
  "jupytext": {
   "cell_metadata_filter": "-all",
   "encoding": "# -*- coding: utf-8 -*-",
   "executable": "/usr/bin/env python"
  },
  "kernelspec": {
   "display_name": "Python 3 (ipykernel)",
   "language": "python",
   "name": "python3"
  }
 },
 "nbformat": 4,
 "nbformat_minor": 5
}