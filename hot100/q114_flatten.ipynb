{
 "cells": [
  {
   "cell_type": "markdown",
   "metadata": {},
   "source": "给你二叉树的根结点 root ，请你将它展开为一个单链表：\n\n展开后的单链表应该同样使用 TreeNode ，其中 right 子指针指向链表中下一个结点，而左子指针始终为 null 。\n展开后的单链表应该与二叉树 先序遍历 顺序相同。\n\n示例 1：\n\n\n输入：root = [1,2,5,3,4,null,6]\n输出：[1,null,2,null,3,null,4,null,5,null,6]\n示例 2：\n\n输入：root = []\n输出：[]\n示例 3：\n\n输入：root = [0]\n输出：[0]\n \n\n提示：\n\n树中结点数在范围 [0, 2000] 内\n-100 <= Node.val <= 100"
  },
  {
   "cell_type": "code",
   "execution_count": null,
   "id": "721d02ce",
   "metadata": {},
   "outputs": [],
   "source": "'''\n思路：1、先序遍历，遍历结果存到链表里面\n     2、寻找前驱节点（待思考）\n'''\nclass Solution(object):\n    def flatten(self, root):\n        \"\"\"\n        :type root: Optional[TreeNode]\n        :rtype: None Do not return anything, modify root in-place instead.\n        \"\"\"\n        curr = root\n        while curr:\n            if curr.left:\n                prev = curr.left\n                next_node = curr.left\n                while prev.right:\n                    prev = prev.right\n                prev.right =  curr.right\n                curr.left = None\n                curr.right  = next_node\n            curr = curr.right"
  },
  {
   "cell_type": "code",
   "execution_count": null,
   "id": "80379382",
   "metadata": {
    "lines_to_next_cell": 2
   },
   "outputs": [],
   "source": [
    "                   "
   ]
  }
 ],
 "metadata": {
  "jupytext": {
   "cell_metadata_filter": "-all",
   "encoding": "# -*- coding: utf-8 -*-",
   "executable": "/usr/bin/env python"
  },
  "kernelspec": {
   "display_name": "Python 3 (ipykernel)",
   "language": "python",
   "name": "python3"
  }
 },
 "nbformat": 4,
 "nbformat_minor": 5
}