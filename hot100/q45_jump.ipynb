{
 "cells": [
  {
   "cell_type": "markdown",
   "metadata": {},
   "source": "给定一个长度为 n 的 0 索引整数数组 nums。初始位置为 nums[0]。\n\n每个元素 nums[i] 表示从索引 i 向后跳转的最大长度。换句话说，如果你在 nums[i] 处，你可以跳转到任意 nums[i + j] 处:\n\n0 <= j <= nums[i] \ni + j < n\n返回到达 nums[n - 1] 的最小跳跃次数。生成的测试用例可以到达 nums[n - 1]。\n\n示例 1:\n\n输入: nums = [2,3,1,1,4]\n输出: 2\n解释: 跳到最后一个位置的最小跳跃数是 2。\n     从下标为 0 跳到下标为 1 的位置，跳 1 步，然后跳 3 步到达数组的最后一个位置。\n示例 2:\n\n输入: nums = [2,3,0,1,4]\n输出: 2\n \n\n提示:\n\n1 <= nums.length <= 104\n0 <= nums[i] <= 1000\n题目保证可以到达 nums[n-1]"
  },
  {
   "cell_type": "code",
   "execution_count": null,
   "id": "005358f1",
   "metadata": {},
   "outputs": [],
   "source": "'''\n思路：每次在上次能跳到的范围（end）内选择一个能跳到的最远位置（max_far）作为新的范围（end） ！\n'''\nclass Solution(object):\n    def jump(self, nums):\n        \"\"\"\n        :type nums: List[int]\n        :rtype: int\n        \"\"\"\n        step= 0\n        end = 0\n        max_far = 0\n        for i in range(len(nums)-1):\n            # 当前位置                                                                                                                                                                                                                                                                                                                                                                                                                                                                                                                                                                                                                                                                                                                                                                                                                                                                                                                                                                                                                                                                                                                                                                                                                                                                                                                                              \n            max_far = max(max_far,i + nums[i])\n            if i == end:it\n                end = max_far\n                step += 1\n        return step\nif __name__ == \"__main__\":\n    s = Solution()\n    nums = [2,3,1,1,4]\n    print(s.jump(nums))"
  }
 ],
 "metadata": {
  "jupytext": {
   "cell_metadata_filter": "-all",
   "encoding": "# -*- coding: utf-8 -*-",
   "executable": "/usr/bin/env python"
  },
  "kernelspec": {
   "display_name": "Python 3 (ipykernel)",
   "language": "python",
   "name": "python3"
  }
 },
 "nbformat": 4,
 "nbformat_minor": 5
}