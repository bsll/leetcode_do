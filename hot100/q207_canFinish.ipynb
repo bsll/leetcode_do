{
 "cells": [
  {
   "cell_type": "markdown",
   "metadata": {},
   "source": "你这个学期必须选修 numCourses 门课程，记为 0 到 numCourses - 1 。\n\n在选修某些课程之前需要一些先修课程。 先修课程按数组 prerequisites 给出，其中 prerequisites[i] = [ai, bi] ，表示如果要学习课程 ai 则 必须 先学习课程  bi 。\n\n例如，先修课程对 [0, 1] 表示：想要学习课程 0 ，你需要先完成课程 1 。\n请你判断是否可能完成所有课程的学习？如果可以，返回 true ；否则，返回 false 。\n\n \n\n示例 1：\n\n输入：numCourses = 2, prerequisites = [[1,0]]\n输出：true\n解释：总共有 2 门课程。学习课程 1 之前，你需要完成课程 0 。这是可能的。\n示例 2：\n\n输入：numCourses = 2, prerequisites = [[1,0],[0,1]]\n输出：false\n解释：总共有 2 门课程。学习课程 1 之前，你需要先完成​课程 0 ；并且学习课程 0 之前，你还应先完成课程 1 。这是不可能的。"
  },
  {
   "cell_type": "code",
   "execution_count": null,
   "id": "a3cdfede",
   "metadata": {},
   "outputs": [],
   "source": "'''\n思路： 1、将课程的依赖关系存储到字典中。\n      2、创建一个列表，存储所有依赖数为0的课程。\n      3、当列表不为空时，继续循环。\n      4、遍历列表中的课程，将课程标记为已处理。\n      5、如果课程有依赖关系，将依赖关系的依赖数减1。\n      6、将所有依赖数为0的课程添加到列表中。\n      7、统计依赖数为0的课程数量。\n      8、如果依赖数为0的课程数量等于numCourses，说明可以完成所有课程，返回True。\n      9、否则，返回False。\n'''\nclass Solution:\n    def canFinish(self, numCourses, prerequisites):\n        \"\"\"\n        :type numCourses: int\n        :type prerequisites: List[List[int]]\n        :rtype: bool\n        \"\"\"\n        # 去掉所有带环的，统计数目看是否够\n        all = [0] * numCourses\n        s = {}\n        for (a, b) in prerequisites:\n            if b not in s:\n                s[b] = []\n            s[b].append(a)\n            all[a] += 1\n        tmp = [i for i in range(len(all)) if all[i] == 0]\n        # 用来判断是否遍历过，这里可以用栈优化\n        s1 = {}\n        while tmp != []:\n            tmp1 = []\n            for key in tmp:\n                if key not in s1:\n                    s1[key] = 1\n                    if key in s:\n                        for item in s[key]:\n                            all[item] -= 1\n                    tmp1 = [i for i in range(len(all)) if all[i] == 0]\n    \n            tmp = tmp1\n        num = 0\n        for key in all:\n            if key == 0:\n                num += 1\n        if num == numCourses:\n            return True\n        else:\n            return False\nif __name__ == \"__main__\":\n    s = Solution()\n    numCourse = 20\n    prerequisites = [[0,10],[3,18],[5,5],[6,11],[11,14],[13,1],[15,1],[17,4]]\n    print(s.canFinish(numCourse,prerequisites))\n    numCourse = 2\n    prerequisites = [[1,0]]\n    print(s.canFinish(numCourse,prerequisites))\n    numCourse = 3\n    prerequisites =[[1,0],[1,2],[0,1]]\n    print(s.canFinish(numCourse,prerequisites))"
  }
 ],
 "metadata": {
  "jupytext": {
   "cell_metadata_filter": "-all",
   "encoding": "# -*- coding: utf-8 -*-",
   "executable": "/usr/bin/env python"
  },
  "kernelspec": {
   "display_name": "Python 3 (ipykernel)",
   "language": "python",
   "name": "python3"
  }
 },
 "nbformat": 4,
 "nbformat_minor": 5
}