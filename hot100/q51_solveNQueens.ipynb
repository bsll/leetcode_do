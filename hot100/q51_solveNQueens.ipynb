{
 "cells": [
  {
   "cell_type": "markdown",
   "metadata": {},
   "source": "按照国际象棋的规则，皇后可以攻击与之处在同一行或同一列或同一斜线上的棋子。\n\nn 皇后问题 研究的是如何将 n 个皇后放置在 n×n 的棋盘上，并且使皇后彼此之间不能相互攻击。\n\n给你一个整数 n ，返回所有不同的 n 皇后问题 的解决方案。\n\n每一种解法包含一个不同的 n 皇后问题 的棋子放置方案，该方案中 'Q' 和 '.' 分别代表了皇后和空位。\n\n\n示例 1：\n\n输入：n = 4\n输出：[[\".Q..\",\"...Q\",\"Q...\",\"..Q.\"],[\"..Q.\",\"Q...\",\"...Q\",\".Q..\"]]\n解释：如上图所示，4 皇后问题存在两个不同的解法。\n示例 2：\n\n输入：n = 1\n输出：[[\"Q\"]]\n \n\n提示：\n\n1 <= n <= 9"
  },
  {
   "cell_type": "code",
   "execution_count": null,
   "id": "7377edcf",
   "metadata": {},
   "outputs": [],
   "source": "'''\n思路：dfs \n'''\nclass Solution(object):\n    def solveNQueens(self, n):\n        \"\"\"\n        :type n: int\n        :rtype: List[List[str]]\n        \"\"\"\n        def generateBoard():\n            board = []\n            for i in range(n):\n                row[queens[i]] = 'Q'\n                board.append(\"\".join(row))\n                row[queens[i]] = '.'\n            return board\n        \n        def backtrack(row):\n            if row == n:\n                #当处理完所有行（row == n），生成棋盘并保存。\n                board = generateBoard()\n                solutions.append(board)\n            else:\n                for i in range(n):\n                    if i in columns or row -i in sames1 or row+i in sames2:\n                        continue\n                    #如果没有冲突，将改位置记录修来，并更新 queens,columns,sames1,sames2\n                    #切记： queens 用来存储当前行放在哪个位置\n                    queens[row] = i\n                    columns.add(i)\n                    sames1.add(row-i)\n                    sames2.add(row+i)\n                    #切记： row + 1递增\n                    backtrack(row + 1)\n                    columns.remove(i)\n                    sames1.remove(row-i)\n                    sames2.remove(row+i)\n        solutions = []\n        queens = [-1] * n \n        columns = set()\n        sames1 = set()\n        sames2 = set()\n        row = [\".\"] * n\n        #从0行开始处理\n        backtrack(0)\n        return solutions\nif __name__ == \"__main__\":\n    s = Solution()\n    print(s.solveNQueens(1))\n    print(s.solveNQueens(4))"
  }
 ],
 "metadata": {
  "jupytext": {
   "cell_metadata_filter": "-all",
   "encoding": "# -*- coding: utf-8 -*-",
   "executable": "/usr/bin/env python"
  },
  "kernelspec": {
   "display_name": "Python 3 (ipykernel)",
   "language": "python",
   "name": "python3"
  }
 },
 "nbformat": 4,
 "nbformat_minor": 5
}