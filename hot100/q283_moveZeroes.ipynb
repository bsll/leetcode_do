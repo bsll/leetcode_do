{
 "cells": [
  {
   "cell_type": "markdown",
   "metadata": {},
   "source": "给定一个数组 nums，编写一个函数将所有 0 移动到数组的末尾，同时保持非零元素的相对顺序。\n\n请注意 ，必须在不复制数组的情况下原地对数组进行操作。\n\n \n\n示例 1:\n\n输入: nums = [0,1,0,3,12]\n输出: [1,3,12,0,0]\n示例 2:\n\n输入: nums = [0]\n输出: [0]\n \n\n提示:\n\n1 <= nums.length <= 104\n-231 <= nums[i] <= 231 - 1\n \n\n进阶：你能尽量减少完成的操作次数吗？"
  },
  {
   "cell_type": "code",
   "execution_count": null,
   "id": "2ee7d68d",
   "metadata": {},
   "outputs": [],
   "source": "'''\n解题思路：双指针，第一个指针看当前第一个 0 的位置， 第二个指针看0之后第一个非 0 的位置，然后交换\n'''\nclass Solution(object):\n    def moveZeroes(self, nums):\n        \"\"\"\n        :type nums: List[int]\n        :rtype: None Do not return anything, modify nums in-place instead.\n        \"\"\"\n        flag0 = 0\n        flag1 = 0\n        num = len(nums)\n        while flag1 < num : \n            if nums[flag1] != 0:\n                tmp = nums[flag0]\n                nums[flag0] = nums[flag1]\n                nums[flag1] = tmp\n                flag0 += 1\n            flag1 += 1\n        return nums\nif __name__ == '__main__':\n    s = Solution()\n    print(s.moveZeroes([0,1,0,3,12]))\n    print(s.moveZeroes([0]))"
  }
 ],
 "metadata": {
  "jupytext": {
   "cell_metadata_filter": "-all",
   "encoding": "# -*- coding: utf-8 -*-",
   "executable": "/usr/bin/env python"
  },
  "kernelspec": {
   "display_name": "Python 3 (ipykernel)",
   "language": "python",
   "name": "python3"
  }
 },
 "nbformat": 4,
 "nbformat_minor": 5
}