{
 "cells": [
  {
   "cell_type": "markdown",
   "metadata": {},
   "source": "给你一个链表，删除链表的倒数第 n 个结点，并且返回链表的头结点。\n\n \n示例 1：\n\n\n输入：head = [1,2,3,4,5], n = 2\n输出：[1,2,3,5]\n示例 2：\n\n输入：head = [1], n = 1\n输出：[]\n示例 3：\n\n输入：head = [1,2], n = 1\n输出：[1]\n \n\n提示：\n\n链表中结点的数目为 sz\n1 <= sz <= 30\n0 <= Node.val <= 100\n1 <= n <= sz"
  },
  {
   "cell_type": "code",
   "execution_count": null,
   "id": "4f3aa4d5",
   "metadata": {
    "lines_to_next_cell": 1
   },
   "outputs": [],
   "source": "'''\n解题思路：快慢指针，两个隔着n步开始走，一个到头了，另外一个就在 n 的位置了\n'''"
  },
  {
   "cell_type": "code",
   "execution_count": null,
   "id": "a66e4491",
   "metadata": {},
   "outputs": [],
   "source": [
    "class Solution(object):\n",
    "    def removeNthFromEnd(self, head, n):\n",
    "        \"\"\"\n",
    "        :type head: ListNode\n",
    "        :type n: int\n",
    "        :rtype: ListNode\n",
    "        \"\"\"\n",
    "        fast = head\n",
    "        low = head\n",
    "        i = 0\n",
    "        while i < n:\n",
    "            fast = fast.next\n",
    "            i += 1\n",
    "        while fast != None and fast.next != None:\n",
    "            fast = fast.next\n",
    "            low = low.next\n",
    "        if fast == None:\n",
    "            return head.next\n",
    "        else:\n",
    "            low.next = low.next.next\n",
    "            return head"
   ]
  }
 ],
 "metadata": {
  "jupytext": {
   "cell_metadata_filter": "-all",
   "encoding": "# -*- coding: utf-8 -*-",
   "executable": "/usr/bin/env python"
  },
  "kernelspec": {
   "display_name": "Python 3 (ipykernel)",
   "language": "python",
   "name": "python3"
  }
 },
 "nbformat": 4,
 "nbformat_minor": 5
}