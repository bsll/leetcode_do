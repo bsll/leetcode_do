{
 "cells": [
  {
   "cell_type": "markdown",
   "metadata": {},
   "source": "编写一个高效的算法来搜索 m x n 矩阵 matrix 中的一个目标值 target 。该矩阵具有以下特性：\n\n每行的元素从左到右升序排列。\n每列的元素从上到下升序排列。\n\n示例 1：\n输入：matrix = [[1,4,7,11,15],[2,5,8,12,19],[3,6,9,16,22],[10,13,14,17,24],[18,21,23,26,30]], target = 5\n输出：true\n\n示例 2：\n输入：matrix = [[1,4,7,11,15],[2,5,8,12,19],[3,6,9,16,22],[10,13,14,17,24],[18,21,23,26,30]], target = 20\n输出：false"
  },
  {
   "cell_type": "code",
   "execution_count": null,
   "id": "8ebb5b95",
   "metadata": {},
   "outputs": [],
   "source": "'''\n思路： 1、暴力解法 m*n 遍历\n      2、二分查找 mlogn\n      3、Z字型查找 m+n  从右上角开始遍历，如果比目标值小，则往左走, 如果比目标值大，则往下走\n         主要控制当前 i,j 坐标的边界 \n         右上角到左下角是核心\n      \n'''\nclass Solution(object):\n    def searchMatrix(self, matrix, target):\n        \"\"\"\n        :type matrix: List[List[int]]\n        :type target: int\n        :rtype: bool\n        \"\"\"\n        m,n =len(matrix),len(matrix[0])\n        i = 0\n        j = n-1\n        while i < m and j >=0 :\n            if matrix[i][j] == target:\n                return True\n            elif matrix[i][j] > target:\n                j = j - 1\n            else:\n                i = i + 1\n        return False \nif __name__ == '__main__':\n    s = Solution()\n    matrix = [[1,4,7,11,15],[2,5,8,12,19],[3,6,9,16,22],[10,13,14,17,24],[18,21,23,26,30]]\n    target = 5\n    print(s.searchMatrix(matrix, target))\n    target = 26\n    print(s.searchMatrix(matrix, target))"
  }
 ],
 "metadata": {
  "jupytext": {
   "cell_metadata_filter": "-all",
   "encoding": "# -*- coding: utf-8 -*-",
   "executable": "/usr/bin/env python"
  },
  "kernelspec": {
   "display_name": "Python 3 (ipykernel)",
   "language": "python",
   "name": "python3"
  }
 },
 "nbformat": 4,
 "nbformat_minor": 5
}