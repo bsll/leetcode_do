{
 "cells": [
  {
   "cell_type": "markdown",
   "metadata": {},
   "source": "给你一个字符串数组，请你将 字母异位词 组合在一起。可以按任意顺序返回结果列表。\n字母异位词 是由重新排列源单词的所有字母得到的一个新单词。\n\n示例 1:\n输入: strs = [\"eat\", \"tea\", \"tan\", \"ate\", \"nat\", \"bat\"]\n输出: [[\"bat\"],[\"nat\",\"tan\"],[\"ate\",\"eat\",\"tea\"]]\n示例 2:\n输入: strs = [\"\"]\n输出: [[\"\"]]\n示例 3:\n输入: strs = [\"a\"]\n输出: [[\"a\"]]\n提示：\n1 <= strs.length <= 104\n0 <= strs[i].length <= 100\nstrs[i] 仅包含小写字母"
  },
  {
   "cell_type": "code",
   "execution_count": null,
   "id": "9a23faad",
   "metadata": {},
   "outputs": [],
   "source": "'''\n解题思路：把当前单词放到字典里面，然后每次对比，如果字典里面没有，就新建一个列表，如果有，就添加到列表里面\n对比方式：把所有词进行重排序，就可以直接比较了\n'''\nclass Solution(object):\n    def groupAnagrams(self, strs):\n        \"\"\"\n        :type strs: List[str]\n        :rtype: List[List[str]]\n        \"\"\"\n        dic = {}\n        for i in strs:\n            key = \"\".join(sorted(i))\n            if key in dic:\n                dic[key].append(i)\n            else:\n                dic[key] = [i]\n        return list(dic.values())\nif __name__ == '__main__':\n    s = Solution()\n    strs = [\"eat\", \"tea\", \"tan\", \"ate\", \"nat\", \"bat\"]\n    print(s.groupAnagrams(strs))"
  }
 ],
 "metadata": {
  "jupytext": {
   "cell_metadata_filter": "-all",
   "encoding": "# -*- coding: utf-8 -*-",
   "executable": "/usr/bin/env python"
  },
  "kernelspec": {
   "display_name": "Python 3 (ipykernel)",
   "language": "python",
   "name": "python3"
  }
 },
 "nbformat": 4,
 "nbformat_minor": 5
}