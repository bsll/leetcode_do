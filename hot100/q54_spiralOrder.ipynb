{
 "cells": [
  {
   "cell_type": "markdown",
   "metadata": {},
   "source": "给你一个 m 行 n 列的矩阵 matrix ，请按照 顺时针螺旋顺序 ，返回矩阵中的所有元素。\n\n示例 1：\n\n输入：matrix = [[1,2,3],[4,5,6],[7,8,9]]\n输出：[1,2,3,6,9,8,7,4,5]\n示例 2：\n\n输入：matrix = [[1,2,3,4],[5,6,7,8],[9,10,11,12]]\n输出：[1,2,3,4,8,12,11,10,9,5,6,7]\n \n提示：\nm == matrix.length\nn == matrix[i].length\n1 <= m, n <= 10\n-100 <= matrix[i][j] <= 100"
  },
  {
   "cell_type": "code",
   "execution_count": null,
   "id": "21d32108",
   "metadata": {},
   "outputs": [],
   "source": "'''\n解题思路：在大循环里包含小循环，小循环分别对应四个方向，当四个方向都走完之后，更新边界，继续循环\n'''\nclass Solution(object):\n    def spiralOrder(self, matrix):\n        \"\"\"\n        :type matrix: List[List[int]]\n        :rtype: List[int]\n        \"\"\"\n        m,n = len(matrix), len(matrix[0])\n        top = 0\n        left = 0\n        right = n-1\n        bottom = m-1\n        res = []\n        while left<= right and top <= bottom:\n            for column in range(left, right+1):\n                res.append(matrix[top][column])\n            for row in range(top+1,bottom+1):\n                res.append(matrix[row][right])\n            if top < bottom and left < right:\n                for column in range(right-1,left-1,-1):\n                    res.append(matrix[bottom][column])\n                for row in range(bottom-1,top,-1):\n                    res.append(matrix[row][left])\n            top,left,right,bottom = top+1,left+1,right-1,bottom-1\n        return res\nif __name__ == \"__main__\":\n    sou = Solution()\n    matrix = [[1,2,3],[4,5,6],[7,8,9]]\n    print(sou.spiralOrder(matrix))\n    matrix = [[1,2,3,4],[5,6,7,8],[9,10,11,12],[13,14,15,16]]\n    print(sou.spiralOrder(matrix))\n    matrix = [[7],[9],[6]]\n    print(sou.spiralOrder(matrix))"
  },
  {
   "cell_type": "code",
   "execution_count": null,
   "id": "e7254b23",
   "metadata": {},
   "outputs": [],
   "source": []
  },
  {
   "cell_type": "code",
   "execution_count": null,
   "id": "ff29a948",
   "metadata": {},
   "outputs": [],
   "source": []
  },
  {
   "cell_type": "code",
   "execution_count": null,
   "id": "51b6ec90",
   "metadata": {},
   "outputs": [],
   "source": []
  },
  {
   "cell_type": "code",
   "execution_count": null,
   "id": "399584a2",
   "metadata": {},
   "outputs": [],
   "source": []
  }
 ],
 "metadata": {
  "jupytext": {
   "cell_metadata_filter": "-all",
   "encoding": "# -*- coding: utf-8 -*-",
   "executable": "/usr/bin/env python"
  },
  "kernelspec": {
   "display_name": "Python 3 (ipykernel)",
   "language": "python",
   "name": "python3"
  }
 },
 "nbformat": 4,
 "nbformat_minor": 5
}