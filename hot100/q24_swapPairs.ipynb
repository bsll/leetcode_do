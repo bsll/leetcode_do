{
 "cells": [
  {
   "cell_type": "markdown",
   "metadata": {},
   "source": "给你一个链表，两两交换其中相邻的节点，并返回交换后链表的头节点。你必须在不修改节点内部的值的情况下完成本题（即，只能进行节点交换）。\n\n示例 1：\n输入：head = [1,2,3,4]\n输出：[2,1,4,3]\n示例 2：\n\n输入：head = []\n输出：[]\n示例 3：\n\n输入：head = [1]\n输出：[1]"
  },
  {
   "cell_type": "code",
   "execution_count": null,
   "id": "a75eaa3a",
   "metadata": {
    "lines_to_next_cell": 1
   },
   "outputs": [],
   "source": "'''\n思路：1、递归，依次交换相邻节点，直到节点为空，或者只有一个节点\n     2、建一个虚拟节点作为中间节点，一直循环交换，直到节点为空或者只有一个节点\n'''\nfrom utils import ListNode,create_linked_list,print_linked_list"
  },
  {
   "cell_type": "code",
   "execution_count": null,
   "id": "ad16ad3d",
   "metadata": {},
   "outputs": [],
   "source": [
    "class Solution:\n",
    "    def swapPairs(self, head):\n",
    "        #递归终止条件是节点为空或者只有一个节点\n",
    "        if not head or not head.next:\n",
    "            return head\n",
    "        #head是原始链表的头节点，也是新链表的第二个节点\n",
    "        #newHead是新链表的头节点，也是原始链表的第二个节点\n",
    "        #剩下的链表要用head.next 作为头节点\n",
    "    \n",
    "        #获取新的头节点（原来的头节点next就是新的头节点）\n",
    "        newhead = head.next\n",
    "        #交换完的节点接到老的头节点的后面\n",
    "        head.next = self.swapPairs(newhead.next)\n",
    "        #需要newhead 的next切断，换成原来的头节点\n",
    "        newhead.next = head\n",
    "        return newhead\n",
    "if __name__ == '__main__':\n",
    "    s = Solution()\n",
    "    head = create_linked_list([1,2,3,4])\n",
    "    print(print_linked_list(s.swapPairs(head)))\n",
    "    head = create_linked_list([1])\n",
    "    print(print_linked_list(s.swapPairs(head)))\n",
    "    head = create_linked_list([])\n",
    "    print(print_linked_list(s.swapPairs(head)))"
   ]
  },
  {
   "cell_type": "code",
   "execution_count": null,
   "id": "84d6095a",
   "metadata": {},
   "outputs": [],
   "source": []
  }
 ],
 "metadata": {
  "jupytext": {
   "cell_metadata_filter": "-all",
   "encoding": "# -*- coding: utf-8 -*-",
   "executable": "/usr/bin/env python"
  },
  "kernelspec": {
   "display_name": "Python 3 (ipykernel)",
   "language": "python",
   "name": "python3"
  }
 },
 "nbformat": 4,
 "nbformat_minor": 5
}