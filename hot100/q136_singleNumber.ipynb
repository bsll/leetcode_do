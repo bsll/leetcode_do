{
 "cells": [
  {
   "cell_type": "markdown",
   "metadata": {},
   "source": "给你一个 非空 整数数组 nums ，除了某个元素只出现一次以外，其余每个元素均出现两次。找出那个只出现了一次的元素。\n\n你必须设计并实现线性时间复杂度的算法来解决此问题，且该算法只使用常量额外空间。\n\n\n示例 1 ：\n\n输入：nums = [2,2,1]\n输出：1\n示例 2 ：\n\n输入：nums = [4,1,2,1,2]\n输出：4\n示例 3 ：\n\n输入：nums = [1]\n输出：1"
  },
  {
   "cell_type": "code",
   "execution_count": null,
   "id": "7c693e96",
   "metadata": {},
   "outputs": [],
   "source": "'''\n思路：逐次异或运算\n'''\nclass Solution(object):\n    def singleNumber(self, nums):\n        ans = 0\n        for num in nums:\n            ans ^= num\n        return ans\nif __name__ == '__main__':\n    sou = Solution()\n    nums = [2,2,1]\n    print(sou.singleNumber(nums))\n    nums = [4,1,2,1,2]\n    print(sou.singleNumber(nums))\n    nums = [1]\n    print(sou.singleNumber(nums))"
  }
 ],
 "metadata": {
  "jupytext": {
   "cell_metadata_filter": "-all",
   "encoding": "# -*- coding: utf-8 -*-",
   "executable": "/usr/bin/env python"
  },
  "kernelspec": {
   "display_name": "Python 3 (ipykernel)",
   "language": "python",
   "name": "python3"
  }
 },
 "nbformat": 4,
 "nbformat_minor": 5
}