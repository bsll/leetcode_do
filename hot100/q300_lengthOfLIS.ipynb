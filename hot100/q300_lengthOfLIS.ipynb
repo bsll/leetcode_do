{
 "cells": [
  {
   "cell_type": "markdown",
   "metadata": {},
   "source": "给你一个整数数组 nums ，找到其中最长严格递增子序列的长度。\n\n子序列 是由数组派生而来的序列，删除（或不删除）数组中的元素而不改变其余元素的顺序。例如，[3,6,2,7] 是数组 [0,3,1,6,2,2,7] 的\n子序列\n。\n \n示例 1：\n\n输入：nums = [10,9,2,5,3,7,101,18]\n输出：4\n解释：最长递增子序列是 [2,3,7,101]，因此长度为 4 。\n示例 2：\n\n输入：nums = [0,1,0,3,2,3]\n输出：4\n示例 3：\n\n输入：nums = [7,7,7,7,7,7,7]\n输出：1\n \n提示：\n\n1 <= nums.length <= 2500\n-104 <= nums[i] <= 104"
  },
  {
   "cell_type": "code",
   "execution_count": null,
   "id": "93416450",
   "metadata": {},
   "outputs": [],
   "source": "'''\n思路：最少都是 1,  if nums[j] < nums[i]: dp[i] = max(dp[i], dp[j] + 1)  return max(dp)\n'''\nclass Solution(object):\n    def lengthOfLIS(self, nums):\n        \"\"\"\n        :type nums: List[int]\n        :rtype: int\n        \"\"\"\n        n = len(nums)\n        if n == 0:\n            return 0\n        dp = [1] * n \n        for i in range(1,n):\n            for j in range(i):\n                if nums[j] < nums[i]:\n                    dp[i] = max(dp[i], dp[j] + 1)\n        return max(dp)\nif __name__ == \"__main__\":\n    s = Solution()\n    nums = [10,9,2,5,3,7,101,18]\n    print(s.lengthOfLIS(nums))\n    nums = [0,1,0,3,2,3]\n    print(s.lengthOfLIS(nums))\n    nums = [7,7,7,7,7]\n    print(s.lengthOfLIS(nums))\n    nums = [1,3,6,7,9,4,10,5,6]\n    print(s.lengthOfLIS(nums))"
  }
 ],
 "metadata": {
  "jupytext": {
   "cell_metadata_filter": "-all",
   "encoding": "# -*- coding: utf-8 -*-",
   "executable": "/usr/bin/env python"
  },
  "kernelspec": {
   "display_name": "Python 3 (ipykernel)",
   "language": "python",
   "name": "python3"
  }
 },
 "nbformat": 4,
 "nbformat_minor": 5
}