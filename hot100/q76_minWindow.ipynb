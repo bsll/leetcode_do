{
 "cells": [
  {
   "cell_type": "markdown",
   "metadata": {},
   "source": "给你一个字符串 s 、一个字符串 t 。返回 s 中涵盖 t 所有字符的最小子串。如果 s 中不存在涵盖 t 所有字符的子串，则返回空字符串 \"\" 。\n\n \n\n注意：\n\n对于 t 中重复字符，我们寻找的子字符串中该字符数量必须不少于 t 中该字符数量。\n如果 s 中存在这样的子串，我们保证它是唯一的答案。\n \n\n示例 1：\n\n输入：s = \"ADOBECODEBANC\", t = \"ABC\"\n输出：\"BANC\"\n解释：最小覆盖子串 \"BANC\" 包含来自字符串 t 的 'A'、'B' 和 'C'。\n示例 2：\n\n输入：s = \"a\", t = \"a\"\n输出：\"a\"\n解释：整个字符串 s 是最小覆盖子串。\n示例 3:\n\n输入: s = \"a\", t = \"aa\"\n输出: \"\"\n解释: t 中两个字符 'a' 均应包含在 s 的子串中，\n因此没有符合条件的子字符串，返回空字符串。\n \n\n提示：\n\nm == s.length\nn == t.length\n1 <= m, n <= 105\ns 和 t 由英文字母组成"
  },
  {
   "cell_type": "code",
   "execution_count": null,
   "id": "de0fe252",
   "metadata": {
    "lines_to_next_cell": 2
   },
   "outputs": [],
   "source": "'''\n思路：先从前往后数，直到需要的字符都够了，在从左往右缩减字符。循环过程，通过 right-left < end-start 找到最小的\n'''\nimport collections\nclass Solution(object):\n    def minWindow(self, s, t):\n        \"\"\"\n        :type s: str\n        :type t: str\n        :rtype: str\n        \"\"\"\n        #记录 t中每个字符的需求次数\n        need = collections.Counter(t)\n        #缺少的字符数量\n        missing = len(t)\n        #初始化左右指针和最小子串的其实位置\n        left = 0\n        start = 0\n        end = 0\n        #遍历字符串，右指针从 1 开始\n        for right, char in enumerate(s, 1):\n            #如果当前字符在 t 中有需求，减少missing\n            if need[char] > 0:\n                missing -= 1\n            #更新当前字符的需求数量\n            need[char] -= 1\n            #如果所有字符都满足了，开始尝试缩小窗口\n            if missing == 0:\n                #当左指针指向的字符是多余的时，移动左指针\n                while need[s[left]] < 0:\n                    #确保当我们通过移动左指针去缩小窗口时，我们要恢复多余字符的计数，因为我们把它从窗口内移除。这样可以确保窗口始终满足包含 t 所有字符的条件，且不会因为多余字符导致计数不准确\n                    need[s[left]] += 1\n                    left += 1\n                #更新最小窗口的起止位置\n                if end == 0 or right-left < end -start:\n                    start, end = left, right\n        return s[start:end]\nif __name__ == \"__main__\":\n    sou = Solution()\n    s = \"ADOBECODEBANC\"\n    t = \"ABC\"\n    print(sou.minWindow(s,t))"
  }
 ],
 "metadata": {
  "jupytext": {
   "cell_metadata_filter": "-all",
   "encoding": "# -*- coding: utf-8 -*-",
   "executable": "/usr/bin/env python"
  },
  "kernelspec": {
   "display_name": "Python 3 (ipykernel)",
   "language": "python",
   "name": "python3"
  }
 },
 "nbformat": 4,
 "nbformat_minor": 5
}