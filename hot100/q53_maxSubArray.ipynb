{
 "cells": [
  {
   "cell_type": "markdown",
   "metadata": {},
   "source": "给你一个整数数组 nums ，请你找出一个具有最大和的连续子数组（子数组最少包含一个元素），返回其最大和。\n\n子数组\n是数组中的一个连续部分。\n\n \n\n示例 1：\n\n输入：nums = [-2,1,-3,4,-1,2,1,-5,4]\n输出：6\n解释：连续子数组 [4,-1,2,1] 的和最大，为 6 。\n示例 2：\n\n输入：nums = [1]\n输出：1\n示例 3：\n\n输入：nums = [5,4,-1,7,8]\n输出：23\n \n\n提示：\n\n1 <= nums.length <= 105\n-104 <= nums[i] <= 104"
  },
  {
   "cell_type": "code",
   "execution_count": null,
   "id": "44f7908a",
   "metadata": {
    "lines_to_next_cell": 1
   },
   "outputs": [],
   "source": "'''\n解题思路1：找一个最大值，遍历数组，如果当前和大于当前最大值，则更新最大值当前和，\n如果当前和小于0，则更新当前和为0, 尽量从 0 的位置开始加，因为负数加任何数都会变小\n\n解题思路2：动态规划，dp[i] = max(dp[i-1]+nums[i], nums[i])\n'''"
  },
  {
   "cell_type": "code",
   "execution_count": null,
   "id": "80479fe7",
   "metadata": {},
   "outputs": [],
   "source": [
    "class Solution(object):\n",
    "    def maxSubArray(self, nums):\n",
    "        \"\"\"\n",
    "        :type nums: List[int]\n",
    "        :rtype: int\n",
    "        \"\"\"\n",
    "        max = nums[0] \n",
    "        sum = 0\n",
    "        m = len(nums)\n",
    "        for i in range(m):\n",
    "            sum += nums[i]\n",
    "            if sum > max:\n",
    "                max = sum\n",
    "            if sum < 0:\n",
    "                sum = 0\n",
    "        return max\n",
    "    def maxSubArray2(self, nums):\n",
    "        \"\"\"\n",
    "        :type nums: List[int]\n",
    "        :rtype: int\n",
    "        \"\"\"\n",
    "        m = len(nums)\n",
    "        maxAns = nums[0]\n",
    "        for i in range(1, m):\n",
    "            cur = max(maxAns + nums[i], nums[i])\n",
    "            maxAns = max(maxAns, cur)\n",
    "        return maxAns\n",
    "if __name__ == '__main__':\n",
    "    sou = Solution()\n",
    "    nums = [-2,1,-3,4,-1,2,1,-5,4]\n",
    "    print(sou.maxSubArray(nums))\n",
    "    print(sou.maxSubArray2(nums))\n",
    "    nums = [1]\n",
    "    print(sou.maxSubArray(nums))\n",
    "    print(sou.maxSubArray2(nums))\n",
    "    nums = [-2,-1,-3]\n",
    "    print(sou.maxSubArray(nums))\n",
    "    print(sou.maxSubArray2(nums))"
   ]
  },
  {
   "cell_type": "code",
   "execution_count": null,
   "id": "04e60b50",
   "metadata": {
    "lines_to_next_cell": 2
   },
   "outputs": [],
   "source": []
  }
 ],
 "metadata": {
  "jupytext": {
   "cell_metadata_filter": "-all",
   "encoding": "# -*- coding: utf-8 -*-",
   "executable": "/usr/bin/env python"
  },
  "kernelspec": {
   "display_name": "Python 3 (ipykernel)",
   "language": "python",
   "name": "python3"
  }
 },
 "nbformat": 4,
 "nbformat_minor": 5
}