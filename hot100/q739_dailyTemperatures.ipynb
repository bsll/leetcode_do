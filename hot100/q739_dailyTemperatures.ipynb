{
 "cells": [
  {
   "cell_type": "markdown",
   "metadata": {},
   "source": "给定一个整数数组 temperatures ，表示每天的温度，返回一个数组 answer ，其中 answer[i] 是指对于第 i 天，下一个更高温度出现在几天后。如果气温在这之后都不会升高，请在该位置用 0 来代替。\n\n \n\n示例 1:\n\n输入: temperatures = [73,74,75,71,69,72,76,73]\n输出: [1,1,4,2,1,1,0,0]\n示例 2:\n\n输入: temperatures = [30,40,50,60]\n输出: [1,1,1,0]\n示例 3:\n\n输入: temperatures = [30,60,90]\n输出: [1,1,0]"
  },
  {
   "cell_type": "code",
   "execution_count": null,
   "id": "b7e6d951",
   "metadata": {
    "lines_to_next_cell": 2
   },
   "outputs": [],
   "source": "'''\n思路: 用栈实现，如果栈为空，直接入栈，\n如果栈不为空，比较栈顶元素和当前元素，\n    如果当前元素大于栈顶元素，说明找到了，弹出栈顶元素，并计算距离，\n    如果当前元素小于栈顶元素，然后将当前元素入栈\n'''\nclass Solution(object):\n    def dailyTemperatures(self, temperatures):\n        m = len(temperatures)\n        dist = [0 for _ in range(m)]\n        tmp = []\n        for i in range(0,m):\n            #永远让栈保持递减，如果不满足了，就弹出赋值，因为说明找到了\n            while tmp != [] and temperatures[i] > temperatures[tmp[-1]]:\n                dist[tmp[-1]] = i - tmp[-1]\n                tmp.pop()\n            tmp.append(i)\n        return dist\nif __name__ == \"__main__\":\n    s = Solution()\n    temperatures = [73,74,75,71,69,72,76,73]\n    print(s.dailyTemperatures(temperatures))\n    temperatures = [30,30,30]\n    print(s.dailyTemperatures(temperatures))"
  }
 ],
 "metadata": {
  "jupytext": {
   "cell_metadata_filter": "-all",
   "encoding": "# -*- coding: utf-8 -*-",
   "executable": "/usr/bin/env python"
  },
  "kernelspec": {
   "display_name": "Python 3 (ipykernel)",
   "language": "python",
   "name": "python3"
  }
 },
 "nbformat": 4,
 "nbformat_minor": 5
}