{
 "cells": [
  {
   "cell_type": "markdown",
   "metadata": {},
   "source": "给你链表的头结点 head ，请将其按 升序 排列并返回 排序后的链表 。\n\n示例 1：\n\n输入：head = [4,2,1,3]\n输出：[1,2,3,4]\n示例 2：\n\n输入：head = [-1,5,3,4,0]\n输出：[-1,0,3,4,5]\n示例 3：\n\n输入：head = []\n输出：[]\n \n提示：\n\n链表中节点的数目在范围 [0, 5 * 10^4] 内\n-10^5 <= Node.val <= 10^5"
  },
  {
   "cell_type": "code",
   "execution_count": null,
   "id": "5664d11c",
   "metadata": {},
   "outputs": [],
   "source": "'''\n思路：归并排序\n先找到链表的中点（快慢指针），然后对两边排序，排序完之后合并两个有序链表\n分治：将链表递归地分成两半，直到每个子链表只剩一个节点（自然有序）。\n合并：将两个有序子链表合并为一个有序链表。\n'''\nfrom utils import ListNode,create_linked_list,print_linked_list\nclass Solution:\n    def sortList(self, head):\n        def split(head, tail):\n            #如果节点为None,直接返回\n            if not head:\n                return head\n            #如果只剩下最后一个节点，需要将链表断开，直接返回\n            if head.next == tail:\n                head.next = None\n                return head\n            fast = head\n            slow = head\n            #快慢指针找中点\n            while fast != tail:\n                slow = slow.next\n                fast = fast.next\n                if fast != tail:  #不相等是，fast 多走一步\n                    fast = fast.next\n            mid = slow\n            #递归分割并合并\n            return merge(split(head,mid), split(mid,tail))\n        def merge(head1, head2):\n            if not head1:\n                return head2\n            if not head2:\n                return head1\n            #使用虚拟头节点，所以返回 head.next\n            head = ListNode(0)\n            l = head\n            while head1 and head2: #比较并链接较小的节点\n                if head1.val <= head2.val:\n                    l.next = head1\n                    head1 = head1.next\n                else:\n                    l.next = head2\n                    head2 = head2.next\n                l = l.next\n            #处理剩余的部分\n            l.next = head1 if head1 else head2\n            return head.next\n        #初始 tail为 None节点\n        return split(head,None)\nif __name__ == '__main__':\n    s = Solution()\n    head = create_linked_list([4,2,1,3])\n    print(print_linked_list(s.sortList(head)))\n    head = create_linked_list([-1,5,3,4,0])\n    print(print_linked_list(s.sortList(head)))\n    head = create_linked_list([])\n    print(print_linked_list(s.sortList(head)))"
  },
  {
   "cell_type": "code",
   "execution_count": null,
   "id": "a87a1226",
   "metadata": {},
   "outputs": [],
   "source": []
  },
  {
   "cell_type": "code",
   "execution_count": null,
   "id": "7d9c7801",
   "metadata": {
    "lines_to_next_cell": 2
   },
   "outputs": [],
   "source": []
  }
 ],
 "metadata": {
  "jupytext": {
   "cell_metadata_filter": "-all",
   "encoding": "# -*- coding: utf-8 -*-",
   "executable": "/usr/bin/env python"
  },
  "kernelspec": {
   "display_name": "Python 3 (ipykernel)",
   "language": "python",
   "name": "python3"
  }
 },
 "nbformat": 4,
 "nbformat_minor": 5
}