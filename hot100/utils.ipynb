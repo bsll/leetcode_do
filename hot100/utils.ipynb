{
 "cells": [
  {
   "cell_type": "markdown",
   "metadata": {},
   "source": "# utils\n\n暂无题目描述"
  },
  {
   "cell_type": "code",
   "execution_count": null,
   "id": "52de14db",
   "metadata": {},
   "outputs": [],
   "source": [
    "# Time    : 2022/12/21 10:55 PM\n",
    "# Author  : xiaohui.wang\n",
    "# File    : utils.py\n",
    "class TreeNode(object):\n",
    "    def __init__(self, x):\n",
    "        self.val = x\n",
    "        self.left = None\n",
    "        self.right = None\n",
    "# 树生成代码\n",
    "def generate_tree(vals):\n",
    "    if len(vals) == 0:\n",
    "        return None\n",
    "    que = [] # 定义队列\n",
    "    fill_left = True # 由于无法通过是否为 None 来判断该节点的左儿子是否可以填充，用一个记号判断是否需要填充左节点\n",
    "    for val in vals:\n",
    "        node = TreeNode(val) if val else None # 非空值返回节点类，否则返回 None\n",
    "        if len(que)==0:\n",
    "            root = node # 队列为空的话，用 root 记录根结点，用来返回\n",
    "            que.append(node)\n",
    "        elif fill_left:\n",
    "            que[0].left = node\n",
    "            fill_left = False # 填充过左儿子后，改变记号状态\n",
    "            if node: # 非 None 值才进入队列\n",
    "                que.append(node)\n",
    "        else:\n",
    "            que[0].right = node\n",
    "            if node:\n",
    "                que.append(node)\n",
    "            que.pop(0) # 填充完右儿子，弹出节点\n",
    "            fill_left = True #\n",
    "    return root"
   ]
  },
  {
   "cell_type": "code",
   "execution_count": null,
   "id": "164bd469",
   "metadata": {},
   "outputs": [],
   "source": []
  },
  {
   "cell_type": "code",
   "execution_count": null,
   "id": "ee4298f6",
   "metadata": {},
   "outputs": [],
   "source": [
    "class ListNode():\n",
    "    def __init__(self, x, next=None):\n",
    "        self.val = x\n",
    "        self.next = None\n",
    "#将传入的数组转化为链表\n",
    "def create_linked_list(arr):\n",
    "    if len(arr) == 0:\n",
    "        return None\n",
    "    head = ListNode(arr[0])\n",
    "    cur = head\n",
    "    for i in range(1, len(arr)):\n",
    "        cur.next = ListNode(arr[i])\n",
    "        cur = cur.next\n",
    "    return head\n",
    "#传入链表头节点，以数组形式返回\n",
    "def print_linked_list(head):\n",
    "    cur = head\n",
    "    res = []\n",
    "    while cur:\n",
    "        res.append(cur.val)\n",
    "        cur = cur.next\n",
    "    return res"
   ]
  }
 ],
 "metadata": {
  "jupytext": {
   "cell_metadata_filter": "-all",
   "encoding": "# -*- coding: utf-8 -*-",
   "executable": "/usr/bin/env python"
  },
  "kernelspec": {
   "display_name": "Python 3 (ipykernel)",
   "language": "python",
   "name": "python3"
  }
 },
 "nbformat": 4,
 "nbformat_minor": 5
}