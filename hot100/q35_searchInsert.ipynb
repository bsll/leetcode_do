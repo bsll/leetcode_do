{
 "cells": [
  {
   "cell_type": "markdown",
   "metadata": {},
   "source": "给定一个排序数组和一个目标值，在数组中找到目标值，并返回其索引。如果目标值不存在于数组中，返回它将会被按顺序插入的位置。\n\n请必须使用时间复杂度为 O(log n) 的算法。\n\n \n\n示例 1:\n\n输入: nums = [1,3,5,6], target = 5\n输出: 2\n示例 2:\n\n输入: nums = [1,3,5,6], target = 2\n输出: 1\n示例 3:\n\n输入: nums = [1,3,5,6], target = 7\n输出: 4"
  },
  {
   "cell_type": "code",
   "execution_count": null,
   "id": "4ee9af32",
   "metadata": {},
   "outputs": [],
   "source": "'''\n思路：二分查找\n'''\nclass Solution(object):\n    def searchInsert(self, nums, target):\n        \"\"\"\n        :type nums: List[int]\n        :type target: int\n        :rtype: int\n        \"\"\"\n        start = 0\n        end = len(nums)-1\n        while start <= end:\n            mid = start + (end-start)//2\n            if nums[mid] == target:\n                return mid\n            elif nums[mid] < target:\n                start = mid + 1\n            elif nums[mid] > target:\n                end = mid-1\n        return start\nif __name__ == '__main__':\n    sou = Solution()\n    nums = [1]\n    target = 0\n    print(sou.searchInsert(nums,target))"
  }
 ],
 "metadata": {
  "jupytext": {
   "cell_metadata_filter": "-all",
   "encoding": "# -*- coding: utf-8 -*-",
   "executable": "/usr/bin/env python"
  },
  "kernelspec": {
   "display_name": "Python 3 (ipykernel)",
   "language": "python",
   "name": "python3"
  }
 },
 "nbformat": 4,
 "nbformat_minor": 5
}