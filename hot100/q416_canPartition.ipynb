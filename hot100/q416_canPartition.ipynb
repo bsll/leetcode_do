{
 "cells": [
  {
   "cell_type": "markdown",
   "metadata": {},
   "source": "给你一个 只包含正整数 的 非空 数组 nums 。请你判断是否可以将这个数组分割成两个子集，使得两个子集的元素和相等。\n\n示例 1：\n\n输入：nums = [1,5,11,5]\n输出：true\n解释：数组可以分割成 [1, 5, 5] 和 [11] 。\n示例 2：\n\n输入：nums = [1,2,3,5]\n输出：false\n解释：数组不能分割成两个元素和相等的子集。"
  },
  {
   "cell_type": "code",
   "execution_count": null,
   "id": "dc550df3",
   "metadata": {},
   "outputs": [],
   "source": "'''\n思路：动态规划\n'''\nclass Solution(object):\n    # 二维数组\n    def canPartition1(self, nums):\n        \"\"\"\n        :type nums: List[int]\n        :rtype: bool\n        \"\"\"\n        n = len(nums)\n        if n < 2:\n            return False\n        total = sum(nums)\n        if total % 2 != 0:\n            return False\n        maxItem = max(nums)\n        half = total / 2\n        if maxItem > half:\n            return False\n        dp = [[False] * (half + 1) for _ in range(n)]\n        for i in range(n):\n            dp[i][0] = True\n        dp[0][nums[0]] = True\n        for i in range(1, n):\n            num = nums[i]\n            for j in range(1, half+1):\n                if j >= num:\n                    dp[i][j] = dp[i-1][j] | dp[i-1][j-num]\n                else:\n                    dp[i][j] = dp[i-1][j]\n        return dp[n-1][half]\n    def canPartition2(self, nums):\n        \"\"\"\n        :type nums: List[int]\n        :rtype: bool\n        \"\"\"\n        n = len(nums)\n        if n < 2:\n            return False\n        total = sum(nums)\n        if total % 2 != 0:\n            return False\n        maxItem = max(nums)\n        target = total // 2\n        if maxItem > target:\n            return False\n        dp = [False] * (target + 1)\n        dp[0] = True\n        for i in range(1, n):\n            num = nums[i]\n            #要么用dp[j-num]，要么不用dp[j-num]\n            for j in range(target, num-1, -1):\n                dp[j] = dp[j] | dp[j-num]\n                print(dp)\n        return dp[target]\nif __name__ == '__main__':\n    s = Solution()\n    print(s.canPartition2([1, 5, 11, 5]))"
  }
 ],
 "metadata": {
  "jupytext": {
   "cell_metadata_filter": "-all",
   "encoding": "# -*- coding: utf-8 -*-",
   "executable": "/usr/bin/env python"
  },
  "kernelspec": {
   "display_name": "Python 3 (ipykernel)",
   "language": "python",
   "name": "python3"
  }
 },
 "nbformat": 4,
 "nbformat_minor": 5
}