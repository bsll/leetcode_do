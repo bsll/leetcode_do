{
 "cells": [
  {
   "cell_type": "markdown",
   "metadata": {},
   "source": "给你一个由 '1'（陆地）和 '0'（水）组成的的二维网格，请你计算网格中岛屿的数量。\n\n岛屿总是被水包围，并且每座岛屿只能由水平方向和/或竖直方向上相邻的陆地连接形成。\n\n此外，你可以假设该网格的四条边均被水包围。\n\n \n\n示例 1：\n\n输入：grid = [\n  [\"1\",\"1\",\"1\",\"1\",\"0\"],\n  [\"1\",\"1\",\"0\",\"1\",\"0\"],\n  [\"1\",\"1\",\"0\",\"0\",\"0\"],\n  [\"0\",\"0\",\"0\",\"0\",\"0\"]\n]\n输出：1\n示例 2：\n\n输入：grid = [\n  [\"1\",\"1\",\"0\",\"0\",\"0\"],\n  [\"1\",\"1\",\"0\",\"0\",\"0\"],\n  [\"0\",\"0\",\"1\",\"0\",\"0\"],\n  [\"0\",\"0\",\"0\",\"1\",\"1\"]\n]\n输出：3\n \n\n提示：\n\nm == grid.length\nn == grid[i].length\n1 <= m, n <= 300\ngrid[i][j] 的值为 '0' 或 '1'"
  },
  {
   "cell_type": "code",
   "execution_count": null,
   "id": "d85def19",
   "metadata": {},
   "outputs": [],
   "source": "'''\n解题思路：深度优先搜索，找过的区域标记为-1，防止重复计数，通过递归轮询每个区域\n'''\nclass Solution(object):\n    def numIslands(self, grid):\n        \"\"\"\n        :type grid: List[List[str]]\n        :rtype: int\n        \"\"\"\n        def search(i,j,grid):\n            # 超过边界\n            if i > len(grid)-1 or i < 0:\n                return 0\n            if j > len(grid[0])-1 or j < 0:\n                return 0\n            # 已经找过的区域\n            if grid[i][j] == -1:\n                return 0\n            # 陆地的地方，需要往四周找,知道一块陆地会加一，直到没有陆地，search 返回的陆地的面积\n            if grid[i][j] == '1':\n                grid[i][j] = -1\n                return  search(i-1,j,grid)+ search(i+1,j,grid)+ search(i,j-1,grid)+ search(i,j+1,grid)+ 1\n            # 水的地方，不需要找\n            elif grid[i][j] == '0':\n                grid[i][j] = -1\n                return 0\n        x = len(grid)\n        if x == 0:\n            return 0   \n        y = len(grid[0])\n        count = 0\n        for i in range(0,x):\n            for j in range(0,y):\n                if grid[i][j] == -1 or grid[i][j] == 0:\n                    continue\n                else:\n                    if search(i,j,grid) >=1:\n                        count += 1\n        return count\nif __name__ == '__main__':\n    s = Solution()\n    grid = [\n  [\"1\",\"1\",\"1\",\"1\",\"0\"],\n  [\"1\",\"1\",\"0\",\"1\",\"0\"],\n  [\"1\",\"1\",\"0\",\"0\",\"0\"],\n  [\"0\",\"0\",\"0\",\"0\",\"0\"]\n]\n    print(s.numIslands(grid))"
  }
 ],
 "metadata": {
  "jupytext": {
   "cell_metadata_filter": "-all",
   "encoding": "# -*- coding: utf-8 -*-",
   "executable": "/usr/bin/env python"
  },
  "kernelspec": {
   "display_name": "Python 3 (ipykernel)",
   "language": "python",
   "name": "python3"
  }
 },
 "nbformat": 4,
 "nbformat_minor": 5
}