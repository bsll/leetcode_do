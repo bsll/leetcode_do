{
 "cells": [
  {
   "cell_type": "markdown",
   "metadata": {},
   "source": "假设你正在爬楼梯。需要 n 阶你才能到达楼顶。\n\n每次你可以爬 1 或 2 个台阶。你有多少种不同的方法可以爬到楼顶呢？\n\n \n\n示例 1：\n\n输入：n = 2\n输出：2\n解释：有两种方法可以爬到楼顶。\n1. 1 阶 + 1 阶\n2. 2 阶\n示例 2：\n\n输入：n = 3\n输出：3\n解释：有三种方法可以爬到楼顶。\n1. 1 阶 + 1 阶 + 1 阶\n2. 1 阶 + 2 阶\n3. 2 阶 + 1 阶"
  },
  {
   "cell_type": "code",
   "execution_count": null,
   "id": "29025fc0",
   "metadata": {},
   "outputs": [],
   "source": "'''\n思路：1、斐波那契数列 f(n) = f(n-1) + f(n-2)\n     2、空间复杂度更高的动态规划，dp[i] = dp[i-1] + dp[i-2]\n'''\nclass Solution(object):\n    def climbStairs(self, n):\n        \"\"\"\n        :type n: int\n        :rtype: int\n        \"\"\"\n        if n <=2:\n            return n\n        res1 = 1\n        res2 = 2\n        for i in range(3,n+1):\n            res3 = res1 + res2\n            res1 = res2\n            res2 = res3\n        return res3\nif __name__ == '__main__':\n    s = Solution()\n    print(s.climbStairs(3))\n    print(s.climbStairs(2))"
  }
 ],
 "metadata": {
  "jupytext": {
   "cell_metadata_filter": "-all",
   "encoding": "# -*- coding: utf-8 -*-",
   "executable": "/usr/bin/env python"
  },
  "kernelspec": {
   "display_name": "Python 3 (ipykernel)",
   "language": "python",
   "name": "python3"
  }
 },
 "nbformat": 4,
 "nbformat_minor": 5
}