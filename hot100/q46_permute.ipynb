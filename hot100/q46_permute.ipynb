{
 "cells": [
  {
   "cell_type": "markdown",
   "metadata": {},
   "source": " 给定一个不含重复数字的数组 nums ，返回其 所有可能的全排列 。你可以 按任意顺序 返回答案。\n\n \n\n示例 1：\n\n输入：nums = [1,2,3]\n输出：[[1,2,3],[1,3,2],[2,1,3],[2,3,1],[3,1,2],[3,2,1]]\n示例 2：\n\n输入：nums = [0,1]\n输出：[[0,1],[1,0]]\n示例 3：\n\n输入：nums = [1]\n输出：[[1]]\n \n提示：\n\n1 <= nums.length <= 6\n-10 <= nums[i] <= 10\nnums 中的所有整数 互不相同"
  },
  {
   "cell_type": "code",
   "execution_count": null,
   "id": "317136ec",
   "metadata": {},
   "outputs": [],
   "source": "'''\n思路：回溯法\n'''\nclass Solution(object):\n    def permute(self, nums):\n        \"\"\"\n        :type nums: List[int]\n        :rtype: List[List[int]]\n        \"\"\"\n        def backtrack(cur):\n            # 如果当前索引 cur 等于数组长度 n，说明找到一个排列\n            if cur == n:\n                res.append(nums[:])  # 将当前排列加入结果集\n            # 遍历从 cur 到 n-1 的索引\n            for i in range(cur, n):\n                # 交换 nums[cur] 和 nums[i]，固定 nums[cur]\n                nums[cur], nums[i] = nums[i], nums[cur]\n                # 递归处理下一个位置\n                backtrack(cur + 1)\n                # 恢复交换（回溯）\n                nums[cur], nums[i] = nums[i], nums[cur]\n\n        n = len(nums)  # 数组长度\n        res = []       # 存储所有排列的结果\n        backtrack(0)   # 从索引 0 开始回溯\n        return res     # 返回结果\nif __name__ == \"__main__\":\n    s = Solution()\n    print(s.permute([1,2,3]))\n    print(s.permute([0,1]))\n    print(s.permute([1]))"
  }
 ],
 "metadata": {
  "jupytext": {
   "cell_metadata_filter": "-all",
   "encoding": "# -*- coding: utf-8 -*-",
   "executable": "/usr/bin/env python"
  },
  "kernelspec": {
   "display_name": "Python 3 (ipykernel)",
   "language": "python",
   "name": "python3"
  }
 },
 "nbformat": 4,
 "nbformat_minor": 5
}