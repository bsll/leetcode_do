{
 "cells": [
  {
   "cell_type": "markdown",
   "metadata": {},
   "source": [
    "给你两个 非空 的链表，表示两个非负的整数。它们每位数字都是按照 逆序 的方式存储的，并且每个节点只能存储 一位 数字。\n",
    "\n",
    "请你将两个数相加，并以相同形式返回一个表示和的链表。\n",
    "\n",
    "你可以假设除了数字 0 之外，这两个数都不会以 0 开头。\n",
    "\n",
    "来源：力扣（LeetCode）\n",
    "链接：https://leetcode-cn.com/problems/add-two-numbers\n",
    "著作权归领扣网络所有。商业转载请联系官方授权，非商业转载请注明出处。"
   ]
  },
  {
   "cell_type": "code",
   "execution_count": null,
   "id": "188d4136",
   "metadata": {},
   "outputs": [],
   "source": [
    "'''\n",
    "解题思路：逐次累加，用头插法,注意进位和链表结束就行,结束用 0 替代\n",
    "'''"
   ]
  },
  {
   "cell_type": "code",
   "execution_count": null,
   "id": "42041e42",
   "metadata": {
    "lines_to_next_cell": 1
   },
   "outputs": [],
   "source": [
    "from utils import create_linked_list, print_linked_list, ListNode"
   ]
  },
  {
   "cell_type": "code",
   "execution_count": null,
   "id": "7b601671",
   "metadata": {},
   "outputs": [],
   "source": [
    "class Solution(object):\n",
    "    def addTwoNumbers(self, l1, l2):\n",
    "        \"\"\"\n",
    "        :type l1: ListNode\n",
    "        :type l2: ListNode\n",
    "        :rtype: ListNode\n",
    "        \"\"\"\n",
    "        head = end = ListNode(0)\n",
    "        jinwei = 0\n",
    "        while l1 or l2 :\n",
    "            if not l1:\n",
    "                l1_value = 0\n",
    "            else:\n",
    "                l1_value = l1.val\n",
    "                l1 = l1.next\n",
    "            if not l2:\n",
    "                l2_value = 0\n",
    "            else:\n",
    "                l2_value = l2.val\n",
    "                l2 = l2.next\n",
    "            tmp = l1_value + l2_value + jinwei\n",
    "            jinwei = 0\n",
    "            if tmp >= 10:\n",
    "                tmp_node = ListNode(tmp-10)\n",
    "                jinwei = 1\n",
    "            else:\n",
    "                tmp_node = ListNode(tmp)\n",
    "            end.next = tmp_node\n",
    "            end = tmp_node\n",
    "        if jinwei == 1:\n",
    "            end.next = ListNode(jinwei)\n",
    "        return head.next"
   ]
  },
  {
   "cell_type": "code",
   "execution_count": null,
   "id": "45a6938a",
   "metadata": {},
   "outputs": [],
   "source": [
    "if __name__ == \"__main__\":\n",
    "    soultion = Solution()\n",
    "    l1 = create_linked_list([9,9,9,9,9,9,9])\n",
    "    l2 = create_linked_list([1])\n",
    "    res = soultion.addTwoNumbers(l1,l2)\n",
    "    print(print_linked_list(res))\n",
    "    l1 = create_linked_list([2,4,3])\n",
    "    l2 = create_linked_list([5,6,4])\n",
    "    res = soultion.addTwoNumbers(l1,l2)\n",
    "    print(print_linked_list(res))\n",
    "    l1 = create_linked_list([0])\n",
    "    l2 = create_linked_list([0])\n",
    "    res = soultion.addTwoNumbers(l1,l2)\n",
    "    print(print_linked_list(res))\n",
    "    l1 = create_linked_list([9,9,9,9,9,9,9])\n",
    "    l2 = create_linked_list([9,9,9,9])\n",
    "    res = soultion.addTwoNumbers(l1,l2)\n",
    "    print(print_linked_list(res))"
   ]
  }
 ],
 "metadata": {
  "jupytext": {
   "cell_metadata_filter": "-all",
   "encoding": "# -*- coding: utf-8 -*-",
   "executable": "/usr/bin/env python"
  },
  "kernelspec": {
   "display_name": "Python 3 (ipykernel)",
   "language": "python",
   "name": "python3"
  }
 },
 "nbformat": 4,
 "nbformat_minor": 5
}
