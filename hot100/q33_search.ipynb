{
 "cells": [
  {
   "cell_type": "markdown",
   "metadata": {},
   "source": "整数数组 nums 按升序排列，数组中的值 互不相同 。\n\n在传递给函数之前，nums 在预先未知的某个下标 k（0 <= k < nums.length）上进行了 旋转，使数组变为 [nums[k], nums[k+1], ..., nums[n-1], nums[0], nums[1], ..., nums[k-1]]（下标 从 0 开始 计数）。例如， [0,1,2,4,5,6,7] 在下标 3 处经旋转后可能变为 [4,5,6,7,0,1,2] 。\n\n给你 旋转后 的数组 nums 和一个整数 target ，如果 nums 中存在这个目标值 target ，则返回它的下标，否则返回 -1 。\n\n你必须设计一个时间复杂度为 O(log n) 的算法解决此问题。\n\n \n\n示例 1：\n\n输入：nums = [4,5,6,7,0,1,2], target = 0\n输出：4\n示例 2：\n\n输入：nums = [4,5,6,7,0,1,2], target = 3\n输出：-1\n示例 3：\n\n输入：nums = [1], target = 0\n输出：-1"
  },
  {
   "cell_type": "code",
   "execution_count": null,
   "id": "32e24769",
   "metadata": {},
   "outputs": [],
   "source": "'''\n思路：二分查找，每次做两次判断，判断哪边有序，判断目标值是否在有序的范围内\n'''\nclass Solution(object):\n    def search(self, nums, target):\n        \"\"\"\n        :type nums: List[int]\n        :type target: int\n        :rtype: int\n        \"\"\"\n        start = 0\n        end = len(nums)-1\n        while start <= end:\n            mid = start + (end - start) // 2\n            if nums[mid] == target:\n                return mid\n            #如果中间值大于开始值，说明左边是有序的\n            #判断1,确定哪边有序\n            elif nums[mid] >= nums[start]:\n                # 如果目标值范围在左边，则更新end,否则更新右边\n                # 判断2,如果左边有序，判断 target在左边不\n                if nums[start] <= target < nums[mid]:\n                    end = mid - 1\n                else:\n                    start = mid + 1\n            else:\n                #如果中间值小于结束值，说明右边是有序的\n                #判断3，如果右边有序，看看 target在右边不\n                if nums[mid] < target <= nums[end]:\n                    start = mid + 1\n                else:\n                    end = mid - 1\n        return -1\nif __name__ == '__main__':\n    s = Solution()\n    print(s.search([4,5,6,7,0,1,2], 0))"
  }
 ],
 "metadata": {
  "jupytext": {
   "cell_metadata_filter": "-all",
   "encoding": "# -*- coding: utf-8 -*-",
   "executable": "/usr/bin/env python"
  },
  "kernelspec": {
   "display_name": "Python 3 (ipykernel)",
   "language": "python",
   "name": "python3"
  }
 },
 "nbformat": 4,
 "nbformat_minor": 5
}