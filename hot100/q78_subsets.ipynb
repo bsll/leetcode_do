{
 "cells": [
  {
   "cell_type": "markdown",
   "metadata": {},
   "source": "给你一个整数数组 nums ，数组中的元素 互不相同 。返回该数组所有可能的\n子集\n（幂集）。\n\n解集 不能 包含重复的子集。你可以按 任意顺序 返回解集。\n\n \n\n示例 1：\n\n输入：nums = [1,2,3]\n输出：[[],[1],[2],[1,2],[3],[1,3],[2,3],[1,2,3]]\n示例 2：\n\n输入：nums = [0]\n输出：[[],[0]]\n \n\n提示：\n\n1 <= nums.length <= 10\n-10 <= nums[i] <= 10\nnums 中的所有元素 互不相同"
  },
  {
   "cell_type": "code",
   "execution_count": null,
   "id": "8372661f",
   "metadata": {
    "lines_to_next_cell": 2
   },
   "outputs": [],
   "source": "'''\n思路:\n'''\nclass Solution(object):\n    def subsets(self, nums):\n        \"\"\"\n        :type nums: List[int]\n        :rtype: List[List[int]]\n        \"\"\"\n        res = [[]]\n        for i in range(len(nums)):\n            for j in range(len(res)):\n                res.append(res[j] + [nums[i]])\n                print(res)\n        return res\nif __name__ == \"__main__\":\n    s = Solution()\n    print(s.subsets([1]))\n    print(s.subsets([1,2,3]))"
  }
 ],
 "metadata": {
  "jupytext": {
   "cell_metadata_filter": "-all"
  },
  "kernelspec": {
   "display_name": "Python 3 (ipykernel)",
   "language": "python",
   "name": "python3"
  }
 },
 "nbformat": 4,
 "nbformat_minor": 5
}