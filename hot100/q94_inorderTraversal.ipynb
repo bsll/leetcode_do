{
 "cells": [
  {
   "cell_type": "markdown",
   "metadata": {},
   "source": "给定一个二叉树的根节点 root ，返回 它的 中序 遍历 。\n示例 1：\n输入：root = [1,null,2,3]\n输出：[1,3,2]\n示例 2：\n\n输入：root = []\n输出：[]\n示例 3：\n\n输入：root = [1]\n输出：[1]\n\n提示：\n\n树中节点数目在范围 [0, 100] 内\n-100 <= Node.val <= 100"
  },
  {
   "cell_type": "code",
   "execution_count": null,
   "id": "a4898fe4",
   "metadata": {},
   "outputs": [],
   "source": "'''\n解题思路：递归，中序遍历，先左子树，再根节点，最后右子树\n遍历命名是根据遍历根节点的顺序来命名，先遍历根节点，为前序遍历，中间遍历根节点，为中序遍历，最后遍历根节点，为后序遍历\n'''\nfrom utils import generate_tree\nclass Solution:\n    def inorderTraversal(self, root):\n        def inorder(root):\n            if not root:\n                return\n            inorder(root.left)\n            res.append(root.val)\n            inorder(root.right)\n        res = []\n        inorder(root)\n        return res\nif __name__ == '__main__':\n    s = Solution()\n    tree = generate_tree([1, None, 2, 3])\n    print(s.inorderTraversal(tree))"
  }
 ],
 "metadata": {
  "jupytext": {
   "cell_metadata_filter": "-all",
   "encoding": "# -*- coding: utf-8 -*-",
   "executable": "/usr/bin/env python"
  },
  "kernelspec": {
   "display_name": "Python 3 (ipykernel)",
   "language": "python",
   "name": "python3"
  }
 },
 "nbformat": 4,
 "nbformat_minor": 5
}