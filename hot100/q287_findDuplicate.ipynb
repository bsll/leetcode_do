{
 "cells": [
  {
   "cell_type": "markdown",
   "metadata": {},
   "source": "给定一个包含 n + 1 个整数的数组 nums ，其数字都在 [1, n] 范围内（包括 1 和 n），可知至少存在一个重复的整数。\n\n假设 nums 只有 一个重复的整数 ，返回 这个重复的数 。\n\n你设计的解决方案必须 不修改 数组 nums 且只用常量级 O(1) 的额外空间。\n\n\n\n示例 1：\n\n输入：nums = [1,3,4,2,2]\n输出：2\n示例 2：\n\n输入：nums = [3,1,3,4,2]\n输出：3\n示例 3 :\n\n输入：nums = [3,3,3,3,3]\n输出：3\n \n\n提示：\n\n1 <= n <= 105\nnums.length == n + 1\n1 <= nums[i] <= n\nnums 中 只有一个整数 出现 两次或多次 ，其余整数均只出现 一次\n \n\n进阶：\n\n如何证明 nums 中至少存在一个重复的数字?\n你可以设计一个线性级时间复杂度 O(n) 的解决方案吗？"
  },
  {
   "cell_type": "code",
   "execution_count": null,
   "id": "8b9caf0f",
   "metadata": {
    "lines_to_next_cell": 1
   },
   "outputs": [],
   "source": "'''\n思路：\n这个问题可以转化为链表中寻找环的问题。数组中的每个元素可以看作是一个指针，指向下一个元素。由于数组中有一个重复的数，这意味着至少有两个元素指向同一个位置，从而形成一个环。\n第一阶段：通过快慢指针找到环内的相遇点。\n第二阶段：通过重置慢指针并同步移动两个指针，找到环的入口，即重复的数。\n'''\nclass Solution(object):\n    def findDuplicate(self, nums):\n        \"\"\"\n        :type nums: List[int]\n        :rtype: int\n        \"\"\"\n        slow = nums[0]\n        fast = nums[nums[0]]\n        while slow != fast:\n            slow = nums[slow]\n            #fast多走一步\n            fast = nums[fast]\n            fast = nums[fast]\n        slow = 0\n        while slow != fast:\n            slow = nums[slow]\n            fast = nums[fast]\n        return slow"
  },
  {
   "cell_type": "code",
   "execution_count": null,
   "id": "ccfa5d2c",
   "metadata": {},
   "outputs": [],
   "source": [
    "if __name__ == \"__main__\":\n",
    "    s = Solution()\n",
    "    nums = [1,3,4,2,2]\n",
    "    print(s.findDuplicate(nums))\n",
    "    nums = [3,1,3,4,2]\n",
    "    print(s.findDuplicate(nums))"
   ]
  }
 ],
 "metadata": {
  "jupytext": {
   "cell_metadata_filter": "-all",
   "encoding": "# -*- coding: utf-8 -*-",
   "executable": "/usr/bin/env python"
  },
  "kernelspec": {
   "display_name": "Python 3 (ipykernel)",
   "language": "python",
   "name": "python3"
  }
 },
 "nbformat": 4,
 "nbformat_minor": 5
}