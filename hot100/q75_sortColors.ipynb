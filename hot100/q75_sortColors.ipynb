{
 "cells": [
  {
   "cell_type": "markdown",
   "metadata": {},
   "source": "给定一个包含红色、白色和蓝色、共 n 个元素的数组 nums ，原地 对它们进行排序，使得相同颜色的元素相邻，并按照红色、白色、蓝色顺序排列。\n\n我们使用整数 0、 1 和 2 分别表示红色、白色和蓝色。\n\n必须在不使用库内置的 sort 函数的情况下解决这个问题。\n\n示例 1：\n\n输入：nums = [2,0,2,1,1,0]\n输出：[0,0,1,1,2,2]\n示例 2：\n\n输入：nums = [2,0,1]\n输出：[0,1,2]\n\n提示：\n\nn == nums.length\n1 <= n <= 300\nnums[i] 为 0、1 或 2\n \n\n进阶：\n\n你能想出一个仅使用常数空间的一趟扫描算法吗？"
  },
  {
   "cell_type": "code",
   "execution_count": null,
   "id": "a6d3483d",
   "metadata": {
    "lines_to_next_cell": 2
   },
   "outputs": [],
   "source": "'''\n思路：借助字典，统计下个数，然后重放一下 （不满足原地）\n双指针，分别交换 0 和 1\n'''\nclass Solution(object):\n    def sortColors(self, nums):\n        \"\"\"\n        :type nums: List[int]\n        :rtype: None Do not return anything, modify nums in-place instead.\n        \"\"\"\n        m = len(nums)\n        # 初始化两个指针 p0 和 p1，分别用于跟踪 0 和 1 的位置\n        p0 = p1 = 0\n        for i in range(m):\n            # 如果当前元素是 1\n            if nums[i] == 1:\n                # 将当前元素与 p1 位置的元素交换\n                nums[i], nums[p1] = nums[p1], nums[i]\n                # 将 p1 指针向右移动一位\n                p1 += 1\n            #  如果当前元素是 0\n            elif nums[i] == 0:\n                # 将当前元素与 p0 位置的元素交换\n                nums[i], nums[p0] = nums[p0], nums[i]\n                # 如果 p0 < p1，说明之前有 1 被交换到了当前的位置\n                if p0 < p1:\n                    # 将当前元素与 p1 位置的元素交换\n                    nums[i], nums[p1] = nums[p1], nums[i]\n                # 将 p0 指针向右移动一位\n                p0 += 1\n                # 将 p1 指针向右移动一位\n                p1 += 1\nif __name__ == \"__main__\":\n    s = Solution()\n    print(s.sortColors)"
  }
 ],
 "metadata": {
  "jupytext": {
   "cell_metadata_filter": "-all",
   "encoding": "# -*- coding: utf-8 -*-",
   "executable": "/usr/bin/env python"
  },
  "kernelspec": {
   "display_name": "Python 3 (ipykernel)",
   "language": "python",
   "name": "python3"
  }
 },
 "nbformat": 4,
 "nbformat_minor": 5
}