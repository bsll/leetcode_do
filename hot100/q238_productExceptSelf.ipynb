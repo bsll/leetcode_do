{
 "cells": [
  {
   "cell_type": "markdown",
   "metadata": {},
   "source": "给你一个整数数组 nums，返回 数组 answer ，其中 answer[i] 等于 nums 中除 nums[i] 之外其余各元素的乘积 。\n\n题目数据 保证 数组 nums之中任意元素的全部前缀元素和后缀的乘积都在  32 位 整数范围内。\n\n请 不要使用除法，且在 O(n) 时间复杂度内完成此题。\n\n \n\n示例 1:\n\n输入: nums = [1,2,3,4]\n输出: [24,12,8,6]\n示例 2:\n\n输入: nums = [-1,1,0,-3,3]\n输出: [0,0,9,0,0]"
  },
  {
   "cell_type": "code",
   "execution_count": null,
   "id": "06d05a36",
   "metadata": {},
   "outputs": [],
   "source": "'''\n思路：双指针，一个从左往右算前缀，一个从右往左算后缀，无论是前缀还是后缀第一个位置不算，就会刚好差一位\n'''\nfrom typing import List\nclass Solution:\n    def productExceptSelf1(self, nums: List[int]) -> List[int]:\n        m = len(nums)\n        left_res = [1] * m\n        right_res = [1] * m\n        res = [1] * m\n        #构建前缀乘积\n        for i in range(1,m):\n            left_res[i] = nums[i-1] * left_res[i-1]\n        #构建后缀乘积\n        for i in range(m-2,-1,-1):\n            right_res[i] = nums[i+1] * right_res[i+1]\n        #讲前缀和后缀相乘就得到结果\n        for i in range(m):\n            res[i] = left_res[i] * right_res[i]\n        return res\n\n    def productExceptSelf(self, nums: List[int]) -> List[int]:\n        m = len(nums)\n        res = [1] * m\n        left = 0\n        right = m - 1\n        lp = 1\n        rp = 1\n        #这个是直接用lp,rp，记录当前前缀和后缀的结果\n        while right >= 0 and left < m:\n            res[left] *= lp\n            res[right] *= rp\n            lp *= nums[left]\n            rp *= nums[right]\n            left = left + 1\n            right = right - 1\n        return res\nif __name__ == \"__main__\":\n    s = Solution()\n    nums =[1,2,3,4]\n    print(s.productExceptSelf1(nums))"
  }
 ],
 "metadata": {
  "jupytext": {
   "cell_metadata_filter": "-all",
   "encoding": "# -*- coding: utf-8 -*-",
   "executable": "/usr/bin/env python"
  },
  "kernelspec": {
   "display_name": "Python 3 (ipykernel)",
   "language": "python",
   "name": "python3"
  }
 },
 "nbformat": 4,
 "nbformat_minor": 5
}