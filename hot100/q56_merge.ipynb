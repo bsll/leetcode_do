{
 "cells": [
  {
   "cell_type": "markdown",
   "metadata": {},
   "source": "以数组 intervals 表示若干个区间的集合，其中单个区间为 intervals[i] = [starti, endi] 。请你合并所有重叠的区间，并返回 一个不重叠的区间数组，该数组需恰好覆盖输入中的所有区间 。\n\n \n\n示例 1：\n\n输入：intervals = [[1,3],[2,6],[8,10],[15,18]]\n输出：[[1,6],[8,10],[15,18]]\n解释：区间 [1,3] 和 [2,6] 重叠, 将它们合并为 [1,6].\n示例 2：\n\n输入：intervals = [[1,4],[4,5]]\n输出：[[1,5]]\n解释：区间 [1,4] 和 [4,5] 可被视为重叠区间。"
  },
  {
   "cell_type": "code",
   "execution_count": null,
   "id": "b7f905ba",
   "metadata": {},
   "outputs": [],
   "source": "'''\n注意：数组不是完全递增的\n思路：先排序，然后按照区间对比去找就行了\n'''\nfrom typing import List\nclass Solution:\n    def merge(self, intervals: List[List[int]]) -> List[List[int]]:\n        m = len(intervals)\n        if m == 0:\n            return []\n        if m == 1:\n            return intervals\n        intervals.sort(key=lambda x: x[0])\n        res = []\n        merge_res = [intervals[0][0],intervals[0][1]]\n        for i in range(1,m):\n            start1 = intervals[i][0]\n            end1 = intervals[i][1]\n            if start1 <= merge_res[1]:\n                merge_res = [merge_res[0],max(merge_res[1],end1)]\n            else:\n                res.append(merge_res)\n                merge_res = [start1,end1]\n        res.append(merge_res)\n        return res"
  },
  {
   "cell_type": "code",
   "execution_count": null,
   "id": "383b753b",
   "metadata": {
    "lines_to_next_cell": 2
   },
   "outputs": [],
   "source": [
    "if __name__ == \"__main__\":\n",
    "    s = Solution()\n",
    "    intervals = [[1,3],[2,6],[8,10],[15,18]]\n",
    "    print(s.merge(intervals))\n",
    "    intervals = [[1,4],[4,5]]\n",
    "    print(s.merge(intervals))\n",
    "    intervals = [[1,4],[0,4]]\n",
    "    print(s.merge(intervals))\n",
    "    intervals = [[1,4],[0,0]]\n",
    "    print(s.merge(intervals))"
   ]
  }
 ],
 "metadata": {
  "jupytext": {
   "cell_metadata_filter": "-all",
   "encoding": "# -*- coding: utf-8 -*-",
   "executable": "/usr/bin/env python"
  },
  "kernelspec": {
   "display_name": "Python 3 (ipykernel)",
   "language": "python",
   "name": "python3"
  }
 },
 "nbformat": 4,
 "nbformat_minor": 5
}