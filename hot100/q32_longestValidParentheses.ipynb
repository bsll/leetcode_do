{
 "cells": [
  {
   "cell_type": "markdown",
   "metadata": {},
   "source": "给你一个只包含 '(' 和 ')' 的字符串，找出最长有效（格式正确且连续）括号子串的长度。\n\n示例 1：\n\n输入：s = \"(()\"\n输出：2\n解释：最长有效括号子串是 \"()\"\n示例 2：\n\n输入：s = \")()())\"\n输出：4\n解释：最长有效括号子串是 \"()()\"\n示例 3：\n\n输入：s = \"\"\n输出：0\n \n\n提示：\n\n0 <= s.length <= 3 * 104\ns[i] 为 '(' 或 ')'"
  },
  {
   "cell_type": "code",
   "execution_count": null,
   "id": "012d7a3f",
   "metadata": {
    "lines_to_next_cell": 1
   },
   "outputs": [],
   "source": "'''\n思路：从左往右遍历一遍，左右相等的时候，计算 maxlength,如果 right>left, right,left置为 0，\n    然后从右往左边遍历一遍，进行相同的计算，如果 left > right ,right,left 置为 0 \n'''\nclass Solution(object):\n    def longestValidParentheses(self, s):\n        \"\"\"\n        :type s: str\n        :rtype: int\n        \"\"\"\n        n = len(s)\n        left = right = 0\n        maxLength = 0\n        for i in range(n):\n            if s[i] == '(':\n                left += 1\n            elif s[i] == ')':\n                right += 1\n            if left == right :\n                maxLength = max(maxLength, left * 2)\n            elif right > left:\n                left = right = 0\n        left = right = 0\n        for i in range(n-1,0,-1):\n            if s[i] == ')':\n                right += 1\n            elif s[i] == '(':\n                left += 1\n            if left == right:\n                maxLength = max(maxLength, right * 2)\n            elif left > right:\n                left = right = 0\n        return maxLength"
  },
  {
   "cell_type": "code",
   "execution_count": null,
   "id": "2dfa441b",
   "metadata": {},
   "outputs": [],
   "source": [
    "if __name__ == \"__main__\":\n",
    "    s = Solution()\n",
    "    print(s.longestValidParentheses('(()'))\n",
    "    print(s.longestValidParentheses(')()())'))\n",
    "    print(s.longestValidParentheses(''))"
   ]
  }
 ],
 "metadata": {
  "jupytext": {
   "cell_metadata_filter": "-all",
   "encoding": "# -*- coding: utf-8 -*-",
   "executable": "/usr/bin/env python"
  },
  "kernelspec": {
   "display_name": "Python 3 (ipykernel)",
   "language": "python",
   "name": "python3"
  }
 },
 "nbformat": 4,
 "nbformat_minor": 5
}