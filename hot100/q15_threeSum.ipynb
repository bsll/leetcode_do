{
 "cells": [
  {
   "cell_type": "markdown",
   "metadata": {},
   "source": "给你一个整数数组 nums ，判断是否存在三元组 [nums[i], nums[j], nums[k]] 满足 i != j、i != k 且 j != k ，同时还满足 nums[i] + nums[j] + nums[k] == 0 。请你返回所有和为 0 且不重复的三元组。\n\n注意：答案中不可以包含重复的三元组。\n\n \n\n \n\n示例 1：\n\n输入：nums = [-1,0,1,2,-1,-4]\n输出：[[-1,-1,2],[-1,0,1]]\n解释：\nnums[0] + nums[1] + nums[2] = (-1) + 0 + 1 = 0 。\nnums[1] + nums[2] + nums[4] = 0 + 1 + (-1) = 0 。\nnums[0] + nums[3] + nums[4] = (-1) + 2 + (-1) = 0 。\n不同的三元组是 [-1,0,1] 和 [-1,-1,2] 。\n注意，输出的顺序和三元组的顺序并不重要。\n示例 2：\n\n输入：nums = [0,1,1]\n输出：[]\n解释：唯一可能的三元组和不为 0 。\n示例 3：\n\n输入：nums = [0,0,0]\n输出：[[0,0,0]]\n解释：唯一可能的三元组和为 0 。"
  },
  {
   "cell_type": "code",
   "execution_count": null,
   "id": "cd673eb9",
   "metadata": {},
   "outputs": [],
   "source": "'''\n思路：两层循环，第一层循环控制第一个位置，防止重复\n     第二层循环使用双指针，依次找和为 0 的数，但是用过的数也要防止重复\n'''\nfrom typing import List\nclass Solution:\n    def threeSum1(self, nums: List[int]) -> List[List[int]]:\n        m = len(nums)\n        nums.sort()\n        res = []\n        for start in range(m):\n            if start > 0 and nums[start] == nums[start-1]:\n                continue\n            end = m -1\n            for middle in range(start+1, m):\n                if middle > start + 1 and nums[middle] == nums[middle - 1]:\n                    continue\n                while middle < end and nums[start] + nums[middle] + nums[end] > 0:\n                    end = end - 1\n                if middle == end:\n                    break\n                if nums[start] + nums[middle] + nums[end] == 0:\n                    res.append([nums[start], nums[middle], nums[end]])\n        return res\n    def threeSum(self, nums: List[int]) -> List[List[int]]:\n        m = len(nums)\n        if m <= 2:\n            return []\n        if m == 3:\n            if nums[0] + nums[1] + nums[2] == 0:\n                return [nums]\n            else:\n                return []\n        end = m\n        res = []\n        nums = sorted(nums)\n        for start in range(0, m-2):\n            if start == 0 or nums[start] !=nums[start -1]:\n                middle = start + 1\n                end = m - 1\n                target = nums[start]\n                while middle < end:\n                    if target + nums[middle] + nums[end] > 0:\n                        end = end - 1\n                    elif target + nums[middle] + nums[end] < 0:\n                        middle = middle + 1\n                    else:\n                        res.append([target, nums[middle], nums[end]])\n                        middle = middle + 1\n                        end = end - 1 \n                        while end < m-1 and end > 0 and nums[end] == nums[end + 1]:\n                            end = end - 1\n                        while middle < m-1 and nums[middle] == nums[middle -1]:\n                           middle = middle + 1\n                    if middle >= end:\n                        break\n        return res\nif __name__ == \"__main__\":\n    s = Solution()\n    #nums = [-1,0,1,2,-1,-4]\n    #print(s.threeSum(nums))    \n    #nums = [0,1,1]\n    #print(s.threeSum(nums))    \n    #nums = [0,0,0,0,0]\n    #print(s.threeSum(nums))    \n    nums = [-2,0,1,1,2]\n    print(s.threeSum1(nums))    \n    nums = [-1,0,1,2,-1,-4,-2,-3,3,0,4]\n    print(s.threeSum1(nums))    \n    nums = [-2,0,0,2,2]\n    print(s.threeSum1(nums))    "
  },
  {
   "cell_type": "code",
   "execution_count": null,
   "id": "41c46dc2",
   "metadata": {},
   "outputs": [],
   "source": []
  },
  {
   "cell_type": "code",
   "execution_count": null,
   "id": "0820919e",
   "metadata": {
    "lines_to_next_cell": 2
   },
   "outputs": [],
   "source": []
  }
 ],
 "metadata": {
  "jupytext": {
   "cell_metadata_filter": "-all",
   "encoding": "# -*- coding: utf-8 -*-",
   "executable": "/usr/bin/env python"
  },
  "kernelspec": {
   "display_name": "Python 3 (ipykernel)",
   "language": "python",
   "name": "python3"
  }
 },
 "nbformat": 4,
 "nbformat_minor": 5
}