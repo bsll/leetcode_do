{
 "cells": [
  {
   "cell_type": "markdown",
   "metadata": {},
   "source": "给定一个未排序的整数数组 nums ，找出数字连续的最长序列（不要求序列元素在原数组中连续）的长度。\n请你设计并实现时间复杂度为 O(n) 的算法解决此问题。\n\n示例 1：\n输入：nums = [100,4,200,1,3,2]\n输出：4\n解释：最长数字连续序列是 [1, 2, 3, 4]。它的长度为 4。\n\n示例 2：\n输入：nums = [0,3,7,2,5,8,4,6,0,1]\n输出：9\n提示：\n0 <= nums.length <= 10^5\n-10^9 <= nums[i] <= 10^9"
  },
  {
   "cell_type": "code",
   "execution_count": null,
   "id": "11faf546",
   "metadata": {},
   "outputs": [],
   "source": "'''\n思路：持续遍历数组，判断当前数字-1在不在集合里，如果在就继续找，直到不在的时候，就是当前最长的\n     找出没有-1的值，当做最小值，一路往上循环找\n     借助set或者dict,查找时间复杂度是O(1)\n\n     终极思路：+-1在不在集合里，如果在就继续找，直到不在的时候，就是当前最长的\n'''\nclass Solution(object):\n    def longestConsecutive(self, nums):\n        \"\"\"\n        :type nums: List[int]\n        :rtype: int\n        \"\"\"\n        maxlen = 0\n        nums_set = set(nums)\n        for num in nums_set:\n            #如果-1不在集合里面，说明这个数字是连续序列的最小值\n            if num - 1 not in nums_set:\n                cur = num\n                cur_len = 1\n                #如果+1在集合里面，最小值+1，长度+1,持续这个循环，直到找不到，此时是最长连续序列\n                while cur + 1 in nums_set:\n                    cur += 1\n                    cur_len += 1\n                maxlen = max(maxlen, cur_len)\n        return maxlen\n    def longestConsecutive2(self, nums):\n        # 超出时间限制\n        nums = set(nums)\n        maxlen = 1\n        for num in nums:\n            cur = num -1 \n            tmp = 1\n            if num+1 in nums:\n                continue\n            while cur in nums:\n                cur -= 1\n                tmp += 1\n            maxlen = max(maxlen, tmp)\n        return maxlen\nif __name__ == '__main__':\n    sou = Solution()\n    nums = [100,4,200,1,3,2]\n    print(sou.longestConsecutive(nums))\n    print(sou.longestConsecutive2(nums))\n    nums = [0,3,7,2,5,8,4,6,0,1]\n    print(sou.longestConsecutive(nums))\n    print(sou.longestConsecutive2(nums))"
  }
 ],
 "metadata": {
  "jupytext": {
   "cell_metadata_filter": "-all",
   "encoding": "# -*- coding: utf-8 -*-",
   "executable": "/usr/bin/env python"
  },
  "kernelspec": {
   "display_name": "Python 3 (ipykernel)",
   "language": "python",
   "name": "python3"
  }
 },
 "nbformat": 4,
 "nbformat_minor": 5
}