{
 "cells": [
  {
   "cell_type": "markdown",
   "metadata": {},
   "source": "给你一个未排序的整数数组 nums ，请你找出其中没有出现的最小的正整数。\n\n请你实现时间复杂度为 O(n) 并且只使用常数级别额外空间的解决方案。\n \n\n示例 1：\n\n输入：nums = [1,2,0]\n输出：3\n解释：范围 [1,2] 中的数字都在数组中。\n示例 2：\n\n输入：nums = [3,4,-1,1]\n输出：2\n解释：1 在数组中，但 2 没有。\n示例 3：\n\n输入：nums = [7,8,9,11,12]\n输出：1\n解释：最小的正数 1 没有出现。"
  },
  {
   "cell_type": "code",
   "execution_count": null,
   "id": "37bbc773",
   "metadata": {
    "lines_to_next_cell": 1
   },
   "outputs": [],
   "source": "'''\n思路： 原地哈希，把数据元素按照1在索引 0，2在索引 2 的规则重新交换下，然后再次遍历，如果对不上就说明缺失\n while 0 < nums[i] < n and nums[nums[i]-1] != nums[i]:\n     nums[nums[i]-1],nums[i] = nums[i], nums[nums[i]-1]\n'''\nclass Solution(object):\n    def firstMissingPositive(self, nums):\n        \"\"\"\n        :type nums: List[int]\n        :rtype: int\n        \"\"\"\n        n = len(nums)\n        for i in range(n):\n            while 0 < nums[i] < n and nums[nums[i]-1] != nums[i]:\n                # 需要先保存 nums[nums[i]-1],否则可能数组溢出\n                # tmp = nums[nums[i]-1]\n                # nums[nums[i] - 1] = nums[i]\n                # nums[i] = tmp  \n                nums[nums[i]-1],nums[i] = nums[i], nums[nums[i]-1]\n        for i in range(n):\n            if nums[i] != i + 1:\n                return i+1\n        return n+1"
  },
  {
   "cell_type": "code",
   "execution_count": null,
   "id": "c56145d9",
   "metadata": {},
   "outputs": [],
   "source": [
    "if __name__ == \"__main__\":\n",
    "    s =Solution()\n",
    "    nums = [100000, 3, 4000, 2, 15, 1, 99999]\n",
    "    print(s.firstMissingPositive(nums))\n",
    "    nums = [-5]\n",
    "    print(s.firstMissingPositive(nums))\n",
    "    nums = [-1,-2,-60,40,43]\n",
    "    print(s.firstMissingPositive(nums))\n",
    "    nums = [-1,4,2,1,9,10]\n",
    "    print(s.firstMissingPositive(nums))\n",
    "    nums = [-1,1]\n",
    "    print(s.firstMissingPositive(nums))"
   ]
  },
  {
   "cell_type": "code",
   "execution_count": null,
   "id": "a56e7471",
   "metadata": {},
   "outputs": [],
   "source": []
  }
 ],
 "metadata": {
  "jupytext": {
   "cell_metadata_filter": "-all",
   "encoding": "# -*- coding: utf-8 -*-",
   "executable": "/usr/bin/env python"
  },
  "kernelspec": {
   "display_name": "Python 3 (ipykernel)",
   "language": "python",
   "name": "python3"
  }
 },
 "nbformat": 4,
 "nbformat_minor": 5
}