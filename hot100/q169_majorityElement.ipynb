{
 "cells": [
  {
   "cell_type": "markdown",
   "metadata": {},
   "source": "给定一个大小为 n 的数组 nums ，返回其中的多数元素。多数元素是指在数组中出现次数 大于 ⌊ n/2 ⌋ 的元素。\n你可以假设数组是非空的，并且给定的数组总是存在多数元素。\n示例 1：\n\n输入：nums = [3,2,3]\n输出：3\n示例 2：\n\n输入：nums = [2,2,1,1,1,2,2]\n输出：2"
  },
  {
   "cell_type": "code",
   "execution_count": null,
   "id": "ba4afd14",
   "metadata": {},
   "outputs": [],
   "source": "'''\n思路：1、暴力统计就可以，时间和空间复杂度都是O(n),O(n)\n     2、遍历数组，假设第一个元素为众数，如果当前元素为众数，则加1，否则减1，\n     如果 count=0,把当前元素当成众数来处理。\n     因为如果有众数的话，是不会被减为 0 的，因为众数出现的次数大于n/2\n'''"
  },
  {
   "cell_type": "code",
   "execution_count": null,
   "id": "126e278b",
   "metadata": {},
   "outputs": [],
   "source": [
    "class Solution(object):\n",
    "    def majorityElement(self, nums):\n",
    "        \"\"\"\n",
    "        :type nums: List[int]\n",
    "        :rtype: int\n",
    "        \"\"\"\n",
    "        m = len(nums)\n",
    "        first = nums[0]\n",
    "        count = 1\n",
    "        for i in range(1,m):\n",
    "            if nums[i] != first:\n",
    "                count -= 1\n",
    "            else:\n",
    "                count += 1\n",
    "            if count == 0:\n",
    "                first = nums[i]\n",
    "                count = 1\n",
    "        return first\n",
    "sou = Solution()\n",
    "nums= [1, 2, 3, 2, 2, 2, 5, 4, 2]\n",
    "print(sou.majorityElement(nums))"
   ]
  }
 ],
 "metadata": {
  "jupytext": {
   "cell_metadata_filter": "-all",
   "encoding": "# -*- coding: utf-8 -*-",
   "executable": "/usr/bin/env python"
  },
  "kernelspec": {
   "display_name": "Python 3 (ipykernel)",
   "language": "python",
   "name": "python3"
  }
 },
 "nbformat": 4,
 "nbformat_minor": 5
}