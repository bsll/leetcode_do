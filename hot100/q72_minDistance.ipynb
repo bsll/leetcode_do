{
 "cells": [
  {
   "cell_type": "markdown",
   "metadata": {},
   "source": "给你两个单词 word1 和 word2， 请返回将 word1 转换成 word2 所使用的最少操作数  。\n\n你可以对一个单词进行如下三种操作：\n\n插入一个字符\n删除一个字符\n替换一个字符\n \n\n示例 1：\n\n输入：word1 = \"horse\", word2 = \"ros\"\n输出：3\n解释：\nhorse -> rorse (将 'h' 替换为 'r')\nrorse -> rose (删除 'r')\nrose -> ros (删除 'e')\n示例 2：\n\n输入：word1 = \"intention\", word2 = \"execution\"\n输出：5\n解释：\nintention -> inention (删除 't')\ninention -> enention (将 'i' 替换为 'e')\nenention -> exention (将 'n' 替换为 'x')\nexention -> exection (将 'n' 替换为 'c')\nexection -> execution (插入 'u')"
  },
  {
   "cell_type": "code",
   "execution_count": null,
   "id": "eb61c020",
   "metadata": {},
   "outputs": [],
   "source": "'''\n思路：动态规划 \nf[i][j] = f[i-1][j-1] if word1[i] == word2[j]\nf[i][j] = min(f[i-1][j], f[i][j-1], f[i-1][j-1]) + 1 if word1[i] != word2[j]\n'''\nclass Solution(object):\n    def minDistance(self, s1, s2):\n        \"\"\"\n        :type word1: str\n        :type word2: str\n        :rtype: int\n        \"\"\"\n        m ,n = len(s1),len(s2)\n        if m == 0:\n            return n\n        if n == 0:\n            return m\n\n        dp = [[0 for i in range(m + 1)] for j in range(n + 1)]\n        for i in range(m + 1):\n            dp[0][i] = i\n        for j in range(n + 1):\n            dp[j][0] = j\n\n        for i in range(1,n+1):\n            for j in range(1,m+1):\n                if s1[j-1] == s2[i-1]:\n                    dp[i][j] = dp[i-1][j-1]\n                else:\n                    dp[i][j] = min(dp[i-1][j-1] + 1, dp[i-1][j]+1, dp[i][j-1]+1)\n        return dp[i][j]\nif __name__ == \"__main__\":\n    s = Solution()\n    print(s.minDistance(\"horse\",\"ros\"))\n    print(s.minDistance(\"intention\",\"execution\"))"
  }
 ],
 "metadata": {
  "jupytext": {
   "cell_metadata_filter": "-all"
  },
  "kernelspec": {
   "display_name": "Python 3 (ipykernel)",
   "language": "python",
   "name": "python3"
  }
 },
 "nbformat": 4,
 "nbformat_minor": 5
}