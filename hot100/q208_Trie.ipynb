{
 "cells": [
  {
   "cell_type": "markdown",
   "metadata": {},
   "source": "Trie（发音类似 \"try\"）或者说 前缀树 是一种树形数据结构，用于高效地存储和检索字符串数据集中的键。这一数据结构有相当多的应用情景，例如自动补全和拼写检查。\n\n请你实现 Trie 类：\n\nTrie() 初始化前缀树对象。\nvoid insert(String word) 向前缀树中插入字符串 word 。\nboolean search(String word) 如果字符串 word 在前缀树中，返回 true（即，在检索之前已经插入）；否则，返回 false 。\nboolean startsWith(String prefix) 如果之前已经插入的字符串 word 的前缀之一为 prefix ，返回 true ；否则，返回 false 。\n \n\n示例：\n\n输入\n[\"Trie\", \"insert\", \"search\", \"search\", \"startsWith\", \"insert\", \"search\"]\n[[], [\"apple\"], [\"apple\"], [\"app\"], [\"app\"], [\"app\"], [\"app\"]]\n输出\n[null, null, true, false, true, null, true]\n\n解释\nTrie trie = new Trie();\ntrie.insert(\"apple\");\ntrie.search(\"apple\");   // 返回 True\ntrie.search(\"app\");     // 返回 False\ntrie.startsWith(\"app\"); // 返回 True\ntrie.insert(\"app\");\ntrie.search(\"app\");     // 返回 True\n \n\n提示：\n\n1 <= word.length, prefix.length <= 2000\nword 和 prefix 仅由小写英文字母组成\ninsert、search 和 startsWith 调用次数 总计 不超过 3 * 104 次"
  },
  {
   "cell_type": "code",
   "execution_count": null,
   "id": "bd2d2a31",
   "metadata": {
    "lines_to_next_cell": 1
   },
   "outputs": [],
   "source": "'''\n思路：创建一个 searchPrefix ， node = node.children[ch]\n'''\nclass Trie:\n    def __init__(self):\n        self.children =[None] * 26\n        self.isEnd = False\n    def searchPrefix(self, prefix):\n        node = self\n        for ch in prefix:\n            ch = ord(ch) - ord('a')\n            if not node.children[ch]:\n                return None\n            node = node.children[ch]\n        return node\n\n    def insert(self, word):\n        node = self\n        for ch in word:\n            ch = ord(ch) - ord('a')\n            if not node.children[ch]:\n                node.children[ch] = Trie()\n            node = node.children[ch]\n        node.isEnd = True\n\n    def search(self, word):\n        node = self.searchPrefix(word)\n        return node is not None and node.isEnd\n\n    def startsWith(self, prefix):\n        return self.searchPrefix(prefix) is not None"
  },
  {
   "cell_type": "code",
   "execution_count": null,
   "id": "b6c57228",
   "metadata": {},
   "outputs": [],
   "source": [
    "if __name__ == \"__main__\":\n",
    "    trie = Trie()\n",
    "    trie.insert(\"apple\")\n",
    "    print(trie.search(\"apple\"))  \n",
    "    print(trie.search(\"app\"))     \n",
    "    trie.startsWith(\"app\") \n",
    "    trie.insert(\"app\")\n",
    "    print(trie.search(\"app\"))"
   ]
  }
 ],
 "metadata": {
  "jupytext": {
   "cell_metadata_filter": "-all",
   "encoding": "# -*- coding: utf-8 -*-",
   "executable": "/usr/bin/env python"
  },
  "kernelspec": {
   "display_name": "Python 3 (ipykernel)",
   "language": "python",
   "name": "python3"
  }
 },
 "nbformat": 4,
 "nbformat_minor": 5
}