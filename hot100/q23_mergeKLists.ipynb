{
 "cells": [
  {
   "cell_type": "markdown",
   "metadata": {},
   "source": "给你一个链表数组，每个链表都已经按升序排列。\n\n请你将所有链表合并到一个升序链表中，返回合并后的链表。\n示例 1：\n\n输入：lists = [[1,4,5],[1,3,4],[2,6]]\n输出：[1,1,2,3,4,4,5,6]\n解释：链表数组如下：\n[\n  1->4->5,\n  1->3->4,\n  2->6\n]\n将它们合并到一个有序链表中得到。\n1->1->2->3->4->4->5->6\n示例 2：\n\n输入：lists = []\n输出：[]\n示例 3：\n\n输入：lists = [[]]\n输出：[]\n \n\n提示：\n\nk == lists.length\n0 <= k <= 10^4\n0 <= lists[i].length <= 500\n-10^4 <= lists[i][j] <= 10^4\nlists[i] 按 升序 排列\nlists[i].length 的总和不超过 10^4"
  },
  {
   "cell_type": "code",
   "execution_count": null,
   "id": "09b1d851",
   "metadata": {
    "lines_to_next_cell": 1
   },
   "outputs": [],
   "source": "'''\n思路：顺序合并，每次合并两个\n'''\nfrom utils import ListNode,create_linked_list,print_linked_list"
  },
  {
   "cell_type": "code",
   "execution_count": null,
   "id": "5ad6592a",
   "metadata": {},
   "outputs": [],
   "source": [
    "class Solution(object):\n",
    "    def mergeKLists(self, lists):\n",
    "        \"\"\"\n",
    "        :type lists: List[Optional[ListNode]]\n",
    "        :rtype: Optional[ListNode]\n",
    "        \"\"\"\n",
    "        def mergeTwoLists(l1, l2):\n",
    "            if not l1:\n",
    "                return l2\n",
    "            if not l2:\n",
    "                return l1\n",
    "            head = ListNode()\n",
    "            l = head\n",
    "            while l1 and l2:\n",
    "                if l1.val <= l2.val:\n",
    "                    l.next = l1\n",
    "                    l1 = l1.next\n",
    "                else:\n",
    "                    l.next = l2\n",
    "                    l2 = l2.next\n",
    "                l = l.next\n",
    "            l.next = l1 if l1 else l2\n",
    "            return head.next\n",
    "        ans = None\n",
    "        n = len(lists)\n",
    "        for i in range(len(lists)):\n",
    "            ans = mergeTwoLists(ans,lists[i])\n",
    "        return ans\n",
    "if __name__ == \"__main__\":\n",
    "    s = Solution()\n",
    "    lis = [[1,4,5],[1,3,4],[2,6]]\n",
    "    lis = [[2],[],[-1]]\n",
    "    lists = []\n",
    "    for i in range(len(lis)):\n",
    "        lists.append(create_linked_list(lis[i]))\n",
    "    print(print_linked_list(s.mergeKLists(lists)))"
   ]
  },
  {
   "cell_type": "code",
   "execution_count": null,
   "id": "7ad5b58f",
   "metadata": {},
   "outputs": [],
   "source": []
  },
  {
   "cell_type": "code",
   "execution_count": null,
   "id": "3d8cb322",
   "metadata": {},
   "outputs": [],
   "source": [
    "        "
   ]
  },
  {
   "cell_type": "code",
   "execution_count": null,
   "id": "0bb5bf33",
   "metadata": {},
   "outputs": [],
   "source": []
  }
 ],
 "metadata": {
  "jupytext": {
   "cell_metadata_filter": "-all",
   "encoding": "# -*- coding: utf-8 -*-",
   "executable": "/usr/bin/env python"
  },
  "kernelspec": {
   "display_name": "Python 3 (ipykernel)",
   "language": "python",
   "name": "python3"
  }
 },
 "nbformat": 4,
 "nbformat_minor": 5
}