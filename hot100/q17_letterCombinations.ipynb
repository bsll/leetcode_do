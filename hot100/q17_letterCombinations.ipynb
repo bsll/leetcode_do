{
 "cells": [
  {
   "cell_type": "markdown",
   "metadata": {},
   "source": "给定一个仅包含数字 2-9 的字符串，返回所有它能表示的字母组合。答案可以按 任意顺序 返回。\n\n给出数字到字母的映射如下（与电话按键相同）。注意 1 不对应任何字母。\n示例 1：\n\n输入：digits = \"23\"\n输出：[\"ad\",\"ae\",\"af\",\"bd\",\"be\",\"bf\",\"cd\",\"ce\",\"cf\"]\n示例 2：\n\n输入：digits = \"\"\n输出：[]\n示例 3：\n\n输入：digits = \"2\"\n输出：[\"a\",\"b\",\"c\"]\n \n提示：\n\n0 <= digits.length <= 4\ndigits[i] 是范围 ['2', '9'] 的一个数字。"
  },
  {
   "cell_type": "code",
   "execution_count": null,
   "id": "b4a2dbb0",
   "metadata": {},
   "outputs": [],
   "source": "'''\n思路：\n迭代处理后续数字：对于每个后续数字（从第二个开始）：\n\n创建临时列表tmp，用于存储当前组合结果。\n\n遍历res中已有的每个字符串（如初始的'a', 'b', 'c'）。\n\n将当前数字对应的每个字母（如'3'对应的'd', 'e', 'f'）追加到这些字符串后，形成新组合（如'ad', 'ae', ..., 'cf'）。\n\n用tmp更新res，继续处理下一个数字。\n'''\nclass Solution(object):\n    def letterCombinations(self, digits):\n        \"\"\"\n        :type digits: str\n        :rtype: List[str]\n        \"\"\"\n        s = {\n            '2' : ['a','b','c'],\n            '3' : ['d','e','f'],\n            \"4\" : ['g','h','i'],\n            \"5\" : ['j','k','l'],\n            \"6\" : ['m','n','o'],\n            \"7\" : ['p','q','r','s'],\n            \"8\" : ['t','u','v'],\n            \"9\" : ['w','x','y','z']\n        }\n        n = len(digits)\n        if n == 0:\n            return []\n        res = s[digits[0]]\n        if n == 1:\n            return res\n        i = 1\n        while i < n:\n            tmp = []\n            for s1 in res:\n                for s2 in s[digits[i]]:\n                    tmp.append(s1 + s2)\n            res = tmp\n            i += 1\n        return res\nif __name__ == \"__main__\":\n    s = Solution()\n    print(s.letterCombinations('234'))"
  }
 ],
 "metadata": {
  "jupytext": {
   "cell_metadata_filter": "-all",
   "encoding": "# -*- coding: utf-8 -*-",
   "executable": "/usr/bin/env python"
  },
  "kernelspec": {
   "display_name": "Python 3 (ipykernel)",
   "language": "python",
   "name": "python3"
  }
 },
 "nbformat": 4,
 "nbformat_minor": 5
}