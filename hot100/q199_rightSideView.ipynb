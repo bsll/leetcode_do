{
 "cells": [
  {
   "cell_type": "markdown",
   "metadata": {},
   "source": "给定一个二叉树的 根节点 root，想象自己站在它的右侧，按照从顶部到底部的顺序，返回从右侧所能看到的节点值。"
  },
  {
   "cell_type": "code",
   "execution_count": null,
   "id": "f3293338",
   "metadata": {},
   "outputs": [],
   "source": "'''\n解题思路：层次遍历，找最后一个值\n'''\ndef rightSideView(root):\n    if root == None:\n        return []\n\n    tmp = [root]\n    tmp2 = []\n    while tmp!= []:\n        tmp2.append(tmp[-1].val)\n        tmp1 = []\n        for key in tmp:\n            if key.left != None:\n                tmp1.append(key.left)\n            if key.right != None:\n                tmp1.append(key.right)\n        tmp = tmp1\n    return tmp2"
  }
 ],
 "metadata": {
  "jupytext": {
   "cell_metadata_filter": "-all",
   "encoding": "# -*- coding: utf-8 -*-",
   "executable": "/usr/bin/env python"
  },
  "kernelspec": {
   "display_name": "Python 3 (ipykernel)",
   "language": "python",
   "name": "python3"
  }
 },
 "nbformat": 4,
 "nbformat_minor": 5
}