{
 "cells": [
  {
   "cell_type": "markdown",
   "metadata": {},
   "source": "给定一个 m x n 的矩阵，如果一个元素为 0 ，则将其所在行和列的所有元素都设为 0 。请使用 原地 算法。\n示例 1：\n输入：matrix = [[1,1,1],[1,0,1],[1,1,1]]\n输出：[[1,0,1],[0,0,0],[1,0,1]]\n示例 2：\n\n输入：matrix = [[0,1,2,0],[3,4,5,2],[1,3,1,5]]\n输出：[[0,0,0,0],[0,4,5,0],[0,3,1,0]]"
  },
  {
   "cell_type": "code",
   "execution_count": null,
   "id": "e9e24165",
   "metadata": {},
   "outputs": [],
   "source": "'''\n思路：1、暴力解法，用字典或者 set()存标记为 0 的数据\n     2、遍历两遍数组，第一遍把原来为 0 的位置标记为 True,第二遍判断该行或者该列为 True的，更新数组\n     3、使用第一行和第一列来替换方法 2 中的标记数组\n'''\nfrom typing import List\nclass Solution:\n    def setZeroes(self, matrix: List[List[int]]) -> None:\n        \"\"\"\n        Do not return anything, modify matrix in-place instead.\n        \"\"\"\n        m = len(matrix)\n        n = len(matrix[0])\n        s = set()\n        row = [False] * m\n        col = [False] * n\n        for i in range(m):\n            for j in range(n):\n                if matrix[i][j] == 0:\n                    row[i] = True\n                    col[j] = True\n        \n        for i in range(m):\n            for j in range(n):\n                if row[i] or col[j]:\n                    matrix[i][j] = 0\n\n\n\n    def setZeroes1(self, matrix: List[List[int]]) -> None:\n        \"\"\"\n        Do not return anything, modify matrix in-place instead.\n        \"\"\"\n        m = len(matrix)\n        n = len(matrix[0])\n        s = set()\n        for i in range(m):\n            for j in range(n):\n                if matrix[i][j] == 0:\n                    if (i,j) not in s:\n                        for z in range(n):\n                            if matrix[i][z] != 0:\n                                matrix[i][z] = 0\n                                s.add((i,z))\n                        for z in range(m):\n                            if matrix[z][j] != 0:\n                                matrix[z][j] = 0\n                                s.add((z,j))"
  },
  {
   "cell_type": "code",
   "execution_count": null,
   "id": "87b1ae93",
   "metadata": {},
   "outputs": [],
   "source": [
    "if __name__ == \"__main__\":\n",
    "    s = Solution()\n",
    "    matrix = [[1,1,1],[1,0,1],[1,1,1]]\n",
    "    s.setZeroes(matrix)\n",
    "    print(matrix)\n",
    "    matrix = [[0,1,2,0],[3,4,5,2],[1,3,1,5]]\n",
    "    s.setZeroes(matrix)\n",
    "    print(matrix)"
   ]
  }
 ],
 "metadata": {
  "jupytext": {
   "cell_metadata_filter": "-all",
   "encoding": "# -*- coding: utf-8 -*-",
   "executable": "/usr/bin/env python"
  },
  "kernelspec": {
   "display_name": "Python 3 (ipykernel)",
   "language": "python",
   "name": "python3"
  }
 },
 "nbformat": 4,
 "nbformat_minor": 5
}