{
 "cells": [
  {
   "cell_type": "markdown",
   "metadata": {},
   "source": "给你一个满足下述两条属性的 m x n 整数矩阵：\n\n每行中的整数从左到右按非严格递增顺序排列。\n每行的第一个整数大于前一行的最后一个整数。\n给你一个整数 target ，如果 target 在矩阵中，返回 true ；否则，返回 false 。\n\n \n\n示例 1：\n\n\n输入：matrix = [[1,3,5,7],[10,11,16,20],[23,30,34,60]], target = 3\n输出：true\n示例 2：\n\n\n输入：matrix = [[1,3,5,7],[10,11,16,20],[23,30,34,60]], target = 13\n输出：false"
  },
  {
   "cell_type": "code",
   "execution_count": null,
   "id": "eb6861fe",
   "metadata": {},
   "outputs": [],
   "source": "'''\n思路：二分查找的变种，右上角开始查找，如果大于 target,则对当前行做二分查找。\n'''\nclass Solution(object):\n    def searchMatrix(self, matrix, target):\n        \"\"\"\n        :type matrix: List[List[int]]\n        :type target: int\n        :rtype: bool\n        \"\"\"\n        m = len(matrix[0])\n        row = -1\n        for i in range(len(matrix)):\n            if matrix[i][m-1] >= target:\n                row = i\n                break\n        if row == -1:\n            return False\n        start = 0\n        end = m-1\n        while start <= end:\n            mid = int(start + (end-start)/2)\n            if matrix[row][mid] == target:\n                return True\n            elif matrix[row][mid] < target:\n                start = mid + 1\n            else:\n                end = mid - 1\n        return False\nif __name__ == \"__main__\":\n    s = Solution()\n    matrix = [[1,3,5,7],[10,11,16,20],[23,30,34,60]]\n    target = 3\n    print(s.searchMatrix(matrix, target))\n    target = 13\n    print(s.searchMatrix(matrix, target))"
  }
 ],
 "metadata": {
  "jupytext": {
   "cell_metadata_filter": "-all",
   "encoding": "# -*- coding: utf-8 -*-",
   "executable": "/usr/bin/env python"
  },
  "kernelspec": {
   "display_name": "Python 3 (ipykernel)",
   "language": "python",
   "name": "python3"
  }
 },
 "nbformat": 4,
 "nbformat_minor": 5
}