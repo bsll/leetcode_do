{
 "cells": [
  {
   "cell_type": "markdown",
   "metadata": {},
   "source": "给定一个经过编码的字符串，返回它解码后的字符串。\n\n编码规则为: k[encoded_string]，表示其中方括号内部的 encoded_string 正好重复 k 次。注意 k 保证为正整数。\n\n你可以认为输入字符串总是有效的；输入字符串中没有额外的空格，且输入的方括号总是符合格式要求的。\n\n此外，你可以认为原始数据不包含数字，所有的数字只表示重复的次数 k ，例如不会出现像 3a 或 2[4] 的输入。\n\n \n\n示例 1：\n\n输入：s = \"3[a]2[bc]\"\n输出：\"aaabcbc\"\n示例 2：\n\n输入：s = \"3[a2[c]]\"\n输出：\"accaccacc\"\n示例 3：\n\n输入：s = \"2[abc]3[cd]ef\"\n输出：\"abcabccdcdcdef\"\n示例 4：\n\n输入：s = \"abc3[cd]xyz\"\n输出：\"abccdcdcdxyz\"\n \n\n提示：\n\n1 <= s.length <= 30\ns 由小写英文字母、数字和方括号 '[]' 组成\ns 保证是一个 有效 的输入。\ns 中所有整数的取值范围为 [1, 300] "
  },
  {
   "cell_type": "code",
   "execution_count": null,
   "id": "a9dc1f95",
   "metadata": {
    "lines_to_next_cell": 1
   },
   "outputs": [],
   "source": "'''\n思路：暴力展开，根据进主栈保证[]\n数字存放在数字栈，字符串存放在字符串栈，遇到右括号时候弹出一个数字栈，字母栈弹到左括号为止。\n核心思路：\n遍历字符串：代码通过一个 while 循环遍历输入字符串 s 的每一个字符。\n处理数字：当遇到数字时，代码会解析出完整的数字（可能有多位），并将其压入 nums 栈中。\n处理左括号 [：当遇到左括号 [ 时，代码将当前的字符串 cur_str 压入 strs 栈中，并将 cur_str 重置为空字符串，准备处理嵌套的字符串。\n处理右括号 ]：当遇到右括号 ] 时，代码会从 nums 栈中弹出最近的一个数字 n，表示当前嵌套的字符串需要重复 n 次。然后，代码会将 cur_str 重复 n 次，并与 strs 栈顶的字符串拼接，形成新的 cur_str。\n处理普通字符：当遇到普通字符（非数字、非括号）时，代码会将其直接追加到 cur_str 中。\n返回结果：最终，cur_str 就是解码后的字符串，函数返回 cur_str。\n\n代码的关键点：\n栈的使用：nums 栈用于存储数字，strs 栈用于存储字符串。栈的特性（后进先出）非常适合处理嵌套结构。\n嵌套处理：通过栈的压入和弹出操作，代码能够处理多层嵌套的 k[encoded_string] 结构。\n字符串拼接：在遇到右括号 ] 时，代码会将当前字符串 cur_str 重复 n 次，并与栈顶的字符串拼接，形成新的 cur_str。\n'''\nclass Solution(object):\n    def decodeString(self, s):\n        \"\"\"\n        :type s: str\n        :rtype: str\n        \"\"\"\n        nums = []\n        strs = []\n        cur_str = \"\"\n        i = 0\n        while i < len(s):\n            if s[i].isdigit():\n                n = int(s[i])\n                i += 1\n                while s[i].isdigit():\n                    n = 10*n + int(s[i])\n                    i += 1\n                nums.append(n)\n                i = i-1\n            elif s[i] == '[':\n                strs.append(cur_str)\n                cur_str =\"\"\n            elif s[i] == ']':\n                tmp = \"\"\n                j = 0\n                n = nums[-1]\n                while j < n:\n                    tmp += cur_str\n                    j += 1\n                cur_str = tmp\n                nums.pop()\n                cur_str = strs[-1] + cur_str\n                strs.pop()\n            else:\n                cur_str += s[i]\n            i += 1\n        return cur_str"
  },
  {
   "cell_type": "code",
   "execution_count": null,
   "id": "8f37642e",
   "metadata": {},
   "outputs": [],
   "source": [
    "if __name__ == \"__main__\":\n",
    "    s = Solution()\n",
    "    print(s.decodeString(\"3[a]2[bc]\"))\n",
    "    print(s.decodeString(\"3[a2[c]]\"))\n",
    "    print(s.decodeString(\"100[leetcode]\"))"
   ]
  }
 ],
 "metadata": {
  "jupytext": {
   "cell_metadata_filter": "-all",
   "encoding": "# -*- coding: utf-8 -*-",
   "executable": "/usr/bin/env python"
  },
  "kernelspec": {
   "display_name": "Python 3 (ipykernel)",
   "language": "python",
   "name": "python3"
  }
 },
 "nbformat": 4,
 "nbformat_minor": 5
}