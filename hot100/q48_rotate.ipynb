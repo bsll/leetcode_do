{
 "cells": [
  {
   "cell_type": "markdown",
   "metadata": {},
   "source": "给定一个 n × n 的二维矩阵 matrix 表示一个图像。请你将图像顺时针旋转 90 度。\n\n你必须在 原地 旋转图像，这意味着你需要直接修改输入的二维矩阵。请不要 使用另一个矩阵来旋转图像。\n\n \n\n示例 1：\n\n\n输入：matrix = [[1,2,3],[4,5,6],[7,8,9]]\n输出：[[7,4,1],[8,5,2],[9,6,3]]\n示例 2：\n\n\n输入：matrix = [[5,1,9,11],[2,4,8,10],[13,3,6,7],[15,14,12,16]]\n输出：[[15,13,2,5],[14,3,4,1],[12,6,8,9],[16,7,10,11]]"
  },
  {
   "cell_type": "code",
   "execution_count": null,
   "id": "7881ffcc",
   "metadata": {
    "lines_to_next_cell": 1
   },
   "outputs": [],
   "source": "'''\n思路： 先水平翻转，再主对角线翻转\n'''\nfrom typing import List\nclass Solution:\n    def rotate(self, matrix: List[List[int]]) -> None:\n        \"\"\"\n        Do not return anything, modify matrix in-place instead.\n        \"\"\"\n        n = len(matrix)\n        # 水平翻转\n        for i in range(n//2):\n            for j in range(n):\n                matrix[i][j], matrix[n-i-1][j] = matrix[n-i-1][j], matrix[i][j]\n        #对角线反转\n        for i in range(n):\n            for j in range(i):\n                matrix[i][j],matrix[j][i] = matrix[j][i], matrix[i][j]"
  },
  {
   "cell_type": "code",
   "execution_count": null,
   "id": "d62c7893",
   "metadata": {},
   "outputs": [],
   "source": [
    "if __name__ == \"__main__\":\n",
    "    s = Solution()\n",
    "    matrix = [[1,2,3],[4,5,6],[7,8,9]]\n",
    "    s.rotate(matrix)\n",
    "    print(matrix)"
   ]
  }
 ],
 "metadata": {
  "jupytext": {
   "cell_metadata_filter": "-all",
   "encoding": "# -*- coding: utf-8 -*-",
   "executable": "/usr/bin/env python"
  },
  "kernelspec": {
   "display_name": "Python 3 (ipykernel)",
   "language": "python",
   "name": "python3"
  }
 },
 "nbformat": 4,
 "nbformat_minor": 5
}