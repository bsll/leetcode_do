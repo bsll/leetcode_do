{
 "cells": [
  {
   "cell_type": "markdown",
   "metadata": {},
   "source": "给定两个整数数组 preorder 和 inorder ，其中 preorder 是二叉树的先序遍历， inorder 是同一棵树的中序遍历，请构造二叉树并返回其根节点。"
  },
  {
   "cell_type": "code",
   "execution_count": null,
   "id": "55a3f6c9",
   "metadata": {
    "lines_to_next_cell": 1
   },
   "outputs": [],
   "source": "'''\n解题思路：利用先序遍历和中序遍历的特点，先序遍历的第一个节点是根节点，\n中序遍历中根节点左边的节点是左子树，\n右边的节点是右子树，然后递归构建左右子树。\n'''\nfrom utils import TreeNode,generate_tree\nclass Solution(object):\n    def buildTree(self, preorder, inorder):\n        def myBuildTree(preorder_left, preorder_right, inorder_left, inorder_right):\n            if preorder_left > preorder_right:\n                return None\n\n            # 前序遍历中的第一个节点就是根节点\n            root = TreeNode(preorder[preorder_left])\n            # 在中序遍历中定位根节点\n            root_index = 0\n            for i in range(inorder_left, inorder_right + 1):\n                if inorder[i] == root.val:\n                    root_index = i\n                    break\n            # 左子树的节点数目\n            left_size = root_index - inorder_left\n            # 递归构造左右子树\n            root.left = myBuildTree(preorder_left + 1, preorder_left + left_size, inorder_left, root_index - 1)\n            root.right = myBuildTree(preorder_left + left_size + 1, preorder_right, root_index + 1, inorder_right)\n            return root\n        return myBuildTree(0, len(preorder) - 1, 0, len(inorder) - 1)"
  },
  {
   "cell_type": "code",
   "execution_count": null,
   "id": "26a3c599",
   "metadata": {},
   "outputs": [],
   "source": [
    "if __name__ == '__main__':\n",
    "    s = Solution()\n",
    "    preorder = [3,9,20,15,7]\n",
    "    inorder = [9,3,15,20,7]\n",
    "    root = s.buildTree(preorder, inorder)\n",
    "    print(generate_tree(root))"
   ]
  }
 ],
 "metadata": {
  "jupytext": {
   "cell_metadata_filter": "-all",
   "encoding": "# -*- coding: utf-8 -*-",
   "executable": "/usr/bin/env python"
  },
  "kernelspec": {
   "display_name": "Python 3 (ipykernel)",
   "language": "python",
   "name": "python3"
  }
 },
 "nbformat": 4,
 "nbformat_minor": 5
}