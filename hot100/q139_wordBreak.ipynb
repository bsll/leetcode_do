{
 "cells": [
  {
   "cell_type": "markdown",
   "metadata": {},
   "source": "给你一个字符串 s 和一个字符串列表 wordDict 作为字典。如果可以利用字典中出现的一个或多个单词拼接出 s 则返回 true。\n\n注意：不要求字典中出现的单词全部都使用，并且字典中的单词可以重复使用。\n\n \n\n示例 1：\n\n输入: s = \"leetcode\", wordDict = [\"leet\", \"code\"]\n输出: true\n解释: 返回 true 因为 \"leetcode\" 可以由 \"leet\" 和 \"code\" 拼接成。\n示例 2：\n\n输入: s = \"applepenapple\", wordDict = [\"apple\", \"pen\"]\n输出: true\n解释: 返回 true 因为 \"applepenapple\" 可以由 \"apple\" \"pen\" \"apple\" 拼接成。\n     注意，你可以重复使用字典中的单词。\n示例 3：\n\n输入: s = \"catsandog\", wordDict = [\"cats\", \"dog\", \"sand\", \"and\", \"cat\"]\n输出: false\n \n\n提示：\n\n1 <= s.length <= 300\n1 <= wordDict.length <= 1000\n1 <= wordDict[i].length <= 20\ns 和 wordDict[i] 仅由小写英文字母组成\nwordDict 中的所有字符串 互不相同"
  },
  {
   "cell_type": "code",
   "execution_count": null,
   "id": "b1790734",
   "metadata": {},
   "outputs": [],
   "source": "'''\n思路：\n这两层循环遍历字符串 s 的每一个位置：\n\t•\t外层循环遍历字符串的每个结束位置 i。\n\t•\t内层循环遍历每个可能的起始位置 j，对于每个 j，检查 dp[j] 是否为 True（即 s[0:j] 是否可以分割成字典中的单词），并且 s[j:i] 是否是字典中的一个单词。\n\t•\t如果这两个条件都满足，表示 s[0:i] 可以通过分割出字典中的单词，因此将 dp[i] 设置为 True，并跳出内层循环。\n    dp 初始条件：dp[0] = True\n    for j in range(i):\n        #前面是true, 后面的在字典里面，说明是有效的字符串\n        if dp[j] and s[j:i] in tmpdict:\n            dp[i] = True\n            break\n'''\nclass Solution(object):\n    def wordBreak(self, s, wordDict):\n        \"\"\"\n        :type s: str\n        :type wordDict: List[str]\n        :rtype: bool\n        \"\"\"\n        tmpdict = {}\n        for item in wordDict:\n            tmpdict[item] = True\n        n = len(s)\n        dp = [False] * (n + 1)\n        dp[0] = True\n        for i in range(1, n + 1):\n            for j in range(i):\n                if dp[j] and s[j:i] in tmpdict:\n                    dp[i] = True\n                    break\n        return dp[-1]\nif __name__ == \"__main__\":\n    s = Solution()\n    print(s.wordBreak(\"leetcode\", [\"leet\",\"code\"]))"
  }
 ],
 "metadata": {
  "jupytext": {
   "cell_metadata_filter": "-all",
   "encoding": "# -*- coding: utf-8 -*-",
   "executable": "/usr/bin/env python"
  },
  "kernelspec": {
   "display_name": "Python 3 (ipykernel)",
   "language": "python",
   "name": "python3"
  }
 },
 "nbformat": 4,
 "nbformat_minor": 5
}