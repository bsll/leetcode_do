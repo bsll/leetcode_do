{
 "cells": [
  {
   "cell_type": "markdown",
   "metadata": {},
   "source": "给你一个整数数组 nums 和一个整数 k ，请你统计并返回 该数组中和为 k 的子数组的个数 。\n子数组是数组中元素的连续非空序列。\n\n示例 1：\n\n输入：nums = [1,1,1], k = 2\n输出：2\n示例 2：\n\n输入：nums = [1,2,3], k = 3\n输出：2\n\n提示：\n\n1 <= nums.length <= 2 * 104\n-1000 <= nums[i] <= 1000\n-107 <= k <= 107"
  },
  {
   "cell_type": "code",
   "execution_count": null,
   "id": "9013a684",
   "metadata": {
    "lines_to_next_cell": 1
   },
   "outputs": [],
   "source": "'''\n解题思路：\n'''"
  },
  {
   "cell_type": "code",
   "execution_count": null,
   "id": "77d3c8c7",
   "metadata": {
    "lines_to_next_cell": 1
   },
   "outputs": [],
   "source": [
    "class Solution(object):\n",
    "    def subarraySum(self, nums, k):\n",
    "        \"\"\"\n",
    "        :type nums: List[int]\n",
    "        :type k: int\n",
    "        :rtype: int\n",
    "        \"\"\"\n",
    "        m = len(nums)\n",
    "        sum = 0\n",
    "        num = 0\n",
    "        from collections import defaultdict\n",
    "        s = defaultdict(int)\n",
    "        for i in range(m):\n",
    "            sum += nums[i]\n",
    "            #如果等于k,说明找到一个 ,num+1, 这个是正着看的\n",
    "            if sum == k:\n",
    "                num += 1\n",
    "            #如果sum-k在s中，说明存在一个子数组，其和为sum-k，那么这个子数组的和加上nums[i]就是k\n",
    "            #这个是回头看的，因为 sum越加越多，需要回头找\n",
    "            if (sum - k) in s:\n",
    "                num += s[sum-k]\n",
    "            s[sum] += 1\n",
    "        return num"
   ]
  },
  {
   "cell_type": "code",
   "execution_count": null,
   "id": "d2426362",
   "metadata": {},
   "outputs": [],
   "source": [
    "if __name__ == '__main__':\n",
    "    sou = Solution()\n",
    "    nums = [1,1,1,1]\n",
    "    k = 2\n",
    "    print(sou.subarraySum(nums,k))"
   ]
  }
 ],
 "metadata": {
  "jupytext": {
   "cell_metadata_filter": "-all",
   "encoding": "# -*- coding: utf-8 -*-",
   "executable": "/usr/bin/env python"
  },
  "kernelspec": {
   "display_name": "Python 3 (ipykernel)",
   "language": "python",
   "name": "python3"
  }
 },
 "nbformat": 4,
 "nbformat_minor": 5
}