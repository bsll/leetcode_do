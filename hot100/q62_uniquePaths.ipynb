{
 "cells": [
  {
   "cell_type": "markdown",
   "metadata": {},
   "source": "一个机器人位于一个 m x n 网格的左上角 （起始点在下图中标记为 “Start” ）。\n\n机器人每次只能向下或者向右移动一步。机器人试图达到网格的右下角（在下图中标记为 “Finish” ）。\n\n问总共有多少条不同的路径？\n\n \n\n示例 1：\n\n\n输入：m = 3, n = 7\n输出：28\n示例 2：\n\n输入：m = 3, n = 2\n输出：3\n解释：\n从左上角开始，总共有 3 条路径可以到达右下角。\n1. 向右 -> 向下 -> 向下\n2. 向下 -> 向下 -> 向右\n3. 向下 -> 向右 -> 向下\n示例 3：\n\n输入：m = 7, n = 3\n输出：28\n示例 4：\n\n输入：m = 3, n = 3\n输出：6"
  },
  {
   "cell_type": "code",
   "execution_count": null,
   "id": "986c3c38",
   "metadata": {
    "lines_to_next_cell": 2
   },
   "outputs": [],
   "source": "'''\n思路： 动态规划 d[m][n] = d[m-1][n] + d[m][n-1]\n'''\nclass Solution(object):\n    def uniquePaths(self, m, n):\n        \"\"\"\n        :type m: int\n        :type n: int\n        :rtype: int\n        \"\"\"\n        arr = [[ 1 for i in range(n)] for j in range(m)]\n        for i in range(1,m):\n            for j in range(1,n):\n                arr[i][j] = arr[i-1][j] + arr[i][j-1] \n        return arr[m-1][n-1]\nif __name__ == \"__main__\":\n    s = Solution()\n    print(s.uniquePaths(3,7))\n    print(s.uniquePaths(3,2))"
  }
 ],
 "metadata": {
  "jupytext": {
   "cell_metadata_filter": "-all",
   "encoding": "# -*- coding: utf-8 -*-",
   "executable": "/usr/bin/env python"
  },
  "kernelspec": {
   "display_name": "Python 3 (ipykernel)",
   "language": "python",
   "name": "python3"
  }
 },
 "nbformat": 4,
 "nbformat_minor": 5
}