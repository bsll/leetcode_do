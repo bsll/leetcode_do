{
 "cells": [
  {
   "cell_type": "markdown",
   "metadata": {},
   "source": "给定一个包含非负整数的 m x n 网格 grid ，请找出一条从左上角到右下角的路径，使得路径上的数字总和为最小。\n\n说明：每次只能向下或者向右移动一步。\n\n \n\n示例 1：\n\n\n输入：grid = [[1,3,1],[1,5,1],[4,2,1]]\n输出：7\n解释：因为路径 1→3→1→1→1 的总和最小。\n示例 2：\n\n输入：grid = [[1,2,3],[4,5,6]]\n输出：12"
  },
  {
   "cell_type": "code",
   "execution_count": null,
   "id": "88004f40",
   "metadata": {
    "lines_to_next_cell": 1
   },
   "outputs": [],
   "source": "'''\n思路：动态规划 f(i,j) = min(f(i-1,j),f(i,j-1)) + grid[i][j]\n'''\nclass Solution(object):\n    def minPathSum(self, grid):\n        \"\"\"\n        :type grid: List[List[int]]\n        :rtype: int\n        \"\"\"\n        m,n = len(grid) ,len(grid[0])\n        grid[0][0] = grid[0][0]\n        for i in range(1,m):\n            grid[i][0] = grid[i][0] + grid[i-1][0]\n        for j in range(1,n):\n            grid[0][j] = grid[0][j] + grid[0][j-1]\n        for i in range(1,m):\n            for j in range(1,n):\n                grid[i][j] = grid[i][j] + min(grid[i-1][j],grid[i][j-1])\n        return grid[m-1][n-1]"
  },
  {
   "cell_type": "code",
   "execution_count": null,
   "id": "f5a155d3",
   "metadata": {
    "lines_to_next_cell": 2
   },
   "outputs": [],
   "source": [
    "if __name__ == '__main__':\n",
    "    s = Solution()\n",
    "    print(s.minPathSum([[1,3,1],[1,5,1],[4,2,1]]))\n",
    "    print(s.minPathSum([[1,2,3],[4,5,6]]))\n",
    "    print(s.minPathSum([[0]]))"
   ]
  }
 ],
 "metadata": {
  "jupytext": {
   "cell_metadata_filter": "-all",
   "encoding": "# -*- coding: utf-8 -*-",
   "executable": "/usr/bin/env python"
  },
  "kernelspec": {
   "display_name": "Python 3 (ipykernel)",
   "language": "python",
   "name": "python3"
  }
 },
 "nbformat": 4,
 "nbformat_minor": 5
}