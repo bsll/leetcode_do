{
 "cells": [
  {
   "cell_type": "markdown",
   "metadata": {},
   "source": "给你一个字符串 s，最多 可以从中删除一个字符。\n\n请你判断 s 是否能成为回文字符串：如果能，返回 true ；否则，返回 false 。\n\n示例 1：\n\n输入：s = \"aba\"\n输出：true\n示例 2：\n\n输入：s = \"abca\"\n输出：true\n解释：你可以删除字符 'c' 。\n示例 3：\n\n输入：s = \"abc\"\n输出：false\n \n提示：\n\n1 <= s.length <= 105\ns 由小写英文字母组成"
  },
  {
   "cell_type": "code",
   "execution_count": null,
   "id": "3cf0d421",
   "metadata": {
    "lines_to_next_cell": 1
   },
   "outputs": [],
   "source": "'''\n思路:首先从左右开始判断是不是回文串，如果不是，从终止的地方左移一位，或者右移一位继续判断\n'''"
  },
  {
   "cell_type": "code",
   "execution_count": null,
   "id": "2cd0c4a4",
   "metadata": {
    "lines_to_next_cell": 1
   },
   "outputs": [],
   "source": [
    "class Solution(object):\n",
    "    def check(self,s,l,r):\n",
    "        while l <= r:\n",
    "            if s[l] == s[r]:\n",
    "                l += 1\n",
    "                r -= 1\n",
    "            else:\n",
    "                return False\n",
    "        return True\n",
    "    def validPalindrome(self, s):\n",
    "        \"\"\"\n",
    "        :type s: str\n",
    "        :rtype: bool\n",
    "        \"\"\"\n",
    "        left = 0\n",
    "        right = len(s) -1\n",
    "        while left < right:\n",
    "            if s[left] == s[right]:\n",
    "                left += 1\n",
    "                right -= 1\n",
    "            else:\n",
    "                break\n",
    "        return self.check(s,left+1,right) or self.check(s,left,right-1)"
   ]
  },
  {
   "cell_type": "code",
   "execution_count": null,
   "id": "b8fc915c",
   "metadata": {},
   "outputs": [],
   "source": [
    "if __name__ == \"__main__\":\n",
    "    sou = Solution()\n",
    "    s = \"abc\"\n",
    "    print(sou.validPalindrome(s))"
   ]
  }
 ],
 "metadata": {
  "jupytext": {
   "cell_metadata_filter": "-all",
   "encoding": "# -*- coding: utf-8 -*-",
   "executable": "/usr/bin/env python"
  },
  "kernelspec": {
   "display_name": "Python 3 (ipykernel)",
   "language": "python",
   "name": "python3"
  }
 },
 "nbformat": 4,
 "nbformat_minor": 5
}