{
 "cells": [
  {
   "cell_type": "markdown",
   "metadata": {},
   "source": "给定两个数组 nums1 和 nums2 ，返回 它们的交集 。输出结果中的每个元素一定是 唯一 的。我们可以 不考虑输出结果的顺序 。\n\n \n\n示例 1：\n\n输入：nums1 = [1,2,2,1], nums2 = [2,2]\n输出：[2]\n示例 2：\n\n输入：nums1 = [4,9,5], nums2 = [9,4,9,8,4]\n输出：[9,4]\n解释：[4,9] 也是可通过的\n \n\n提示：\n\n1 <= nums1.length, nums2.length <= 1000\n0 <= nums1[i], nums2[i] <= 1000\n\n来源：力扣（LeetCode）\n链接：https://leetcode.cn/problems/intersection-of-two-arrays\n著作权归领扣网络所有。商业转载请联系官方授权，非商业转载请注明出处。"
  },
  {
   "cell_type": "code",
   "execution_count": null,
   "id": "6e751838",
   "metadata": {
    "lines_to_next_cell": 1
   },
   "outputs": [],
   "source": "'''\n解题思路：\n1、直接暴力，取两个数组里面短的，然后取另一个数组去查，查过的数做标记，查完了事\n\n2、把数据放到字典里面，可以查的更快点，牺牲空间换时间\n\n3、set思路：直接set求交集\n'''\nclass Solution(object):\n    def intersection(self, nums1, nums2):\n        \"\"\"\n        :type nums1: List[int]\n        :type nums2: List[int]\n        :rtype: List[int]\n        \"\"\"\n        return list(set(nums1) & set(nums2))"
  },
  {
   "cell_type": "code",
   "execution_count": null,
   "id": "1db8e56d",
   "metadata": {},
   "outputs": [],
   "source": [
    "if __name__ == \"__main__\":\n",
    "    soultion = Solution()\n",
    "    nums1 = [1,2,2,1]\n",
    "    nums2 = [2,2]\n",
    "    print(soultion.intersection(nums1,nums2))\n",
    "    nums1 = [4,9,5]\n",
    "    nums2 = [9,4,9,8,4]\n",
    "    print(soultion.intersection(nums1,nums2))"
   ]
  }
 ],
 "metadata": {
  "jupytext": {
   "cell_metadata_filter": "-all",
   "encoding": "# -*- coding: utf-8 -*-",
   "executable": "/usr/bin/env python"
  },
  "kernelspec": {
   "display_name": "Python 3 (ipykernel)",
   "language": "python",
   "name": "python3"
  }
 },
 "nbformat": 4,
 "nbformat_minor": 5
}