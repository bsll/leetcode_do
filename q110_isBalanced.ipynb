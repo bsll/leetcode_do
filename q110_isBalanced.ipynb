{
 "cells": [
  {
   "cell_type": "markdown",
   "metadata": {},
   "source": "给定一个二叉树，判断它是否是 平衡二叉树"
  },
  {
   "cell_type": "code",
   "execution_count": null,
   "id": "59ffab89",
   "metadata": {},
   "outputs": [],
   "source": "'''\n解题思路：1、递归判断左右字数的最大深度，如果左右子树的最大深度差小于等于1，则返回True，否则返回False\n         2、深度遍历\n'''\n#class Solution(object):\n#    def deepth(self,root):\n#            if not root:\n#                return 0\n#            return max(self.deepth(root.left),self.deepth(root.right)) + 1\n#    def isBalanced(self, root):\n#        \"\"\"\n#        :type root: TreeNode\n#        :rtype: bool\n#        \"\"\"\n#        if not root:\n#            return True\n#        return abs(self.deepth(root.left) - self.deepth(root.right)) <= 1 and self.isBalanced(root.left) and self.isBalanced(root.right)\nclass Solution(object):\n    def isBalanced(self, root):\n        def dfs(root):\n            if not root:\n                return 0\n            left = dfs(root.left)\n            right = dfs(root.right)\n            if left == -1 or right == -1:\n                return -1\n            if abs(left-right) <= 1:\n                return max(left,right) + 1\n            else:\n                return -1\n        if dfs(root) != -1:\n            return True\n        else:\n            return False"
  }
 ],
 "metadata": {
  "jupytext": {
   "cell_metadata_filter": "-all",
   "encoding": "# -*- coding: utf-8 -*-",
   "executable": "/usr/bin/env python"
  },
  "kernelspec": {
   "display_name": "Python 3 (ipykernel)",
   "language": "python",
   "name": "python3"
  }
 },
 "nbformat": 4,
 "nbformat_minor": 5
}